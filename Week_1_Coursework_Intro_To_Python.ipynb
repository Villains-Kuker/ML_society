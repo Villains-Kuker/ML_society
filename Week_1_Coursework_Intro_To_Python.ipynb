{
  "nbformat": 4,
  "nbformat_minor": 0,
  "metadata": {
    "colab": {
      "provenance": [],
      "include_colab_link": true
    },
    "kernelspec": {
      "name": "python3",
      "display_name": "Python 3"
    },
    "language_info": {
      "name": "python"
    }
  },
  "cells": [
    {
      "cell_type": "markdown",
      "metadata": {
        "id": "view-in-github",
        "colab_type": "text"
      },
      "source": [
        "<a href=\"https://colab.research.google.com/github/Villains-Kuker/ML_society/blob/main/Week_1_Coursework_Intro_To_Python.ipynb\" target=\"_parent\"><img src=\"https://colab.research.google.com/assets/colab-badge.svg\" alt=\"Open In Colab\"/></a>"
      ]
    },
    {
      "cell_type": "markdown",
      "source": [
        "# UCLAI: Introduction To Python - Coursework\n",
        "\n",
        "\n"
      ],
      "metadata": {
        "id": "1OU4c3aeCJHY"
      }
    },
    {
      "cell_type": "markdown",
      "metadata": {
        "id": "4cbb7b27"
      },
      "source": [
        "## Part 1: Data Generation and Plotting\n",
        "\n",
        "In this part, you will practice using **variables**, **functions**, and **importing libraries** to generate and plot some data. This will be a simple dataset for linear regression, which we will study next week.\n",
        "\n",
        "First, let's refresh our understanding of **variables**. Variables are used to store data values. You can think of them as named containers for information."
      ]
    },
    {
      "cell_type": "code",
      "metadata": {
        "id": "6cc6ba34"
      },
      "source": [
        "# Let's define some variables for our data generation\n",
        "slope = 4\n",
        "intercept = -2\n",
        "std = 5\n",
        "n = 50\n",
        "\n",
        "# We also need to import the numpy library to work with arrays and random numbers.\n",
        "# We use the 'import' keyword followed by the library name.\n",
        "# We can also give it a shorter alias using 'as'.\n",
        "import numpy as np\n",
        "\n",
        "# You will need to import matplotlib, a library for plotting in python.\n",
        "import matplotlib.pyplot as plt"
      ],
      "execution_count": null,
      "outputs": []
    },
    {
      "cell_type": "markdown",
      "metadata": {
        "id": "049bbe4f"
      },
      "source": [
        "You will implement two functions: `generate_data` and `plot_data`.\n",
        "\n",
        "The `generate_data` function should take the number of data points `n`, a `slope`, an `intercept`, and a `std` as input, and return a generated `x` and `y` arrays. The `x` array should consist of uniformly distributed random points from (-10, 10). The `y` array should be such that each element $y$ in the array follows a linear relationship with respect to $x$, with some error.\n",
        "\n",
        "The relationship between $x$ and $y$ is defined by the equation:\n",
        "\n",
        "\\begin{align*} y = mx + b + \\epsilon \\end{align*}\n",
        "\n",
        "Where:\n",
        "- $m$ is the `slope`, which determines how much $y$ changes for a unit change in $x$.\n",
        "- $b$ is the `intercept`, which is the value of $y$ when $x$ is 0.\n",
        "- $\\epsilon$ follows a **normal** distribution over (0, `std`).\n",
        "- $x$ follows a **uniform** distribution over (-10, 10).\n",
        "\n",
        "$\\epsilon$ represents the error term. In real-world data, observations rarely fall perfectly on a straight line due to various factors like measurement errors or unmodeled influences. This error term accounts for that variability. $\\epsilon$ is a normally distributed error, meaning the errors are centered around zero and most errors are small, with larger errors being less frequent. The standard deviation `std` parameter controls the spread of this error; a higher standard deviation means the errors are more spread out, leading to more scattered data points around the line.\n",
        "\n",
        "You will need to look into numpy's random number generated error:\n",
        "https://numpy.org/doc/2.2/reference/random/generator.html\n",
        "\n",
        "The `plot_data` function should take the `x` and `y` arrays as input and plot them using the `matplotlib` library. You will need to research how to use `matplotlib` for plotting.\n",
        "\n",
        "You will need to look into matplotlib.pyplot.plot:\n",
        "https://matplotlib.org/stable/api/_as_gen/matplotlib.pyplot.plot.html\n",
        "\n",
        "The result should look like this:\n",
        "\n",
        "![Untitled.png](data:image/png;base64,iVBORw0KGgoAAAANSUhEUgAAAi4AAAGdCAYAAAA1/PiZAAAAOnRFWHRTb2Z0d2FyZQBNYXRwbG90bGliIHZlcnNpb24zLjEwLjAsIGh0dHBzOi8vbWF0cGxvdGxpYi5vcmcvlHJYcgAAAAlwSFlzAAAPYQAAD2EBqD+naQAAMHFJREFUeJzt3X90VPWd//HXBEkCkkwMvyZowIgtGCMqWGLoV2oVBeuyWqlrFbZiKVY2uCqerlLPmsZ2F6scWetatD2KPYv113arS1tR/IWrRlB+rIZfFTb8zgQFmUQ0CWQ+3z9wxkwyvzMz996Z5+OcnNPcuTP5XG7TvHo/78/74zLGGAEAADhAntUDAAAAiBfBBQAAOAbBBQAAOAbBBQAAOAbBBQAAOAbBBQAAOAbBBQAAOAbBBQAAOMYJVg+gr/x+v/bv36+ioiK5XC6rhwMAAOJgjFFbW5tGjBihvLz4n6M4Prjs379f5eXlVg8DAAAkYc+ePTrllFPiPt/xwaWoqEjS8QsvLi62eDQAACAera2tKi8vD/4dj5fjg0tgeqi4uJjgAgCAwyRa5kFxLgAAcAyCCwAAcIyMBZd7771XLpdLt956a/BYe3u7amtrNXjwYA0aNEgzZsxQS0tLpoYEAAAcJiPB5b333tOjjz6qcePGhRy/7bbbtGLFCj333HNavXq19u/fr6uuuioTQwIAAA6U9uDy2WefaebMmfrtb3+rk046KXjc5/Ppscce0wMPPKCLLrpIEyZM0LJly/TOO+/o3XffTfewAACAA6U9uNTW1uryyy/XlClTQo6vW7dOR48eDTk+duxYjRw5Ug0NDRE/r6OjQ62trSFfAAAgN6R1OfTTTz+t9evX67333uv1mtfrVX5+vkpKSkKODx8+XF6vN+JnLlq0SPX19akeKgAAcIC0PXHZs2ePbrnlFj355JMqLCxM2ecuXLhQPp8v+LVnz56UfTYAALC3tD1xWbdunQ4cOKDx48cHj3V1denNN9/Uv//7v+ull15SZ2enDh8+HPLUpaWlRR6PJ+LnFhQUqKCgIF3DBgAAkrr8RmubDulAW7uGFRVqYkWp+uVZvydg2oLLxRdfrA8//DDk2A033KCxY8fqjjvuUHl5ufr3769XX31VM2bMkCRt27ZNu3fvVk1NTbqGBQAAYljZ2Kz6FZvV7GsPHitzF6pueqWmVZVZOLI0BpeioiJVVVWFHDvxxBM1ePDg4PE5c+ZowYIFKi0tVXFxsW6++WbV1NTo/PPPT9ewAABAFCsbmzVv+XqZHse9vnbNW75eS2eNtzS8WLpX0ZIlS5SXl6cZM2aoo6NDU6dO1a9//WsrhwQAQM7q8hvVr9jcK7RIkpHkklS/YrMuqfRYNm3kMsaEG59jtLa2yu12y+fzsckiAAB90LDjoK79bexeak/NPV81owf36Wcl+/ebvYoAAIAk6UBbe+yTEjgvHQguAABAkjSsKL72JfGelw4EFwAAIEmaWFGqMnehIlWvuHR8ddHEitJMDisEwQUAAEiS+uW5VDe9UpJ6hZfA93XTKy3t50JwAQAAQdOqyrR01nh53KHTQR53oeVLoSWLl0MDAIDMi9UVd1pVmS6p9ORW51wAAGA/8XbF7Zfn6vOS53RgqggAgBwR6IrbPbRIX3XFXdnYbNHI4kdwAQAgB8Tqiisd74rb5bd3X1qCCwAAOWBt06FeT1q6M5Kafe1a23Qoc4NKAsEFAIAc4ISuuPEguAAAkAOc0BU3HgQXAABygBO64saD4AIAQA5wQlfceBBcAADIEXbvihsPGtABAJBD7NwVNx4EFwAAcoxdu+LGg+ACAEAWirUfkVMRXAAAyDLx7kfkRBTnAgCQRbJhP6JoCC4AAGSJbNmPKBqCCwAAWSJb9iOKhuACAECWyJb9iKIhuAAAkCWyZT+iaAguAABkiWzZjygaggsAAFkiW/YjiobgAgBAGnT5jRp2HNQLG/epYcfBjK3kyYb9iKKhAR0AAClmdQM4p+9HFI3LGOPcxdySWltb5Xa75fP5VFxcbPVwAAA5LtAArucf10BkyIanHqmQ7N9vpooAAEiRXGgAZzWCCwAAKZILDeCsRnABACBFcqEBnNUILgAApEguNICzGsEFAIAUyYUGcFYjuAAAkCK50ADOagQXAABSKNsbwFmNBnQAAKRYNjeAsxrBBQCANOiX51LN6MFWDyPrEFwAAIhDl9/wBMUGCC4AAMRg9d5D+ArFuQAARBHYe6hnR1yvr13zlq/XysZmi0aWmwguAABEwN5D9kNwAQAgAvYesh+CCwAAEbD3kP0QXAAAiIC9h+yH4AIAQATsPWQ/BBcAACJg7yH7IbgAABAFew/ZCw3oAACIgb2H7IPgAgBAHNh7yB6YKgIAAI5BcAEAAI5BcAEAAI5BjQsAIC5dfkNxKixHcAEAxLSysVn1KzaH7NtT5i5U3fRKlgMjo5gqAgBEtbKxWfOWr++12aDX1655y9drZWOzRSNDLiK4AAAi6vIb1a/YLBPmtcCx+hWb1eUPdwaQegQXAEBEa5sO9XrS0p2R1Oxr19qmQ5kbFHIawQUAENGBtsihJZnzgL4iuAAAIhpWVBj7pATOA/qK4AIAiGhiRanK3IW9dkYOcOn46qKJFaWZHBZyGMEFABBRvzyX6qZXSlKv8BL4vm56Jf1ckDEEFwBAVNOqyrR01nh53KHTQR53oZbOGk8fF2QUDegAADFNqyrTJZUeOufCcgQXAEBc+uW5VDN6sNXDQI5jqggAADgGwQUAADgGwQUAADgGwQUAADhGWoPLokWL9I1vfENFRUUaNmyYrrzySm3bti3knPb2dtXW1mrw4MEaNGiQZsyYoZaWlnQOCwAAOFRag8vq1atVW1urd999V6tWrdLRo0d16aWX6siRI8FzbrvtNq1YsULPPfecVq9erf379+uqq65K57AAAIBDuYwxGduL/OOPP9awYcO0evVqTZ48WT6fT0OHDtXvf/97fe9735Mkbd26VWeccYYaGhp0/vnnx/zM1tZWud1u+Xw+FRcXp/sSAAA5ostv6FuTRsn+/c5oHxefzydJKi09vqfFunXrdPToUU2ZMiV4ztixYzVy5MiIwaWjo0MdHR3B71tbW9M8agBArlnZ2Kz6FZvV7Ptq1+syd6HqplfSKdhiGSvO9fv9uvXWW/XNb35TVVVVkiSv16v8/HyVlJSEnDt8+HB5vd6wn7No0SK53e7gV3l5ebqHDgDIISsbmzVv+fqQ0CJJXl+75i1fr5WNzRaNDFIGg0ttba0aGxv19NNP9+lzFi5cKJ/PF/zas2dPikYIAMh1XX6j+hWbFa6GInCsfsVmdfkzVmWBHjISXObPn68//elPev3113XKKacEj3s8HnV2durw4cMh57e0tMjj8YT9rIKCAhUXF4d8AQCQCmubDvV60tKdkdTsa9fapkOZGxRCpDW4GGM0f/58/fGPf9Rrr72mioqKkNcnTJig/v3769VXXw0e27Ztm3bv3q2ampp0Dg0AgF4OtEUOLcmch9RLa3FubW2tfv/73+uFF15QUVFRsG7F7XZrwIABcrvdmjNnjhYsWKDS0lIVFxfr5ptvVk1NTVwrigAASKVhRYUpPQ+pl9bgsnTpUknShRdeGHJ82bJlmj17tiRpyZIlysvL04wZM9TR0aGpU6fq17/+dTqHBQBAWBMrSlXmLpTX1x62zsUlyeM+vjQa1shoH5d0oI8LACCVAquKJIWEl0AHl6WzxrMkOgWS/fvNXkUAAHQzrapMS2eNl8cdOh3kcRcSWmwgow3oAABwgmlVZbqk0kPnXBsiuAAAEEa/PJdqRg+2ehjogakiAADgGAQXAADgGAQXAADgGAQXAADgGAQXAADgGKwqAgAEdfkNS4BhawQXAICk4x1j61dsDtkducxdqLrplUk3XSMIIdUILgCAYJv7nnvAeH3tmrd8fVIdY9MRhABqXAAgx3X5jepXbA67qWDgWP2Kzeryx7+1XSAIdQ8t0ldBaGVjc/IDRk4juABAjlvbdKhXwOjOSGr2tWtt06G4Pi8dQQgIILgAQI470BY5tCRzXqqDENAdwQUActywosLYJyVwXqqDENAdwQUActzEilKVuQsVaa2PS8eLaidWlMb1eakOQkB3BBcAyHH98lyqm14pSb3CS+D7uumVcS9jTnUQArojuAAANK2qTEtnjZfHHfoUxOMuTHgpdKqDENCdyxjj6LLu1tZWud1u+Xw+FRcXWz0cAHC0eBrGxdtUjj4uiCbZv98EFwBA3BINI3TORSQEF4ILAKRVpO66gRiSTHdd5K5k/35T4wIAiImmcrALggsAICaaysEu2GQRABBTMk3lqG9BOhBcACCHxRsuEm0qx4oipAvBBQByVCLhItBUzutrD1vn4tLxni8TK0ojFvEGdoamiBd9QY0LAOSgQLjoWbcSCBcrG5tDjsfbVE4SRbxIK4ILAOSYZFcIxdNdlyJepBtTRQCQYxIJFzWjB4e8Nq2qTJdUeiLWxbAzNNKN4AIAOaav4aJfnqtXoAlgZ2ikG1NFAJBj0hku2Bka6UZwAYAck85wwc7QSDeCCwDkmHSHi3iKeIFksckiAOSodDeJo3MuomF3aIILACSMcAGrJPv3m1VFAJDDoq0QAuyIGhcAAOAYBBcAAOAYTBUBgE1RfwL0RnABABtK94ofwKmYKgIAm0l052YglxBcAMBGkt25GcgVBBcAsJFEdm4GchHBBQBspK87NwPZjuACADaSzp2bgWxAcAEAG0nnzs1ANiC4AICNpHvnZsDpCC4AEKcuv1HDjoN6YeM+New4mLaVPdOqyrR01nh53KHTQR53oZbOGk8fF+Q0GtABQBwy0RCuZ6fc1T/5ttbt+pTOuUA3BBcAiCHQEK7n85VAQ7hUPAWJFoyuOOfkPn02kE2YKgKAKDLREI5OuUD8CC4AEEW6G8LRKRdIDMEFQMZlqsg1FdLdEI5OuUBiqHEBkFHhajlKT+yv755zsqZUemxXgJruhnB0ygUSQ3ABkDGRilwPHTmqx97eqcfe3pnylTp9FWgI5/W1h53Ocen4MuVkG8LRKRdIDFNFADIiWi1Hd3YrSE13Qzg65QKJIbgAyIhYtRwBdixITWdDODrlAolhqghARiRSo9G9ILVm9OD0DSoB06rKdEmlJ6RBXKrqcQLBqGftj8dm02aAHRBcAGREMjUaVhWk9uxgGwgo/fJcaQtS6QxGQDYhuADIiFhFruFYUZCaidb+kaQzGAHZghoXABnRvZYjFqsKUulgC9gfwQVAxgRqOcrckZ+kWFWQSgdbwBmYKgKQUd1rOVZt9ur5jft16Ehn8HWrClIT6WDLdA5gHYILgIwL1HLUjB6suy6vtEVBKh1sAWcguACwlF0KUulgCzgDNS4AIDrYAk5BcAEA0cEWcAqCCwB8KZ2t/QGkBjUuANBNvB1sI3XXBZBeBBcA6CFWwbCV3XWBXGeLqaKHH35Yp556qgoLC1VdXa21a9daPSQACIvuuoC1LA8uzzzzjBYsWKC6ujqtX79eZ599tqZOnaoDBw5YPTQACEF3XcB6lgeXBx54QHPnztUNN9ygyspKPfLIIxo4cKAef/xxq4cGwMa6/EYNOw7qhY371LDjYEbCQiLddQGkh6U1Lp2dnVq3bp0WLlwYPJaXl6cpU6aooaEh7Hs6OjrU0dER/L61tTXt4wRgL1bVmNBdF7CepU9cPvnkE3V1dWn48OEhx4cPHy6v1xv2PYsWLZLb7Q5+lZeXZ2KoAGzCyhoTuusC1rN8qihRCxculM/nC37t2bPH6iEByBCra0zorgtYz9LgMmTIEPXr108tLS0hx1taWuTxeMK+p6CgQMXFxSFfAHKD1TUm3bvr9kR3XSAzLA0u+fn5mjBhgl599dXgMb/fr1dffVU1NTUWjgyAHdmlxsQ9sH+vYyUD+9NdF8gAyxvQLViwQNdff73OO+88TZw4Uf/2b/+mI0eO6IYbbrB6aABsxuoak0B9TbiJqE8/P5qWnwkglOXB5ZprrtHHH3+su+++W16vV+ecc45WrlzZq2AXAAI1Jl5fe9jw4NLxfYXSUWMSrb4m8LPrV2zWJZUepoqANLJFce78+fO1a9cudXR0aM2aNaqurrZ6SABsyModnK2urwFwnC2CCwDEy6odnO1SXwPkOsunigAgUfHu4BxJMjs7W11fA+A4ggsAR4q1g3MkyXbdtbK+BsBXmCoCkDP60nXXyvoaAF8huADICanoumtVfQ2ArzBVBCAnJLIqKNoUVF/rawD0DcEFQE5I5aqgZOtrAPQdU0UAcgKrgoDsQHABkBPY2RnIDgQXADmBVUFAdiC4AMgZrAoCnI/iXAB9kkwXWiuxKghwNoILgKQl24XWaqwKApyLqSIASelLF1oASBbBBXCwLr9Rw46DemHjPjXsOBi162uqf25fu9ACQDKYKgIcysppmlR1oQWARPHEBXAgq6dpUtmFFgASQXABHMYO0zR0oQVgFYIL4DCJTNOkC11oAViF4AI4zCubvXGdl85pGrrQArAKwQVwkJWNzXrs7Z1xnZvuaRq60AKwAquKAIcI1LbE4tLx8JCJaRq60ALINIIL4BCxalsCjDI7TUMXWgCZRHABwrDj/jvx1qz88JunxpymseP1AUA8CC5AD3bdfyfempVLKj1RX7fr9QFAPCjOBbqxurFbNKlYghzr+h585aOMbx8AAIngiQvwpViN3Vw63tjtkkqPJdMqgSXI85avl0sKGWc8S5DjaVy35JW/Bo9l8ikMU1cA4kVwAb7khP13AkuQe071eOIIGfEW9wYEnsKke2kzU1cAEkFwAb7klP13kl2CnOi4M/GUKTB11fMpUKZCEwDnIbgAX3LS/jvJLEFOZtyxnjL1ZYrH7lNzAOyJ4AJ8KVD86vW1h/1jmsnGbukQ6/qiCfe0pq9TPE6YmgNgP6wqAr5kl/13uvxGDTsOpnx1T7Tri6Xn05pUrL5Kx9Rcuv7tANgHT1yAbvpS/JoK6S5UjXR9kYR7ypSqKZ5UT81R5AvkBpcxxtH/l6S1tVVut1s+n0/FxcVWDwdZworluZEKVQM/NZWFqt2vb+cnR7TklY8iLrHu+XMbdhzUtb99N+bPeGru+VGneLr8Rv/vl6/FnJp7646LYv7bZ/LfDkBqJPv3mycuQBiZ3n8n04WqPa9vjKco7qdMqZri6WtfmgCKfIHcQnABMizc0xyrC1UTWWKdyimeVEzNWf1vByCzCC5ABgTCykubmvWH9fvU1n4s+FqZu1CXVUXfXyggnT1k4n3KlOrVV8n2pQlwSv8dAKlBcAHSLFzRaHfNvnY9/vbOuD7LLj1kUjHF0/Mzk30a4qT+OwD6juXQQBpFWjYcTrS/8/FsoJhJgSkejzs0DHjchRkvhE3F5pMAnIMnLkAfRFt9FK1oNJxAy5FUPcVIt75O8aRKOp4AAbAvgguQpFh9QxLd1FCS5nzzVP2l0WtJD5lkZHr1VSRW998BkDkEFyAJ8WwO2HHMn/DnTqn06KeXV1r+FMOJ7PIECEB6EVyABMXbN2Tx985O6HNLT+wf/ENrh6cYTsS/HZD9KM4FEhRv3xC/MSo9sX/cn/uLK6p4OgAAMfDEBUhQvP1Abn5qgw5/cTSuc388uULfGTeiL8MCgJxAcAESFG8/kHhCy+AT8/XzK6r0nXEUjwJAPAguQIJidY6NpbjwBP1s+pkqKxkQtXjUio0eAcDuCC5AgqL1DYlHa/sxlZUMiFpEGmupNQDkKopzgSRE6hxbMjC+YtxodTKRuu0GllqvbGxOfMAAkCV44gIkKVzfEL/faOZja2K+N1KdTLxLrS+p9DBtBCAnEVyAPujZN6TLb/q0c3K8S63XNh2iXwmAnMRUEZBCgfoXSb02/Ytn35x4l1rHex4AZBuCC5Bifdk5Od6l1vGeBwDZhqkiIA2S3Tcn1lLrWFNNAJDtCC5AmiSzb060pdbxTDUBQLZjqgiwmb5MNQFAtuOJC2BDyU41AUC2I7gANpXMVBMAZDumigAAgGMQXAAAgGMQXAAAgGMQXAAAgGMQXAAAgGMQXAAAgGMQXAAAgGMQXAAAgGMQXAAAgGMQXAAAgGMQXAAAgGOkJbjs3LlTc+bMUUVFhQYMGKDRo0errq5OnZ2dIed98MEHuuCCC1RYWKjy8nLdd9996RgOAADIEmnZZHHr1q3y+/169NFHdfrpp6uxsVFz587VkSNHtHjxYklSa2urLr30Uk2ZMkWPPPKIPvzwQ/3whz9USUmJbrzxxnQMCwAAOJzLGGMy8YPuv/9+LV26VP/3f/8nSVq6dKnuuusueb1e5efnS5LuvPNOPf/889q6dWvcn9va2iq32y2fz6fi4uK0jB0AAKRWsn+/M1bj4vP5VFpaGvy+oaFBkydPDoYWSZo6daq2bdumTz/9NFPDAgAADpKWqaKetm/froceeig4TSRJXq9XFRUVIecNHz48+NpJJ50U9rM6OjrU0dER/L61tTUNI4YVuvxGa5sO6UBbu4YVFWpiRan65bmsHhYAwEYSCi533nmnfvnLX0Y9Z8uWLRo7dmzw+3379mnatGm6+uqrNXfu3ORG2c2iRYtUX1/f58+BvaxsbFb9is1q9rUHj5W5C1U3vVLTqsosHBkAwE4SqnH5+OOPdfDgwajnnHbaacHpn/379+vCCy/U+eefryeeeEJ5eV/NTP3gBz9Qa2urnn/++eCx119/XRdddJEOHTqU0BOX8vJyalwcbGVjs+YtX6+e/0UMPGtZOms84QUAskyyNS4JPXEZOnSohg4dGte5+/bt07e//W1NmDBBy5YtCwktklRTU6O77rpLR48eVf/+/SVJq1at0pgxYyKGFkkqKChQQUFBIsOGjXX5jepXbO4VWiTJ6Hh4qV+xWZdUepg2AgCkpzh33759uvDCCzVy5EgtXrxYH3/8sbxer7xeb/Cc6667Tvn5+ZozZ442bdqkZ555Rg8++KAWLFiQjiHBptY2HQqZHurJSGr2tWtt06HMDQoAYFtpKc5dtWqVtm/fru3bt+uUU04JeS0wM+V2u/Xyyy+rtrZWEyZM0JAhQ3T33XfTwyXHHGiLHFqSOQ8AkN3SElxmz56t2bNnxzxv3Lhx+p//+Z90DAEOMayoMK7zdn5yJC0/n5VMAOAsGVkODUQysaJUnuJCeVujP1F5au1uzb/oaykNFaxkAgDnYZNFWKpfnkvXThwZ8zxva0ewzqXLb9Sw46Be2LhPDTsOqsufePPnwEqmnvU1Xl+75i1fr5WNzQl/JgAg/XjiAsudOmRgXOcdaGtPyVMSVjIBgHPxxAWWS6TOJRVPSVjJBADORXCB5SZWlKrMXahIzzZcOv5U5am1uyM+JZGOPyWJZ9qIlUwA4FwEF1iuX55LddMrJalXeAl8//1vjJS3tUORJPKUJN4nPPGeBwDIHIIL+iwVxbLTqsq0dNZ4edyhYcHjLtTSWeMTqoOJJd4nPBMrSiOcAQCwCsW56JNULimeVlWmSyo9YfuqNOyIvkdWQDxPSQJPeOYtXy+XFDL9FAgzddMrKcwFABviiQuSlo4lxf3yXKoZPVhXnHOyakYPDoaHVD8lifWEhz4uAGBPPHFBUjK9pDgdT0miPeGR6KoLAHZEcEFSEllSXDN6cEp+ZuApSc+pKU8fut0GnvD0RFddALAngguSYtWS4lhPSVIhMAXW82lSYAqMqSQAsA7BBUmxcklxpKckqUBXXQCwN4pzkZRYxbKSVDKwv/x+k9Ty6FRJdKk2XXUBwN544oKkRCuWDTj8+VHNfGyNZbUhydSp0FUXAOyNJy5IWqQlxT1ZseNysku16aoLAPZGcEGfTKsq01t3XKQnf1StkgH9w56T6F5CfRWrTiXaWOiqCwD2RnBBn/XLcynP5dLhL45GPCeTtSF9qVOJZ98kuuoCgHUILkgJO9WG9HUsdNUFAPuiOBcpYafakFSMJRP9YgAAiSO4ICUCtSFeX3vY2hKXjj+xyERtSGAs0aaLJOnTIx1RX09nvxgAQHKYKkJK2Kk2pF+eS/98eWXM837+5y2W9pgBACSO4IKUsVNtyEkn5sc8h0ZyAOA8TBUhpexSG2KnYmEAQOoQXJBydqgNsVOxMAAgdZgqQlaikRwAZCeCC7KSnYqFAQCpQ3BB1rJTsTAAIDWocUFWs0uxMAAgNQguyHp2KBYGAKQGU0UAAMAxCC4AAMAxCC4AAMAxqHGxiS6/oYAUAIAYCC42sLKxWfUrNofsZlzmLlTd9EqW7AIA0A1TRRZb2disecvXh4QWSfL62jVv+XqtbGy2aGQAANgPwcVCXX6j+hWbZcK8FjhWv2KzuvzhzgAAIPcQXCy0tulQryct3RlJzb52rW06lLlBAQBgYwQXCx1oixxakjkPAIBsR3Cx0LCiwtgnJXAeAADZjuBioYkVpSpzF/bavTjApeOriyZWlGZyWAAA2BbBxUL98lyqm14pSb3CS+D7uumV9HMBAOBLBBeLTasq09JZ4+Vxh04HedyFWjprPH1cAADohgZ0EWSyk+20qjJdUumhcy4AADEQXMKwopNtvzyXakYPTstnAwCQLZgq6oFOtgAA2BfBpRs62QIAYG8El27oZAsAgL0RXLqhky0AAPZGcOmGTrYAANgbwaUbOtkCAGBvBJdu6GQLAIC9EVx6oJMtAAD2RQO6MOhkCwCAPRFcIqCTLQAA9sNUEQAAcAyCCwAAcAyCCwAAcAyCCwAAcAyCCwAAcAyCCwAAcAyCCwAAcAyCCwAAcAyCCwAAcAyCCwAAcAyCCwAAcAyCCwAAcAyCCwAAcAyCCwAAcAyCCwAAcIy0B5eOjg6dc845crlc2rhxY8hrH3zwgS644AIVFhaqvLxc9913X7qHAwAAHCztweWf/umfNGLEiF7HW1tbdemll2rUqFFat26d7r//fv3sZz/Tb37zm3QPCQAAONQJ6fzwF198US+//LL+8Ic/6MUXXwx57cknn1RnZ6cef/xx5efn68wzz9TGjRv1wAMP6MYbb0znsAAAgEOl7YlLS0uL5s6dq//4j//QwIEDe73e0NCgyZMnKz8/P3hs6tSp2rZtmz799NOIn9vR0aHW1taQLwAAkBvSElyMMZo9e7ZuuukmnXfeeWHP8Xq9Gj58eMixwPderzfiZy9atEhutzv4VV5enrqBAwAAW0souNx5551yuVxRv7Zu3aqHHnpIbW1tWrhwYcoHvHDhQvl8vuDXnj17Uv4zAACAPSVU43L77bdr9uzZUc857bTT9Nprr6mhoUEFBQUhr5133nmaOXOmfve738nj8ailpSXk9cD3Ho8n4ucXFBT0+lwAAJAbEgouQ4cO1dChQ2Oe96tf/Uq/+MUvgt/v379fU6dO1TPPPKPq6mpJUk1Nje666y4dPXpU/fv3lyStWrVKY8aM0UknnZTIsAAAQI5Iy6qikSNHhnw/aNAgSdLo0aN1yimnSJKuu+461dfXa86cObrjjjvU2NioBx98UEuWLEnHkAAAQBZI63LoaNxut15++WXV1tZqwoQJGjJkiO6++26WQgMAgIhcxhhj9SD6orW1VW63Wz6fT8XFxVYPBwAAxCHZv9/sVQQAAByD4AIAAByD4AIAAByD4AIAAByD4AIAAByD4AIAAByD4AIAAByD4AIAAByD4AIAABzDspb/dtblN1rbdEgH2to1rKhQEytK1S/PZfWwAADIeQSXHlY2Nqt+xWY1+9qDx8rchaqbXqlpVWUWjgwAADBV1M3KxmbNW74+JLRIktfXrnnL12tlY7NFIwMAABLBJajLb1S/YrPC7TgZOFa/YrO6/I7ekxIAAEcjuHxpbdOhXk9aujOSmn3tWtt0KHODAgAAIQguXzrQFjm0JHMeAABIPYLLl4YVFab0PAAAkHoEly9NrChVmbtQkRY9u3R8ddHEitJMDgsAAHRDcPlSvzyX6qZXSlKv8BL4vm56Jf1cAACwEMGlm2lVZVo6a7w87tDpII+7UEtnjaePCwAAFqMBXQ/Tqsp0SaWHzrkAANgQwSWMfnku1YwebPUwAABAD0wVAQAAxyC4AAAAxyC4AAAAxyC4AAAAxyC4AAAAxyC4AAAAxyC4AAAAxyC4AAAAxyC4AAAAx3B851xjjCSptbXV4pEAAIB4Bf5uB/6Ox8vxwaWtrU2SVF5ebvFIAABAotra2uR2u+M+32USjTo24/f7tX//fhUVFcnlCr8RYmtrq8rLy7Vnzx4VFxdneISZlUvXKuXW9ebStUq5db25dK1Sbl1vLl2rlNj1GmPU1tamESNGKC8v/soVxz9xycvL0ymnnBLXucXFxTnxXxwpt65Vyq3rzaVrlXLrenPpWqXcut5culYp/utN5ElLAMW5AADAMQguAADAMXIiuBQUFKiurk4FBQVWDyXtculapdy63ly6Vim3rjeXrlXKrevNpWuVMnO9ji/OBQAAuSMnnrgAAIDsQHABAACOQXABAACOQXABAACOkRXB5V/+5V80adIkDRw4UCUlJWHP2b17ty6//HINHDhQw4YN009+8hMdO3Ys6uceOnRIM2fOVHFxsUpKSjRnzhx99tlnabiC5L3xxhtyuVxhv957772I77vwwgt7nX/TTTdlcOTJO/XUU3uN/d577436nvb2dtXW1mrw4MEaNGiQZsyYoZaWlgyNODk7d+7UnDlzVFFRoQEDBmj06NGqq6tTZ2dn1Pc56d4+/PDDOvXUU1VYWKjq6mqtXbs26vnPPfecxo4dq8LCQp111ln6y1/+kqGRJm/RokX6xje+oaKiIg0bNkxXXnmltm3bFvU9TzzxRK97WFhYmKER983PfvazXmMfO3Zs1Pc48b5K4f+3yOVyqba2Nuz5Truvb775pqZPn64RI0bI5XLp+eefD3ndGKO7775bZWVlGjBggKZMmaKPPvoo5ucm+nvfU1YEl87OTl199dWaN29e2Ne7urp0+eWXq7OzU++8845+97vf6YknntDdd98d9XNnzpypTZs2adWqVfrTn/6kN998UzfeeGM6LiFpkyZNUnNzc8jXj370I1VUVOi8886L+t65c+eGvO++++7L0Kj77p577gkZ+8033xz1/Ntuu00rVqzQc889p9WrV2v//v266qqrMjTa5GzdulV+v1+PPvqoNm3apCVLluiRRx7RT3/605jvdcK9feaZZ7RgwQLV1dVp/fr1OvvsszV16lQdOHAg7PnvvPOOrr32Ws2ZM0cbNmzQlVdeqSuvvFKNjY0ZHnliVq9erdraWr377rtatWqVjh49qksvvVRHjhyJ+r7i4uKQe7hr164MjbjvzjzzzJCxv/XWWxHPdep9laT33nsv5DpXrVolSbr66qsjvsdJ9/XIkSM6++yz9fDDD4d9/b777tOvfvUrPfLII1qzZo1OPPFETZ06Ve3t7RE/M9Hf+7BMFlm2bJlxu929jv/lL38xeXl5xuv1Bo8tXbrUFBcXm46OjrCftXnzZiPJvPfee8FjL774onG5XGbfvn0pH3uqdHZ2mqFDh5p77rkn6nnf+ta3zC233JKZQaXYqFGjzJIlS+I+//Dhw6Z///7mueeeCx7bsmWLkWQaGhrSMML0ue+++0xFRUXUc5xybydOnGhqa2uD33d1dZkRI0aYRYsWhT3/7/7u78zll18ecqy6utr8+Mc/Tus4U+3AgQNGklm9enXEcyL9b5kT1NXVmbPPPjvu87PlvhpjzC233GJGjx5t/H5/2NedfF8lmT/+8Y/B7/1+v/F4POb+++8PHjt8+LApKCgwTz31VMTPSfT3PpyseOISS0NDg8466ywNHz48eGzq1KlqbW3Vpk2bIr6npKQk5KnFlClTlJeXpzVr1qR9zMn67//+bx08eFA33HBDzHOffPJJDRkyRFVVVVq4cKE+//zzDIwwNe69914NHjxY5557ru6///6o037r1q3T0aNHNWXKlOCxsWPHauTIkWpoaMjEcFPG5/OptLQ05nl2v7ednZ1at25dyD3Jy8vTlClTIt6ThoaGkPOl47/HTryHkmLex88++0yjRo1SeXm5rrjiioj/W2VHH330kUaMGKHTTjtNM2fO1O7duyOemy33tbOzU8uXL9cPf/jDiBv+Ss6+r901NTXJ6/WG3Du3263q6uqI9y6Z3/twHL/JYjy8Xm9IaJEU/N7r9UZ8z7Bhw0KOnXDCCSotLY34Hjt47LHHNHXq1JgbT1533XUaNWqURowYoQ8++EB33HGHtm3bpv/6r//K0EiT94//+I8aP368SktL9c4772jhwoVqbm7WAw88EPZ8r9er/Pz8XvVPw4cPt/W97Gn79u166KGHtHjx4qjnOeHefvLJJ+rq6gr7e7l169aw74n0e+yke+j3+3Xrrbfqm9/8pqqqqiKeN2bMGD3++OMaN26cfD6fFi9erEmTJmnTpk1xbyprlerqaj3xxBMaM2aMmpubVV9frwsuuECNjY0qKirqdX423FdJev7553X48GHNnj074jlOvq89Be5PIvcumd/7cGwbXO6880798pe/jHrOli1bYhZ9OVUy179371699NJLevbZZ2N+fvdanbPOOktlZWW6+OKLtWPHDo0ePTr5gScpketdsGBB8Ni4ceOUn5+vH//4x1q0aJEj2monc2/37dunadOm6eqrr9bcuXOjvtdu9xZfqa2tVWNjY9SaD0mqqalRTU1N8PtJkybpjDPO0KOPPqqf//zn6R5mn1x22WXB/zxu3DhVV1dr1KhRevbZZzVnzhwLR5Zejz32mC677DKNGDEi4jlOvq92Ytvgcvvtt0dNrpJ02mmnxfVZHo+nV9VyYEWJx+OJ+J6exULHjh3ToUOHIr4nlZK5/mXLlmnw4MH627/924R/XnV1taTj/6/eij9ufbnf1dXVOnbsmHbu3KkxY8b0et3j8aizs1OHDx8OeerS0tKSkXvZU6LXun//fn3729/WpEmT9Jvf/Cbhn2f1vQ1nyJAh6tevX6+VXdHuicfjSeh8u5k/f36wyD/R/3fdv39/nXvuudq+fXuaRpc+JSUl+vrXvx5x7E6/r5K0a9cuvfLKKwk/1XTyfQ3cn5aWFpWVlQWPt7S06Jxzzgn7nmR+78NKrDzH3mIV57a0tASPPfroo6a4uNi0t7eH/axAce77778fPPbSSy/ZtjjX7/ebiooKc/vttyf1/rfeestIMv/7v/+b4pGl3/Lly01eXp45dOhQ2NcDxbn/+Z//GTy2detWRxTn7t2713zta18z3//+982xY8eS+gy73tuJEyea+fPnB7/v6uoyJ598ctTi3L/5m78JOVZTU2P7Ik6/329qa2vNiBEjzF//+tekPuPYsWNmzJgx5rbbbkvx6NKvra3NnHTSSebBBx8M+7pT72t3dXV1xuPxmKNHjyb0PifdV0Uozl28eHHwmM/ni6s4N5Hf+7BjSWzo9rRr1y6zYcMGU19fbwYNGmQ2bNhgNmzYYNra2owxx//LUVVVZS699FKzceNGs3LlSjN06FCzcOHC4GesWbPGjBkzxuzduzd4bNq0aebcc881a9asMW+99Zb52te+Zq699tqMX188XnnlFSPJbNmypddre/fuNWPGjDFr1qwxxhizfft2c88995j333/fNDU1mRdeeMGcdtppZvLkyZkedsLeeecds2TJErNx40azY8cOs3z5cjN06FDzgx/8IHhOz+s1xpibbrrJjBw50rz22mvm/fffNzU1NaampsaKS4jb3r17zemnn24uvvhis3fvXtPc3Bz86n6OU+/t008/bQoKCswTTzxhNm/ebG688UZTUlISXP3393//9+bOO+8Mnv/222+bE044wSxevNhs2bLF1NXVmf79+5sPP/zQqkuIy7x584zb7TZvvPFGyD38/PPPg+f0vNb6+nrz0ksvmR07dph169aZ73//+6awsNBs2rTJiktIyO23327eeOMN09TUZN5++20zZcoUM2TIEHPgwAFjTPbc14Curi4zcuRIc8cdd/R6zen3ta2tLfj3VJJ54IEHzIYNG8yuXbuMMcbce++9pqSkxLzwwgvmgw8+MFdccYWpqKgwX3zxRfAzLrroIvPQQw8Fv4/1ex+PrAgu119/vZHU6+v1118PnrNz505z2WWXmQEDBpghQ4aY22+/PSQdv/7660aSaWpqCh47ePCgufbaa82gQYNMcXGxueGGG4JhyG6uvfZaM2nSpLCvNTU1hfx77N6920yePNmUlpaagoICc/rpp5uf/OQnxufzZXDEyVm3bp2prq42brfbFBYWmjPOOMP867/+a8iTs57Xa4wxX3zxhfmHf/gHc9JJJ5mBAwea7373uyEBwI6WLVsW9r/X3R+UOv3ePvTQQ2bkyJEmPz/fTJw40bz77rvB1771rW+Z66+/PuT8Z5991nz96183+fn55swzzzR//vOfMzzixEW6h8uWLQue0/Nab7311uC/y/Dhw813vvMds379+swPPgnXXHONKSsrM/n5+ebkk08211xzjdm+fXvw9Wy5rwEvvfSSkWS2bdvW6zWn39fA38WeX4Fr8vv95p//+Z/N8OHDTUFBgbn44ot7/TuMGjXK1NXVhRyL9nsfD5cxxsQ/sQQAAGCdnOjjAgAAsgPBBQAAOAbBBQAAOAbBBQAAOAbBBQAAOAbBBQAAOAbBBQAAOAbBBQAAOAbBBQAAOAbBBQAAOAbBBQAAOAbBBQAAOMb/B7VrxbV70NT3AAAAAElFTkSuQmCC)"
      ]
    },
    {
      "cell_type": "code",
      "metadata": {
        "id": "134b1044"
      },
      "source": [
        "def generate_data(n, slope, intercept, std):\n",
        "  # Your code here\n",
        "  return [], []\n",
        "\n",
        "def plot_data(x,y):\n",
        "  # Your code here\n",
        "  pass\n",
        "\n",
        "# Now, let's use our functions to generate and plot data\n",
        "x_generated, y_generated = generate_data(n, slope, intercept, std)\n",
        "plot_data(x_generated, y_generated)"
      ],
      "execution_count": null,
      "outputs": []
    },
    {
      "cell_type": "markdown",
      "metadata": {
        "id": "80b3a4f9"
      },
      "source": [
        "### Follow-ups:\n",
        "\n",
        "1. Experiment with different values for `slope`, `intercept`, and `variance` in the `generate_data` function. How do these changes affect the generated data and the plot?\n",
        "2. Modify the `generate_data` function to generate data based on a different relationship, for example, $y = 2\\pi \\sin(x) + \\text{error}$. You might need to research trigonometric functions in `numpy`.\n",
        "3. Research other plotting options in `matplotlib`. Can you add labels to the axes or a title to the plot?"
      ]
    },
    {
      "cell_type": "markdown",
      "metadata": {
        "id": "23edc4f7"
      },
      "source": [
        "## Part 2: Dice Roll Simulation\n",
        "\n",
        "In this part, you will use **for loops** to simulate rolling a dice multiple times and calculate the average result. This will give you a practical understanding of how to repeat actions in Python and explore concepts related to probability.\n",
        "\n",
        "First, let's briefly revisit **for loops**. A `for` loop is used for iterating over a sequence (like a list or a range of numbers). It allows you to execute a block of code repeatedly for each item in the sequence.\n",
        "\n",
        "You will create a function called `simulate_dice_rolls` that takes the number of rolls (`n`) as input and returns the average result of these rolls."
      ]
    },
    {
      "cell_type": "code",
      "metadata": {
        "id": "f61f1060"
      },
      "source": [
        "import random\n",
        "\n",
        "def simulate_dice_rolls(n):\n",
        "  # Your code\n",
        "  return 0\n",
        "\n",
        "# Let's test our function\n",
        "average_roll = simulate_dice_rolls(10)\n",
        "print(f\"The average result of 10 rolls is: {average_roll}\")"
      ],
      "execution_count": null,
      "outputs": []
    },
    {
      "cell_type": "markdown",
      "metadata": {
        "id": "545e8182"
      },
      "source": [
        "### Follow-up Questions and Exercises:\n",
        "\n",
        "1. Call the `simulate_dice_rolls` function with different values for `n` (e.g., 1, 5, 10, 200, 1000). What do you observe about the average result as `n` increases? Does it approach a specific value? What do you expect the average result of many dice rolls to be?\n",
        "2. How could you modify the function to simulate rolling two dice and returning the average of their sum? How about three dice?\n",
        "3. (Optional) Can you analytically calculate the expected average result of rolling one die? Does it match the result you observed in your simulations, especially for large values of `n`? This is related to the **Law of Large Numbers**.\n",
        "4. (Optional) Can you plot the average result against the number of rolls (`n`) to visualize how the average converges as `n` increases? You might want to use a list to store the averages for different `n` values and then use `matplotlib` to plot."
      ]
    },
    {
      "cell_type": "markdown",
      "metadata": {
        "id": "752fe4ab"
      },
      "source": [
        "## Part 3: Word Guessing Game\n",
        "\n",
        "For the last part of this coursework, you will create a command-line word guessing game. This project will allow you to consolidate your understanding of **loops** (both `for` and `while`), **conditional statements** (`if`, `elif`, `else`), and working with **strings** and **lists**.\n",
        "\n",
        "The goal is to create an interactive game where the user tries to guess a hidden word letter by letter within a limited number of attempts. We have provided a code skeleton below to help you get started. Your task is to complete the game logic within the `word_guessing_game` function. Pay close attention to the `TODO` comments, which outline the specific steps you need to implement."
      ]
    },
    {
      "cell_type": "code",
      "metadata": {
        "id": "977958bc"
      },
      "source": [
        "import random\n",
        "\n",
        "def select_random_word():\n",
        "  \"\"\"Returns a random word.\"\"\"\n",
        "  # TODO: Create a function that outputs a random word from the english dictionary.\n",
        "  return \"machine learning\"\n",
        "\n",
        "def display_word_progress(word, guessed_letters):\n",
        "  \"\"\"Displays the word with underscores for unguessed letters.\"\"\"\n",
        "  display = \"\"\n",
        "  for letter in word:\n",
        "    if letter in guessed_letters:\n",
        "      display += letter\n",
        "    else:\n",
        "      display += \"_ \"\n",
        "  return display\n",
        "\n",
        "def word_guessing_game():\n",
        "  \"\"\"Implements the main logic of the word guessing game.\"\"\"\n",
        "  word_to_guess = select_random_word()\n",
        "  guessed_letters = []\n",
        "  attempts = 10\n",
        "\n",
        "  print(\"Welcome to the Word Guessing Game!\")\n",
        "  print(display_word_progress(word_to_guess, guessed_letters))\n",
        "\n",
        "  while attempts > 0:\n",
        "    guess = input(\"Guess a letter: \").lower()\n",
        "\n",
        "    # --- TODO: Implement the game logic here ---\n",
        "    # 1. Validate the input: Check if it's a single letter and if it has not already been guessed.\n",
        "    #    Provide feedback to the user if the input is invalid.\n",
        "    # 2. Add the valid guessed letter to the 'guessed_letters' list.\n",
        "    # 3. Check if the guessed letter is in the 'word_to_guess'.\n",
        "    # 4. If the letter is NOT in the word, decrement the 'attempts' counter.\n",
        "    #    Provide feedback to the user (e.g., \"Incorrect guess!\").\n",
        "    # 5. Display the current progress of the word using 'display_word_progress'.\n",
        "    # 6. Check for winning condition: If the displayed word progress no longer contains underscores,\n",
        "    #    the player has won. Print a congratulatory message and break the loop.\n",
        "    # 7. Check for losing condition: If 'attempts' reaches 0, the player has lost.\n",
        "    #    Print a losing message and reveal the word.\n",
        "    # --- End of TODO ---\n",
        "\n",
        "# Start the game\n",
        "word_guessing_game()"
      ],
      "execution_count": null,
      "outputs": []
    }
  ]
}