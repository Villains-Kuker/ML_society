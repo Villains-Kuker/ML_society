{
  "cells": [
    {
      "cell_type": "markdown",
      "metadata": {
        "id": "view-in-github",
        "colab_type": "text"
      },
      "source": [
        "<a href=\"https://colab.research.google.com/github/Villains-Kuker/ML_society/blob/main/1_1_introduction_to_python.ipynb\" target=\"_parent\"><img src=\"https://colab.research.google.com/assets/colab-badge.svg\" alt=\"Open In Colab\"/></a>"
      ]
    },
    {
      "cell_type": "markdown",
      "metadata": {
        "collapsed": false,
        "id": "_EcUEc6FRsVJ"
      },
      "source": [
        "# UCLAIS: Introduction to Python\n",
        "\n",
        "Python is a popular high-level, dynamically typed, general-purpose programming language that supports a variety of different programming paradigms, including notably object-oriented programming. In particular, Python has been heavily adopted by the machine learning community and is blessed with a large ecosystem of tools and libraries for artificial intelligence and scientific computing more broadly.\n",
        "\n",
        "## The Zen of Python, by Tim Peters\n",
        "\n",
        "Before diving into Python syntax, it is worth mentioning that Python as a programming language was designed with a number of guiding principles codified in the poem _The Zen of Python_ by Tim Peters. This code philosophy continues to influence the design and implementation of Python code today, and it is worth bearing in mind."
      ]
    },
    {
      "cell_type": "code",
      "execution_count": 6,
      "metadata": {
        "id": "v5wJs6JLRsVK",
        "outputId": "d82137f3-cede-440b-fc5d-ab9d3f25e53d",
        "colab": {
          "base_uri": "https://localhost:8080/"
        }
      },
      "outputs": [
        {
          "output_type": "stream",
          "name": "stdout",
          "text": [
            "The Zen of Python, by Tim Peters\n",
            "\n",
            "Beautiful is better than ugly.\n",
            "Explicit is better than implicit.\n",
            "Simple is better than complex.\n",
            "Complex is better than complicated.\n",
            "Flat is better than nested.\n",
            "Sparse is better than dense.\n",
            "Readability counts.\n",
            "Special cases aren't special enough to break the rules.\n",
            "Although practicality beats purity.\n",
            "Errors should never pass silently.\n",
            "Unless explicitly silenced.\n",
            "In the face of ambiguity, refuse the temptation to guess.\n",
            "There should be one-- and preferably only one --obvious way to do it.\n",
            "Although that way may not be obvious at first unless you're Dutch.\n",
            "Now is better than never.\n",
            "Although never is often better than *right* now.\n",
            "If the implementation is hard to explain, it's a bad idea.\n",
            "If the implementation is easy to explain, it may be a good idea.\n",
            "Namespaces are one honking great idea -- let's do more of those!\n"
          ]
        }
      ],
      "source": [
        "import this"
      ]
    },
    {
      "cell_type": "markdown",
      "metadata": {
        "collapsed": false,
        "id": "rsArQgKZRsVK"
      },
      "source": [
        "Bearing in mind that 'readability counts', it is generally good practice to adopt a consistent style for writing Python code. The standard in the Python community since 2001 has been [PEP 8](https://peps.python.org/pep-0008/), and we would encourage you when you set up your environment to use an automatic code formatter, such as [Black](https://github.com/psf/black), to help format your code consistently."
      ]
    },
    {
      "cell_type": "markdown",
      "metadata": {
        "collapsed": false,
        "id": "wnN9wqzORsVL"
      },
      "source": [
        "## Basic Syntax\n",
        "\n",
        "### Comments"
      ]
    },
    {
      "cell_type": "code",
      "execution_count": 7,
      "metadata": {
        "id": "jIEKEI1rRsVL",
        "outputId": "1204a3b6-0121-4204-d624-4e927d0384a2",
        "colab": {
          "base_uri": "https://localhost:8080/",
          "height": 53
        }
      },
      "outputs": [
        {
          "output_type": "execute_result",
          "data": {
            "text/plain": [
              "'\\n    Multi-line strings look like this. When freestanding like this,\\n    they are typically used for documentation.\\n\\n    Properly documenting your code is especially important if you are\\n    working in a team (or even on your own over a long period).\\n'"
            ],
            "application/vnd.google.colaboratory.intrinsic+json": {
              "type": "string"
            }
          },
          "metadata": {},
          "execution_count": 7
        }
      ],
      "source": [
        "# Single-line comments look like this!\n",
        "# Everything after the '#' character on the same line is ignored.\n",
        "\n",
        "\"\"\"\n",
        "    Multi-line strings look like this. When freestanding like this,\n",
        "    they are typically used for documentation.\n",
        "\n",
        "    Properly documenting your code is especially important if you are\n",
        "    working in a team (or even on your own over a long period).\n",
        "\"\"\""
      ]
    },
    {
      "cell_type": "markdown",
      "metadata": {
        "collapsed": false,
        "id": "b2LgOPVRRsVL"
      },
      "source": [
        "## The Data Model\n",
        "\n",
        "Core to programming is dealing with **data** (particularly as it relates to real-world problems you are trying to solve). As such, we need **abstractions** that let us reason about and represent data in code, whether we are handling numbers or text.\n",
        "\n",
        "In Python, all data is represented by **objects** and the relations between them. Every object has the following:\n",
        "- an **identity**, which is a unique integer _identifying_ the object;\n",
        "- a **type** defining what the object represents and by extension the operations it supports; and\n",
        "- a **value**.\n",
        "\n",
        "The type and identity of an object never change once an object has been created and are also objects themselves. 👀\n",
        "\n",
        "## Built-in Types\n",
        "\n",
        "Python comes with many different built-in types, including numerics, sequences, mappings, classes, instances and exceptions. We are now going to get to know a few!\n",
        "\n",
        "### Numeric Types"
      ]
    },
    {
      "cell_type": "code",
      "execution_count": 8,
      "metadata": {
        "id": "5T1F8PJwRsVL",
        "outputId": "3a78294b-ffe2-4e8f-c065-b11dc0a13a24",
        "colab": {
          "base_uri": "https://localhost:8080/"
        }
      },
      "outputs": [
        {
          "output_type": "execute_result",
          "data": {
            "text/plain": [
              "4"
            ]
          },
          "metadata": {},
          "execution_count": 8
        }
      ],
      "source": [
        "# Integers (Python integers have unlimited precision!)\n",
        "4  # => 4"
      ]
    },
    {
      "cell_type": "code",
      "execution_count": 9,
      "metadata": {
        "id": "AU3jsO6tRsVL",
        "outputId": "629e6b8e-8c4d-435f-a049-13fdd5cf11ff",
        "colab": {
          "base_uri": "https://localhost:8080/"
        }
      },
      "outputs": [
        {
          "output_type": "execute_result",
          "data": {
            "text/plain": [
              "1000000000"
            ]
          },
          "metadata": {},
          "execution_count": 9
        }
      ],
      "source": [
        "# We can include underscores in integers to make them more readable!\n",
        "1_000_000_000"
      ]
    },
    {
      "cell_type": "code",
      "execution_count": 10,
      "metadata": {
        "id": "yQ5TpHpKRsVL",
        "outputId": "758a8037-65e8-4278-9c65-3b98ed82c492",
        "colab": {
          "base_uri": "https://localhost:8080/"
        }
      },
      "outputs": [
        {
          "output_type": "execute_result",
          "data": {
            "text/plain": [
              "3.14"
            ]
          },
          "metadata": {},
          "execution_count": 10
        }
      ],
      "source": [
        "# Floats (IEEE 754 double-precision floating-point numbers)\n",
        "3.14"
      ]
    },
    {
      "cell_type": "code",
      "execution_count": 11,
      "metadata": {
        "id": "Z1wSYXwLRsVL",
        "outputId": "a3043998-e2ab-4825-b601-aec0a81ad516",
        "colab": {
          "base_uri": "https://localhost:8080/"
        }
      },
      "outputs": [
        {
          "output_type": "execute_result",
          "data": {
            "text/plain": [
              "(4+3j)"
            ]
          },
          "metadata": {},
          "execution_count": 11
        }
      ],
      "source": [
        "# Complex numbers\n",
        "4 + 3j"
      ]
    },
    {
      "cell_type": "code",
      "execution_count": 12,
      "metadata": {
        "id": "m0yfOWkQRsVL",
        "outputId": "db970bf7-5882-4ce2-df5a-fa4eb017bb5f",
        "colab": {
          "base_uri": "https://localhost:8080/"
        }
      },
      "outputs": [
        {
          "output_type": "execute_result",
          "data": {
            "text/plain": [
              "10"
            ]
          },
          "metadata": {},
          "execution_count": 12
        }
      ],
      "source": [
        "# Arithmetic operations\n",
        "5 + 5  # => 10"
      ]
    },
    {
      "cell_type": "code",
      "execution_count": 13,
      "metadata": {
        "id": "2WtCmxaZRsVM",
        "outputId": "5e4179f1-7af0-4b91-d7b5-91dd38939d54",
        "colab": {
          "base_uri": "https://localhost:8080/"
        }
      },
      "outputs": [
        {
          "output_type": "execute_result",
          "data": {
            "text/plain": [
              "5"
            ]
          },
          "metadata": {},
          "execution_count": 13
        }
      ],
      "source": [
        "7 - 2  # => 5"
      ]
    },
    {
      "cell_type": "code",
      "execution_count": 14,
      "metadata": {
        "id": "5fjbrLcBRsVM",
        "outputId": "248e95d5-ceda-4574-9419-28733d4f6b54",
        "colab": {
          "base_uri": "https://localhost:8080/"
        }
      },
      "outputs": [
        {
          "output_type": "execute_result",
          "data": {
            "text/plain": [
              "12"
            ]
          },
          "metadata": {},
          "execution_count": 14
        }
      ],
      "source": [
        "3 * 4  # => 12"
      ]
    },
    {
      "cell_type": "code",
      "execution_count": 15,
      "metadata": {
        "id": "Jv9_f9XoRsVM",
        "outputId": "94b5265b-aef9-4cd3-ce5d-301d2adbe633",
        "colab": {
          "base_uri": "https://localhost:8080/"
        }
      },
      "outputs": [
        {
          "output_type": "execute_result",
          "data": {
            "text/plain": [
              "8.0"
            ]
          },
          "metadata": {},
          "execution_count": 15
        }
      ],
      "source": [
        "24 / 3  # => 8.0 (standard division always results in a float)"
      ]
    },
    {
      "cell_type": "code",
      "execution_count": 16,
      "metadata": {
        "id": "qtunKcZNRsVM",
        "outputId": "a535eab9-f374-47c9-e73b-1d1d0a88d837",
        "colab": {
          "base_uri": "https://localhost:8080/"
        }
      },
      "outputs": [
        {
          "output_type": "execute_result",
          "data": {
            "text/plain": [
              "7"
            ]
          },
          "metadata": {},
          "execution_count": 16
        }
      ],
      "source": [
        "30 // 4  # => 7 (integer division)"
      ]
    },
    {
      "cell_type": "code",
      "execution_count": 17,
      "metadata": {
        "id": "Tm0UmGl4RsVM",
        "outputId": "135306c5-b9ac-4806-b3a0-1440a8fc2f19",
        "colab": {
          "base_uri": "https://localhost:8080/"
        }
      },
      "outputs": [
        {
          "output_type": "execute_result",
          "data": {
            "text/plain": [
              "2"
            ]
          },
          "metadata": {},
          "execution_count": 17
        }
      ],
      "source": [
        "30 % 4  # => 2 (the modulo operator, which gives the remainder)"
      ]
    },
    {
      "cell_type": "code",
      "execution_count": 18,
      "metadata": {
        "id": "1kDlQMNPRsVM",
        "outputId": "8ec226e4-3662-4552-c916-662419991775",
        "colab": {
          "base_uri": "https://localhost:8080/"
        }
      },
      "outputs": [
        {
          "output_type": "execute_result",
          "data": {
            "text/plain": [
              "2"
            ]
          },
          "metadata": {},
          "execution_count": 18
        }
      ],
      "source": [
        "-30 % 4  # => 2 (modulo also works for negative numbers)"
      ]
    },
    {
      "cell_type": "code",
      "execution_count": 19,
      "metadata": {
        "id": "PG3wTNVoRsVM",
        "outputId": "e394536c-68d9-4985-9066-38210f03fda7",
        "colab": {
          "base_uri": "https://localhost:8080/"
        }
      },
      "outputs": [
        {
          "output_type": "execute_result",
          "data": {
            "text/plain": [
              "16"
            ]
          },
          "metadata": {},
          "execution_count": 19
        }
      ],
      "source": [
        "2**4  # => 16 (exponentiation)"
      ]
    },
    {
      "cell_type": "code",
      "execution_count": 20,
      "metadata": {
        "id": "32MQ85WNRsVM",
        "outputId": "da7756fd-7354-4e14-ded9-1d066c9ff1ae",
        "colab": {
          "base_uri": "https://localhost:8080/"
        }
      },
      "outputs": [
        {
          "output_type": "execute_result",
          "data": {
            "text/plain": [
              "(int, float, complex)"
            ]
          },
          "metadata": {},
          "execution_count": 20
        }
      ],
      "source": [
        "type(123), type(2.6), type(4 + 6j)  # allows you to check the type of number you have"
      ]
    },
    {
      "cell_type": "code",
      "execution_count": 21,
      "metadata": {
        "id": "d5NYZDCWRsVM",
        "outputId": "9bd88641-9aa8-4f41-d7c7-0aeb95f52506",
        "colab": {
          "base_uri": "https://localhost:8080/"
        }
      },
      "outputs": [
        {
          "output_type": "execute_result",
          "data": {
            "text/plain": [
              "0.30000000000000004"
            ]
          },
          "metadata": {},
          "execution_count": 21
        }
      ],
      "source": [
        "# what is going on here? blame IEEE 754 and how we represent decimal numbers\n",
        "0.1 + 0.2"
      ]
    },
    {
      "cell_type": "markdown",
      "metadata": {
        "collapsed": false,
        "id": "S2BguXcARsVM"
      },
      "source": [
        "(If you want to go on a long tangent on IEEE 754 and the representation of floating-point numbers in binary, there is an [interesting video](https://www.youtube.com/watch?v=p8u_k2LIZyo) on YouTube about the implementation of a fast inverse square root algorithm in the game, Quake III, dating from before most modern computers had dedicated CPU instructions for the operation.)"
      ]
    },
    {
      "cell_type": "markdown",
      "metadata": {
        "collapsed": false,
        "id": "kKI7dH5URsVM"
      },
      "source": [
        "### Boolean Values\n",
        "\n",
        "**Booleans** (named after the English mathematician George Boole) are truth values that are either `True` or `False` (note the capitalisation)."
      ]
    },
    {
      "cell_type": "code",
      "execution_count": 22,
      "metadata": {
        "id": "w8qc2wmmRsVM",
        "outputId": "dcac43b1-aad6-4c93-c9fc-a72d51c7edbe",
        "colab": {
          "base_uri": "https://localhost:8080/"
        }
      },
      "outputs": [
        {
          "output_type": "execute_result",
          "data": {
            "text/plain": [
              "True"
            ]
          },
          "metadata": {},
          "execution_count": 22
        }
      ],
      "source": [
        "True  # => True"
      ]
    },
    {
      "cell_type": "code",
      "execution_count": 23,
      "metadata": {
        "id": "SZqnnIPqRsVM",
        "outputId": "d342d33a-3de5-4c11-9eef-24928bb654da",
        "colab": {
          "base_uri": "https://localhost:8080/"
        }
      },
      "outputs": [
        {
          "output_type": "execute_result",
          "data": {
            "text/plain": [
              "False"
            ]
          },
          "metadata": {},
          "execution_count": 23
        }
      ],
      "source": [
        "False  # => False"
      ]
    },
    {
      "cell_type": "code",
      "execution_count": 24,
      "metadata": {
        "id": "vqamqofhRsVM",
        "outputId": "fca6b4e0-b97a-4c6a-a98b-a94355e25a3d",
        "colab": {
          "base_uri": "https://localhost:8080/"
        }
      },
      "outputs": [
        {
          "output_type": "execute_result",
          "data": {
            "text/plain": [
              "False"
            ]
          },
          "metadata": {},
          "execution_count": 24
        }
      ],
      "source": [
        "not True  # => False"
      ]
    },
    {
      "cell_type": "code",
      "execution_count": 25,
      "metadata": {
        "id": "hGBhq1v_RsVN",
        "outputId": "bd3fc64d-ae81-4f07-a60a-ff6d8ffb5602",
        "colab": {
          "base_uri": "https://localhost:8080/"
        }
      },
      "outputs": [
        {
          "output_type": "execute_result",
          "data": {
            "text/plain": [
              "True"
            ]
          },
          "metadata": {},
          "execution_count": 25
        }
      ],
      "source": [
        "not False  # => True"
      ]
    },
    {
      "cell_type": "code",
      "execution_count": 26,
      "metadata": {
        "id": "24YMv4iTRsVN",
        "outputId": "77605129-4109-45b6-a470-eadbdb3ec773",
        "colab": {
          "base_uri": "https://localhost:8080/"
        }
      },
      "outputs": [
        {
          "output_type": "execute_result",
          "data": {
            "text/plain": [
              "True"
            ]
          },
          "metadata": {},
          "execution_count": 26
        }
      ],
      "source": [
        "True and True  # => True"
      ]
    },
    {
      "cell_type": "code",
      "execution_count": 27,
      "metadata": {
        "id": "5Wr9bTRdRsVN",
        "outputId": "e152ef53-b91f-43db-fbc2-a19e5e5e791e",
        "colab": {
          "base_uri": "https://localhost:8080/"
        }
      },
      "outputs": [
        {
          "output_type": "execute_result",
          "data": {
            "text/plain": [
              "False"
            ]
          },
          "metadata": {},
          "execution_count": 27
        }
      ],
      "source": [
        "True and False  # => False"
      ]
    },
    {
      "cell_type": "code",
      "execution_count": 28,
      "metadata": {
        "id": "EA5nODZwRsVN",
        "outputId": "e7a4a9e3-703c-48ae-947e-0f94a3a5a5f8",
        "colab": {
          "base_uri": "https://localhost:8080/"
        }
      },
      "outputs": [
        {
          "output_type": "execute_result",
          "data": {
            "text/plain": [
              "False"
            ]
          },
          "metadata": {},
          "execution_count": 28
        }
      ],
      "source": [
        "False and True  # => False"
      ]
    },
    {
      "cell_type": "code",
      "execution_count": 29,
      "metadata": {
        "id": "yjq2jdXpRsVN",
        "outputId": "3dd37abe-ba19-40db-bd0d-b6789f0b6d59",
        "colab": {
          "base_uri": "https://localhost:8080/"
        }
      },
      "outputs": [
        {
          "output_type": "execute_result",
          "data": {
            "text/plain": [
              "False"
            ]
          },
          "metadata": {},
          "execution_count": 29
        }
      ],
      "source": [
        "False and False  # => False"
      ]
    },
    {
      "cell_type": "code",
      "execution_count": 30,
      "metadata": {
        "id": "fY0ip8tyRsVN",
        "outputId": "e4419426-9b42-4caa-cbfd-487eaeeb4adb",
        "colab": {
          "base_uri": "https://localhost:8080/"
        }
      },
      "outputs": [
        {
          "output_type": "execute_result",
          "data": {
            "text/plain": [
              "True"
            ]
          },
          "metadata": {},
          "execution_count": 30
        }
      ],
      "source": [
        "True or True  # => True"
      ]
    },
    {
      "cell_type": "code",
      "execution_count": 31,
      "metadata": {
        "id": "CewfaBkORsVN",
        "outputId": "b290a4e8-1ed9-49ee-aaf4-f290a117d1c9",
        "colab": {
          "base_uri": "https://localhost:8080/"
        }
      },
      "outputs": [
        {
          "output_type": "execute_result",
          "data": {
            "text/plain": [
              "True"
            ]
          },
          "metadata": {},
          "execution_count": 31
        }
      ],
      "source": [
        "True or False  # => True"
      ]
    },
    {
      "cell_type": "code",
      "execution_count": 32,
      "metadata": {
        "id": "awYqLbDdRsVN",
        "outputId": "53c5cfb2-707d-49a6-90f3-f8ece41173a5",
        "colab": {
          "base_uri": "https://localhost:8080/"
        }
      },
      "outputs": [
        {
          "output_type": "execute_result",
          "data": {
            "text/plain": [
              "True"
            ]
          },
          "metadata": {},
          "execution_count": 32
        }
      ],
      "source": [
        "False or True  # => True"
      ]
    },
    {
      "cell_type": "code",
      "execution_count": 33,
      "metadata": {
        "id": "cye6RZEMRsVN",
        "outputId": "9b8837c4-eb0c-473d-b911-1327cfb02738",
        "colab": {
          "base_uri": "https://localhost:8080/"
        }
      },
      "outputs": [
        {
          "output_type": "execute_result",
          "data": {
            "text/plain": [
              "False"
            ]
          },
          "metadata": {},
          "execution_count": 33
        }
      ],
      "source": [
        "False or False  # => False"
      ]
    },
    {
      "cell_type": "code",
      "execution_count": 34,
      "metadata": {
        "id": "1tdlqhZ1RsVN",
        "outputId": "a4ff59c3-dde8-403b-afce-825bf058c2a6",
        "colab": {
          "base_uri": "https://localhost:8080/"
        }
      },
      "outputs": [
        {
          "output_type": "execute_result",
          "data": {
            "text/plain": [
              "False"
            ]
          },
          "metadata": {},
          "execution_count": 34
        }
      ],
      "source": [
        "# what is this operation?\n",
        "True ^ True  # => False"
      ]
    },
    {
      "cell_type": "code",
      "execution_count": 35,
      "metadata": {
        "id": "yZOLoig3RsVN",
        "outputId": "e72e9b48-fb29-4d65-e976-1a337b06f44b",
        "colab": {
          "base_uri": "https://localhost:8080/"
        }
      },
      "outputs": [
        {
          "output_type": "execute_result",
          "data": {
            "text/plain": [
              "True"
            ]
          },
          "metadata": {},
          "execution_count": 35
        }
      ],
      "source": [
        "True ^ False  # => True"
      ]
    },
    {
      "cell_type": "code",
      "execution_count": 36,
      "metadata": {
        "id": "jiYRISFFRsVN",
        "outputId": "3201fa9d-eeeb-4ab9-a08d-2abdf8f1b2fb",
        "colab": {
          "base_uri": "https://localhost:8080/"
        }
      },
      "outputs": [
        {
          "output_type": "execute_result",
          "data": {
            "text/plain": [
              "True"
            ]
          },
          "metadata": {},
          "execution_count": 36
        }
      ],
      "source": [
        "False ^ True  # => True"
      ]
    },
    {
      "cell_type": "code",
      "execution_count": 37,
      "metadata": {
        "id": "VcQCoH1NRsVN",
        "outputId": "3a4a761e-bbf2-4d10-de38-4807b6bde4e4",
        "colab": {
          "base_uri": "https://localhost:8080/"
        }
      },
      "outputs": [
        {
          "output_type": "execute_result",
          "data": {
            "text/plain": [
              "False"
            ]
          },
          "metadata": {},
          "execution_count": 37
        }
      ],
      "source": [
        "False ^ False  # => False"
      ]
    },
    {
      "cell_type": "code",
      "execution_count": 38,
      "metadata": {
        "id": "BKNdXgyTRsVN",
        "outputId": "5c924734-9fd0-4798-9615-418ca0a40821",
        "colab": {
          "base_uri": "https://localhost:8080/"
        }
      },
      "outputs": [
        {
          "output_type": "execute_result",
          "data": {
            "text/plain": [
              "(bool, bool)"
            ]
          },
          "metadata": {},
          "execution_count": 38
        }
      ],
      "source": [
        "type(True), type(False)"
      ]
    },
    {
      "cell_type": "markdown",
      "metadata": {
        "collapsed": false,
        "id": "lbvcPkSaRsVV"
      },
      "source": [
        "Comparison operations, such as checking for equality or inequality, evaluate to Boolean values."
      ]
    },
    {
      "cell_type": "code",
      "execution_count": 39,
      "metadata": {
        "id": "Md58icuZRsVV",
        "outputId": "751925f4-cd05-4553-80a1-6a244b07a764",
        "colab": {
          "base_uri": "https://localhost:8080/"
        }
      },
      "outputs": [
        {
          "output_type": "execute_result",
          "data": {
            "text/plain": [
              "True"
            ]
          },
          "metadata": {},
          "execution_count": 39
        }
      ],
      "source": [
        "4 == 4  # => True (checking for value equality)"
      ]
    },
    {
      "cell_type": "code",
      "execution_count": 40,
      "metadata": {
        "id": "xy-My3XmRsVW",
        "outputId": "8bf7f7a2-5dd2-486e-e440-b81277792d28",
        "colab": {
          "base_uri": "https://localhost:8080/"
        }
      },
      "outputs": [
        {
          "output_type": "execute_result",
          "data": {
            "text/plain": [
              "False"
            ]
          },
          "metadata": {},
          "execution_count": 40
        }
      ],
      "source": [
        "3 == 7  # => False"
      ]
    },
    {
      "cell_type": "code",
      "execution_count": 41,
      "metadata": {
        "id": "hrhGocXSRsVW",
        "outputId": "438fe795-6c0b-4bec-8f85-feba8984d2a2",
        "colab": {
          "base_uri": "https://localhost:8080/"
        }
      },
      "outputs": [
        {
          "output_type": "execute_result",
          "data": {
            "text/plain": [
              "True"
            ]
          },
          "metadata": {},
          "execution_count": 41
        }
      ],
      "source": [
        "1 != 5  # => True (checking for value inequality)"
      ]
    },
    {
      "cell_type": "code",
      "execution_count": 42,
      "metadata": {
        "id": "6JyT23FURsVW",
        "outputId": "0095b54a-8585-4bd1-8bc5-b0a94b600157",
        "colab": {
          "base_uri": "https://localhost:8080/"
        }
      },
      "outputs": [
        {
          "output_type": "execute_result",
          "data": {
            "text/plain": [
              "True"
            ]
          },
          "metadata": {},
          "execution_count": 42
        }
      ],
      "source": [
        "1 < 2  # => True (less than)"
      ]
    },
    {
      "cell_type": "code",
      "execution_count": 43,
      "metadata": {
        "id": "npDH_kxHRsVW",
        "outputId": "7d92b673-325c-4f76-a7aa-27a1d5a6cbcf",
        "colab": {
          "base_uri": "https://localhost:8080/"
        }
      },
      "outputs": [
        {
          "output_type": "execute_result",
          "data": {
            "text/plain": [
              "True"
            ]
          },
          "metadata": {},
          "execution_count": 43
        }
      ],
      "source": [
        "5 <= 5  # => True (less than or equal to)"
      ]
    },
    {
      "cell_type": "code",
      "execution_count": 44,
      "metadata": {
        "id": "LXuO1FBGRsVW",
        "outputId": "395712ef-3983-44f3-c091-5a2f05a354f7",
        "colab": {
          "base_uri": "https://localhost:8080/"
        }
      },
      "outputs": [
        {
          "output_type": "execute_result",
          "data": {
            "text/plain": [
              "True"
            ]
          },
          "metadata": {},
          "execution_count": 44
        }
      ],
      "source": [
        "6 > 3  # => True (greater than)"
      ]
    },
    {
      "cell_type": "code",
      "execution_count": 45,
      "metadata": {
        "id": "aq7vuJXwRsVW",
        "outputId": "df68acda-1845-4de2-c97f-5eb9d4b42d25",
        "colab": {
          "base_uri": "https://localhost:8080/"
        }
      },
      "outputs": [
        {
          "output_type": "execute_result",
          "data": {
            "text/plain": [
              "False"
            ]
          },
          "metadata": {},
          "execution_count": 45
        }
      ],
      "source": [
        "7 >= 8  # => False (greater than or equal to)"
      ]
    },
    {
      "cell_type": "code",
      "execution_count": 46,
      "metadata": {
        "id": "GdBZ4bmuRsVW",
        "outputId": "e6b1ddd2-2d4f-45d1-b33b-5f92abd3a094",
        "colab": {
          "base_uri": "https://localhost:8080/"
        }
      },
      "outputs": [
        {
          "output_type": "execute_result",
          "data": {
            "text/plain": [
              "True"
            ]
          },
          "metadata": {},
          "execution_count": 46
        }
      ],
      "source": [
        "1 < 2 < 3  # => True (these can be chained in Python, unlike other languages!)"
      ]
    },
    {
      "cell_type": "markdown",
      "metadata": {
        "collapsed": false,
        "id": "bmvwKHg5RsVW"
      },
      "source": [
        "### Strings"
      ]
    },
    {
      "cell_type": "code",
      "execution_count": 47,
      "metadata": {
        "id": "ou_-oyEHRsVW",
        "outputId": "5264e1f4-58f5-40b9-aace-53067db5670b",
        "colab": {
          "base_uri": "https://localhost:8080/"
        }
      },
      "outputs": [
        {
          "output_type": "execute_result",
          "data": {
            "text/plain": [
              "str"
            ]
          },
          "metadata": {},
          "execution_count": 47
        }
      ],
      "source": [
        "\"Strings of characters look like this in Python.\"\n",
        "\n",
        "\"You can also use single quotes if you prefer.\"\n",
        "\n",
        "\"\"\" There are also\n",
        "    multi-line strings. \"\"\"\n",
        "\n",
        "\"\"\" You can also create multi-line strings with single quotes,\n",
        "    although this is fairly uncommon. \"\"\"\n",
        "\n",
        "'If you want to include a double quote in a string, you need to escape it with a backslash like \"this\" or use a string enclosed with single quotes.'\n",
        "\n",
        "\"The same thing applies if you want to include a ' character within a single-quoted string.\"\n",
        "\n",
        "\"This means if you want to include a single backslash, you need to escape that too with a backslash in the following way: \\\\.\"\n",
        "\n",
        "\"You can also add new lines (\\n on modern macOS & Linux, \\r\\n on Windows) and tabs (\\t) using escape characters.\"\n",
        "\n",
        "type(\"Hello, world!\")"
      ]
    },
    {
      "cell_type": "markdown",
      "metadata": {
        "collapsed": false,
        "id": "vCtXVyyGRsVW"
      },
      "source": [
        "Generally, Python style guides encourage you to stick to double-quoted strings wherever reasonable."
      ]
    },
    {
      "cell_type": "code",
      "execution_count": 48,
      "metadata": {
        "id": "zI_cxSBRRsVW",
        "outputId": "0a08b716-903b-4993-a3a8-9a020985d8a7",
        "colab": {
          "base_uri": "https://localhost:8080/",
          "height": 35
        }
      },
      "outputs": [
        {
          "output_type": "execute_result",
          "data": {
            "text/plain": [
              "'Hello, world!'"
            ],
            "application/vnd.google.colaboratory.intrinsic+json": {
              "type": "string"
            }
          },
          "metadata": {},
          "execution_count": 48
        }
      ],
      "source": [
        "# Strings can be concatenated together\n",
        "\n",
        "\"Hello, \" + \"world!\""
      ]
    },
    {
      "cell_type": "markdown",
      "metadata": {
        "collapsed": false,
        "id": "fwOZzv19RsVW"
      },
      "source": [
        "While `+` _adds_ two numbers together, it _concatenates_ two strings together. This idea that operators can have different meanings in different contexts is known as **operator overloading**.\n",
        "\n",
        "**Note**: you cannot use the `+` operator on a string and an integer together &ndash; this will raise a `TypeError`."
      ]
    },
    {
      "cell_type": "code",
      "execution_count": 49,
      "metadata": {
        "id": "HXNWFlMORsVW",
        "outputId": "024fb8df-86ca-4d95-e863-f50b6e1ffb21",
        "colab": {
          "base_uri": "https://localhost:8080/"
        }
      },
      "outputs": [
        {
          "output_type": "execute_result",
          "data": {
            "text/plain": [
              "13"
            ]
          },
          "metadata": {},
          "execution_count": 49
        }
      ],
      "source": [
        "# len(·) can be used to find the length of a string\n",
        "\n",
        "len(\"Hello, world!\")"
      ]
    },
    {
      "cell_type": "markdown",
      "metadata": {
        "collapsed": false,
        "id": "96-BecqoRsVW"
      },
      "source": [
        "You can check for the presence of a substring within string using the `in` operator, which returns a Boolean value."
      ]
    },
    {
      "cell_type": "code",
      "execution_count": 50,
      "metadata": {
        "id": "E2G1yxweRsVX",
        "outputId": "15e4dba4-4fde-4779-c942-e621f3d40501",
        "colab": {
          "base_uri": "https://localhost:8080/"
        }
      },
      "outputs": [
        {
          "output_type": "execute_result",
          "data": {
            "text/plain": [
              "True"
            ]
          },
          "metadata": {},
          "execution_count": 50
        }
      ],
      "source": [
        "\"world\" in \"Hello, world!\""
      ]
    },
    {
      "cell_type": "code",
      "execution_count": 51,
      "metadata": {
        "id": "okMLMrcKRsVX",
        "outputId": "b51e6d60-a7db-408d-cbba-29ff677d0666",
        "colab": {
          "base_uri": "https://localhost:8080/"
        }
      },
      "outputs": [
        {
          "output_type": "execute_result",
          "data": {
            "text/plain": [
              "False"
            ]
          },
          "metadata": {},
          "execution_count": 51
        }
      ],
      "source": [
        "\"Goodbye\" in \"Hello, world!\""
      ]
    },
    {
      "cell_type": "code",
      "execution_count": 52,
      "metadata": {
        "id": "OvQPEAI3RsVX",
        "outputId": "1fc2ef9e-38e1-48c5-ea58-273413f166ca",
        "colab": {
          "base_uri": "https://localhost:8080/"
        }
      },
      "outputs": [
        {
          "output_type": "execute_result",
          "data": {
            "text/plain": [
              "True"
            ]
          },
          "metadata": {},
          "execution_count": 52
        }
      ],
      "source": [
        "\"Goodbye\" not in \"Hello, world!\""
      ]
    },
    {
      "cell_type": "markdown",
      "metadata": {
        "collapsed": false,
        "id": "vOPtIr4KRsVX"
      },
      "source": [
        "String objects &ndash; thanks to their type! &ndash; support a number of other useful operations too!"
      ]
    },
    {
      "cell_type": "code",
      "execution_count": 53,
      "metadata": {
        "id": "BvDcLpqXRsVX",
        "outputId": "215aa640-eab5-4c08-db6c-8cacd78b4241",
        "colab": {
          "base_uri": "https://localhost:8080/",
          "height": 35
        }
      },
      "outputs": [
        {
          "output_type": "execute_result",
          "data": {
            "text/plain": [
              "'HELLO'"
            ],
            "application/vnd.google.colaboratory.intrinsic+json": {
              "type": "string"
            }
          },
          "metadata": {},
          "execution_count": 53
        }
      ],
      "source": [
        "\"hello\".upper()"
      ]
    },
    {
      "cell_type": "code",
      "execution_count": 54,
      "metadata": {
        "id": "RG4LgaC5RsVX",
        "outputId": "dc6d3340-6d3a-4162-e6bf-4b9e72eb8648",
        "colab": {
          "base_uri": "https://localhost:8080/",
          "height": 35
        }
      },
      "outputs": [
        {
          "output_type": "execute_result",
          "data": {
            "text/plain": [
              "'hello'"
            ],
            "application/vnd.google.colaboratory.intrinsic+json": {
              "type": "string"
            }
          },
          "metadata": {},
          "execution_count": 54
        }
      ],
      "source": [
        "\"HELLO\".lower()"
      ]
    },
    {
      "cell_type": "code",
      "execution_count": 55,
      "metadata": {
        "id": "LQCjlbf0RsVX",
        "outputId": "931a746e-624d-4a7e-b92c-0be55046885e",
        "colab": {
          "base_uri": "https://localhost:8080/",
          "height": 35
        }
      },
      "outputs": [
        {
          "output_type": "execute_result",
          "data": {
            "text/plain": [
              "'Hello, world!'"
            ],
            "application/vnd.google.colaboratory.intrinsic+json": {
              "type": "string"
            }
          },
          "metadata": {},
          "execution_count": 55
        }
      ],
      "source": [
        "\"hEllO, woRlD!\".capitalize()"
      ]
    },
    {
      "cell_type": "code",
      "execution_count": 56,
      "metadata": {
        "id": "7e_-sbWXRsVX",
        "outputId": "a4e8cb95-a662-420d-f934-9939db91bb49",
        "colab": {
          "base_uri": "https://localhost:8080/",
          "height": 35
        }
      },
      "outputs": [
        {
          "output_type": "execute_result",
          "data": {
            "text/plain": [
              "'Hello, Jeremy and Ferran!'"
            ],
            "application/vnd.google.colaboratory.intrinsic+json": {
              "type": "string"
            }
          },
          "metadata": {},
          "execution_count": 56
        }
      ],
      "source": [
        "\"Hello, world!\".replace(\"world\", \"Jeremy and Ferran\")"
      ]
    },
    {
      "cell_type": "markdown",
      "metadata": {
        "collapsed": false,
        "id": "Pn6c9MFmRsVX"
      },
      "source": [
        "### An Aside on Variables\n",
        "\n",
        "In Python, variables are symbolic names (labels) that reference objects. The act of setting a variable to a particular value is known as **assignment**. There is no separate declaration step as in other languages."
      ]
    },
    {
      "cell_type": "code",
      "execution_count": 57,
      "metadata": {
        "id": "9_Jbd0kGRsVX",
        "outputId": "fc0c3cce-55f0-4984-8d7a-eb4dfa04cc23",
        "colab": {
          "base_uri": "https://localhost:8080/",
          "height": 35
        }
      },
      "outputs": [
        {
          "output_type": "execute_result",
          "data": {
            "text/plain": [
              "'Hello, Jeremy!'"
            ],
            "application/vnd.google.colaboratory.intrinsic+json": {
              "type": "string"
            }
          },
          "metadata": {},
          "execution_count": 57
        }
      ],
      "source": [
        "number = 123\n",
        "string = \"Hello, world!\"\n",
        "\n",
        "user = \"Jeremy\"\n",
        "\n",
        "# Format strings allow us to insert the string representation\n",
        "# of an object within a string (if it has one).\n",
        "\n",
        "f\"Hello, {user}!\""
      ]
    },
    {
      "cell_type": "markdown",
      "metadata": {
        "collapsed": false,
        "id": "ejVuI1wsRsVX"
      },
      "source": [
        "Variable names in Python can contain letters, digits and underscores; however, they cannot start with a digit. They are _case-sensitive_, so capitalisation matters!\n",
        "\n",
        "By convention, variable names in Python are all lowercase with words separated by underscores, e.g. `message_length`. This is known as _snake case_. 🐍"
      ]
    },
    {
      "cell_type": "code",
      "execution_count": 58,
      "metadata": {
        "id": "6qS511KeRsVX"
      },
      "outputs": [],
      "source": [
        "# Good variable names ✅\n",
        "\n",
        "user = \"Jeremy\"\n",
        "user_age = 21\n",
        "\n",
        "meaning_of_life = 42\n",
        "\n",
        "post_title = \"Introduction to Python\"\n",
        "like_count = 54\n",
        "views = 6_421\n",
        "\n",
        "# Suboptimal variable names ❌\n",
        "\n",
        "countriesVisited = 17  # (lower) camel case\n",
        "NumberOfChapters = 8  # Pascal case / upper camel case\n",
        "SPEED_OF_LIGHT = 299_792_458  # uppercase with underscores\n",
        "golden_Ratio = 1.61803399  # pure pain"
      ]
    },
    {
      "cell_type": "markdown",
      "metadata": {
        "collapsed": false,
        "id": "BGrZI3_eRsVX"
      },
      "source": [
        "Sometimes, you might find yourself updating the value of a (typically numerical) variable in relation to itself using one of the **infix operators** we introduced earlier."
      ]
    },
    {
      "cell_type": "code",
      "execution_count": 59,
      "metadata": {
        "id": "q3_WQ4yCRsVX",
        "outputId": "86beb4d2-e8e5-4999-8a19-8051c64ba527",
        "colab": {
          "base_uri": "https://localhost:8080/"
        }
      },
      "outputs": [
        {
          "output_type": "execute_result",
          "data": {
            "text/plain": [
              "3.0"
            ]
          },
          "metadata": {},
          "execution_count": 59
        }
      ],
      "source": [
        "x = 1\n",
        "\n",
        "x = x + 6  # x = x + 6     => x == 7\n",
        "x = x - 1  # x = x - 1     => x == 6\n",
        "x = x * 2  # x = x * 2     => x == 12\n",
        "x = x / 3  # x = x / 3     => x == 4.0\n",
        "x = x // 3  # x = x // 3    => x == 1.0\n",
        "x = x + 10  # x = x + 10    => x == 11.0\n",
        "x = x % 4  # x = x % 4     => x == 3.0\n",
        "\n",
        "x"
      ]
    },
    {
      "cell_type": "markdown",
      "metadata": {
        "collapsed": false,
        "id": "f7PkyHT5RsVY"
      },
      "source": [
        "This can seem a bit verbose, so Python provides a series of **shorthand assignment operators** as **syntactic sugar** to help make your code cleaner and more readable &ndash; a useful thing to master! 🍦🍪"
      ]
    },
    {
      "cell_type": "code",
      "execution_count": 60,
      "metadata": {
        "id": "VHASxB5ARsVY",
        "outputId": "5ef70992-582d-4247-b030-e8f330ebd82d",
        "colab": {
          "base_uri": "https://localhost:8080/"
        }
      },
      "outputs": [
        {
          "output_type": "execute_result",
          "data": {
            "text/plain": [
              "3.0"
            ]
          },
          "metadata": {},
          "execution_count": 60
        }
      ],
      "source": [
        "x = 1\n",
        "\n",
        "x += 6  # x = x + 6     => x == 7\n",
        "x -= 1  # x = x - 1     => x == 6\n",
        "x *= 2  # x = x * 2     => x == 12\n",
        "x /= 3  # x = x / 3     => x == 4.0\n",
        "x //= 3  # x = x // 3    => x == 1.0\n",
        "x += 10  # x = x + 10    => x == 11.0\n",
        "x %= 4  # x = x % 4     => x == 3.0\n",
        "\n",
        "x"
      ]
    },
    {
      "cell_type": "markdown",
      "metadata": {
        "collapsed": false,
        "id": "rkwoZBySRsVY"
      },
      "source": [
        "### None\n",
        "\n",
        "`None` is keyword in Python that signifies that there is no value there &ndash; it is the encapsulation of emptiness, totally devoid of meaning."
      ]
    },
    {
      "cell_type": "code",
      "execution_count": 61,
      "metadata": {
        "id": "yBcEEqWwRsVY"
      },
      "outputs": [],
      "source": [
        "value = None  # nothing to see here!\n",
        "\n",
        "value"
      ]
    },
    {
      "cell_type": "code",
      "execution_count": 62,
      "metadata": {
        "id": "-yuKksgSRsVY",
        "outputId": "19abc33a-72f5-466c-8921-22425af07c7e",
        "colab": {
          "base_uri": "https://localhost:8080/"
        }
      },
      "outputs": [
        {
          "output_type": "execute_result",
          "data": {
            "text/plain": [
              "NoneType"
            ]
          },
          "metadata": {},
          "execution_count": 62
        }
      ],
      "source": [
        "type(value)  # it still has a type though!"
      ]
    },
    {
      "cell_type": "markdown",
      "metadata": {
        "collapsed": false,
        "id": "GT5qolwRRsVY"
      },
      "source": [
        "The Romans would be proud. In Ancient Rome, _res_ meant nothing, as well as everything or just something. Supposedly, everything is also nothing, and nothing is something. Probably. But anyway, back to Python! 😳\n",
        "\n",
        "Try not to overuse `None`, but it is certainly helpful when you want to represent a value not being present."
      ]
    },
    {
      "cell_type": "markdown",
      "metadata": {
        "collapsed": false,
        "id": "m0egNc_cRsVY"
      },
      "source": [
        "## Collections\n",
        "\n",
        "Collections are types that are used for containing other types! Python has several general-purpose built-in container types, such as **lists, tuples, sets and dictionaries**. More complex collections &ndash; such as queues, ordered dictionaries and so on &ndash; are available through modules in the **standard library** included with every Python installation.\n",
        "\n",
        "You will want to get familiar with many of the simpler collections."
      ]
    },
    {
      "cell_type": "code",
      "execution_count": 63,
      "metadata": {
        "id": "oJ-lQNdsRsVY",
        "outputId": "10e57ea1-ea1e-4916-cd06-ffa57cec051e",
        "colab": {
          "base_uri": "https://localhost:8080/"
        }
      },
      "outputs": [
        {
          "output_type": "execute_result",
          "data": {
            "text/plain": [
              "['apple', 'banana', 'cherry', 'dragon fruit', 'elderberry', 'fig', 'guava']"
            ]
          },
          "metadata": {},
          "execution_count": 63
        }
      ],
      "source": [
        "fruit = [\"apple\", \"banana\", \"cherry\", \"dragon fruit\", \"elderberry\", \"fig\", \"guava\"]\n",
        "\n",
        "fruit"
      ]
    },
    {
      "cell_type": "code",
      "execution_count": 64,
      "metadata": {
        "id": "HdM7BQ8WRsVY",
        "outputId": "62cce3e5-d7de-4f71-f791-c54482430b2d",
        "colab": {
          "base_uri": "https://localhost:8080/"
        }
      },
      "outputs": [
        {
          "output_type": "execute_result",
          "data": {
            "text/plain": [
              "7"
            ]
          },
          "metadata": {},
          "execution_count": 64
        }
      ],
      "source": [
        "# You can find the length of a list with len(·)\n",
        "\n",
        "len(fruit)\n",
        "\n",
        "# The list of fruit above contains seven fruit! Ace!"
      ]
    },
    {
      "cell_type": "code",
      "execution_count": 65,
      "metadata": {
        "id": "Mko4U4EARsVY",
        "outputId": "4db06f62-3066-47a6-e46d-5f561315a5cf",
        "colab": {
          "base_uri": "https://localhost:8080/",
          "height": 35
        }
      },
      "outputs": [
        {
          "output_type": "execute_result",
          "data": {
            "text/plain": [
              "'apple'"
            ],
            "application/vnd.google.colaboratory.intrinsic+json": {
              "type": "string"
            }
          },
          "metadata": {},
          "execution_count": 65
        }
      ],
      "source": [
        "# Lists are 'subscriptable', so you can index into them\n",
        "# Python lists are zero-indexed, so list indices start from zero\n",
        "\n",
        "fruit[0]"
      ]
    },
    {
      "cell_type": "markdown",
      "metadata": {
        "collapsed": false,
        "id": "imSm-dO4RsVY"
      },
      "source": [
        "When counting in Python, we always start at zero: 0, 1, 2, 3, 4, 5, 6, 7, etc."
      ]
    },
    {
      "cell_type": "code",
      "execution_count": 66,
      "metadata": {
        "id": "Qmto2RAaRsVY",
        "outputId": "0068bd06-d3f1-4ffd-c453-046d061a2241",
        "colab": {
          "base_uri": "https://localhost:8080/",
          "height": 35
        }
      },
      "outputs": [
        {
          "output_type": "execute_result",
          "data": {
            "text/plain": [
              "'guava'"
            ],
            "application/vnd.google.colaboratory.intrinsic+json": {
              "type": "string"
            }
          },
          "metadata": {},
          "execution_count": 66
        }
      ],
      "source": [
        "# Negative indices let you retrieve values relative to the end of the list\n",
        "\n",
        "fruit[-1]"
      ]
    },
    {
      "cell_type": "code",
      "execution_count": 67,
      "metadata": {
        "id": "M5j_X0tcRsVY",
        "outputId": "68c13627-99b5-4ef5-d7b1-5acb3fd245a2",
        "colab": {
          "base_uri": "https://localhost:8080/"
        }
      },
      "outputs": [
        {
          "output_type": "execute_result",
          "data": {
            "text/plain": [
              "['cherry', 'dragon fruit']"
            ]
          },
          "metadata": {},
          "execution_count": 67
        }
      ],
      "source": [
        "# You can also select slices of a list\n",
        "\n",
        "fruit[2:4]  # the starting index is inclusive, but the ending index is exclusive"
      ]
    },
    {
      "cell_type": "code",
      "execution_count": 68,
      "metadata": {
        "id": "6Mbq5OVNRsVY",
        "outputId": "bf0dafaf-1286-4ed2-91d7-2778199b897f",
        "colab": {
          "base_uri": "https://localhost:8080/"
        }
      },
      "outputs": [
        {
          "output_type": "execute_result",
          "data": {
            "text/plain": [
              "['banana', 'cherry', 'dragon fruit', 'elderberry', 'fig', 'guava']"
            ]
          },
          "metadata": {},
          "execution_count": 68
        }
      ],
      "source": [
        "# You can omit a starting or ending point to expand to the start or end of the list\n",
        "\n",
        "fruit[1:]"
      ]
    },
    {
      "cell_type": "code",
      "execution_count": 69,
      "metadata": {
        "id": "RwlvHAQiRsVY",
        "outputId": "59ef06f7-1b0b-4eae-bb3d-6fc7a5ac678e",
        "colab": {
          "base_uri": "https://localhost:8080/"
        }
      },
      "outputs": [
        {
          "output_type": "execute_result",
          "data": {
            "text/plain": [
              "['apple', 'banana', 'cherry', 'dragon fruit']"
            ]
          },
          "metadata": {},
          "execution_count": 69
        }
      ],
      "source": [
        "fruit[:4]"
      ]
    },
    {
      "cell_type": "code",
      "execution_count": 70,
      "metadata": {
        "id": "Ian1AgF2RsVY",
        "outputId": "4a33947c-3058-4afd-a9d2-8ed6373df09d",
        "colab": {
          "base_uri": "https://localhost:8080/"
        }
      },
      "outputs": [
        {
          "output_type": "execute_result",
          "data": {
            "text/plain": [
              "['apple', 'cherry', 'elderberry', 'guava']"
            ]
          },
          "metadata": {},
          "execution_count": 70
        }
      ],
      "source": [
        "# You can also provide a step! (e.g. to skip certain elements)\n",
        "\n",
        "fruit[::2]"
      ]
    },
    {
      "cell_type": "code",
      "execution_count": 71,
      "metadata": {
        "id": "AxiX39Q2RsVZ",
        "outputId": "7d5b5375-19c1-4352-e362-0cdde18e7d0a",
        "colab": {
          "base_uri": "https://localhost:8080/"
        }
      },
      "outputs": [
        {
          "output_type": "execute_result",
          "data": {
            "text/plain": [
              "['banana', 'dragon fruit', 'fig']"
            ]
          },
          "metadata": {},
          "execution_count": 71
        }
      ],
      "source": [
        "fruit[1:6:2]"
      ]
    },
    {
      "cell_type": "code",
      "execution_count": 72,
      "metadata": {
        "id": "GtWSAzKwRsVZ",
        "outputId": "597a92fd-b8bb-4489-c5d7-d3ee02023da4",
        "colab": {
          "base_uri": "https://localhost:8080/"
        }
      },
      "outputs": [
        {
          "output_type": "execute_result",
          "data": {
            "text/plain": [
              "['guava', 'fig', 'elderberry', 'dragon fruit', 'cherry', 'banana', 'apple']"
            ]
          },
          "metadata": {},
          "execution_count": 72
        }
      ],
      "source": [
        "# In case you were wondering, yes -- you can use this to reverse lists!\n",
        "\n",
        "fruit[::-1]"
      ]
    },
    {
      "cell_type": "code",
      "execution_count": 73,
      "metadata": {
        "id": "CaeMbqIqRsVZ",
        "outputId": "f4782a39-d03d-43ab-857c-41d2403670c3",
        "colab": {
          "base_uri": "https://localhost:8080/"
        }
      },
      "outputs": [
        {
          "output_type": "execute_result",
          "data": {
            "text/plain": [
              "['apple', 'banana', 'cherry', 'dragon fruit', 'elderberry', 'fig', 'guava']"
            ]
          },
          "metadata": {},
          "execution_count": 73
        }
      ],
      "source": [
        "# It is also a useful hack for creating soft copies of lists...\n",
        "\n",
        "fruit[:]"
      ]
    },
    {
      "cell_type": "code",
      "execution_count": 74,
      "metadata": {
        "id": "znwa_6fTRsVZ",
        "outputId": "42784f8a-566c-42fd-d3c5-b3c7c0c60bd6",
        "colab": {
          "base_uri": "https://localhost:8080/"
        }
      },
      "outputs": [
        {
          "output_type": "execute_result",
          "data": {
            "text/plain": [
              "['apple',\n",
              " 'banana',\n",
              " 'cherry',\n",
              " 'dragon fruit',\n",
              " 'elderberry',\n",
              " 'fig',\n",
              " 'guava',\n",
              " 'honeydew melon']"
            ]
          },
          "metadata": {},
          "execution_count": 74
        }
      ],
      "source": [
        "# You can also append to lists\n",
        "\n",
        "fruit.append(\"honeydew melon\")\n",
        "\n",
        "fruit"
      ]
    },
    {
      "cell_type": "code",
      "execution_count": 75,
      "metadata": {
        "id": "ds_PGIKMRsVZ",
        "outputId": "e22ee596-62a3-426b-945e-6f278f52192a",
        "colab": {
          "base_uri": "https://localhost:8080/"
        }
      },
      "outputs": [
        {
          "output_type": "execute_result",
          "data": {
            "text/plain": [
              "['apple', 'banana', 'cherry', 'dragon fruit', 'elderberry', 'fig', 'guava']"
            ]
          },
          "metadata": {},
          "execution_count": 75
        }
      ],
      "source": [
        "# And pop from the end of a list...\n",
        "\n",
        "fruit.pop()\n",
        "\n",
        "fruit"
      ]
    },
    {
      "cell_type": "code",
      "execution_count": 76,
      "metadata": {
        "id": "BH3y5VCZRsVZ",
        "outputId": "751311cd-d3ec-46ae-91f2-b192bf476407",
        "colab": {
          "base_uri": "https://localhost:8080/"
        }
      },
      "outputs": [
        {
          "output_type": "execute_result",
          "data": {
            "text/plain": [
              "('dragon fruit', ['apple', 'banana', 'cherry', 'elderberry', 'fig', 'guava'])"
            ]
          },
          "metadata": {},
          "execution_count": 76
        }
      ],
      "source": [
        "# Or anywhere really by index!\n",
        "\n",
        "dragon_fruit = fruit.pop(3)  # sorry, dragon fruit 🙃\n",
        "\n",
        "dragon_fruit, fruit"
      ]
    },
    {
      "cell_type": "code",
      "execution_count": 77,
      "metadata": {
        "id": "OCrtvdzGRsVZ",
        "outputId": "3af17eb4-d8b2-4ce3-c8f2-09acd3cdcdaa",
        "colab": {
          "base_uri": "https://localhost:8080/"
        }
      },
      "outputs": [
        {
          "output_type": "execute_result",
          "data": {
            "text/plain": [
              "1"
            ]
          },
          "metadata": {},
          "execution_count": 77
        }
      ],
      "source": [
        "# You can also find the index of the first list item matching some value\n",
        "\n",
        "fruit.index(\"banana\")"
      ]
    },
    {
      "cell_type": "code",
      "execution_count": 78,
      "metadata": {
        "id": "VEhA1TOPRsVZ",
        "outputId": "846b5fcd-5c5c-428c-a958-c89923ff8420",
        "colab": {
          "base_uri": "https://localhost:8080/"
        }
      },
      "outputs": [
        {
          "output_type": "execute_result",
          "data": {
            "text/plain": [
              "['apple', 'banana', 'cherry', 'elderberry', 'fig']"
            ]
          },
          "metadata": {},
          "execution_count": 78
        }
      ],
      "source": [
        "# And remove the first list item matching some value\n",
        "\n",
        "fruit.remove(\"guava\")  # sorry, guava\n",
        "\n",
        "fruit"
      ]
    },
    {
      "cell_type": "code",
      "execution_count": 79,
      "metadata": {
        "id": "IWvgNXCfRsVZ",
        "outputId": "fbbe4e05-ec63-4d5a-ba74-fbd34dff5efe",
        "colab": {
          "base_uri": "https://localhost:8080/"
        }
      },
      "outputs": [
        {
          "output_type": "execute_result",
          "data": {
            "text/plain": [
              "[1, 2, 3, 4, 5, 6]"
            ]
          },
          "metadata": {},
          "execution_count": 79
        }
      ],
      "source": [
        "# Lists can be concatenated together\n",
        "\n",
        "[1, 2, 3] + [4, 5, 6]"
      ]
    },
    {
      "cell_type": "code",
      "execution_count": 80,
      "metadata": {
        "id": "T8GZpfV0RsVZ",
        "outputId": "412831f5-0463-4187-e1ee-f0a082f7d539",
        "colab": {
          "base_uri": "https://localhost:8080/"
        }
      },
      "outputs": [
        {
          "output_type": "execute_result",
          "data": {
            "text/plain": [
              "['apple',\n",
              " 'banana',\n",
              " 'cherry',\n",
              " 'elderberry',\n",
              " 'fig',\n",
              " 'apple',\n",
              " 'banana',\n",
              " 'cherry',\n",
              " 'elderberry',\n",
              " 'fig',\n",
              " 'apple',\n",
              " 'banana',\n",
              " 'cherry',\n",
              " 'elderberry',\n",
              " 'fig',\n",
              " 'apple',\n",
              " 'banana',\n",
              " 'cherry',\n",
              " 'elderberry',\n",
              " 'fig']"
            ]
          },
          "metadata": {},
          "execution_count": 80
        }
      ],
      "source": [
        "# And yes, they can also be 'multiplied'\n",
        "\n",
        "fruit * 4\n",
        "\n",
        "# Woah! So much fruit!"
      ]
    },
    {
      "cell_type": "code",
      "execution_count": 81,
      "metadata": {
        "id": "kQwW7NwARsVZ",
        "outputId": "daf4ae8e-8d27-42b8-fbca-f6f492d25ce8",
        "colab": {
          "base_uri": "https://localhost:8080/"
        }
      },
      "outputs": [
        {
          "output_type": "execute_result",
          "data": {
            "text/plain": [
              "[1, 2, 3, 4, 5, 6, 7, 8]"
            ]
          },
          "metadata": {},
          "execution_count": 81
        }
      ],
      "source": [
        "# You can also 'extend' one list with the values of another\n",
        "\n",
        "list1 = [1, 2, 3, 4]\n",
        "list2 = [5, 6, 7, 8]\n",
        "\n",
        "list1.extend(list2)\n",
        "\n",
        "list1"
      ]
    },
    {
      "cell_type": "code",
      "execution_count": 82,
      "metadata": {
        "id": "vgFS4Z7XRsVZ",
        "outputId": "a93075dc-be8b-4a92-ddc5-989f8c014a3d",
        "colab": {
          "base_uri": "https://localhost:8080/"
        }
      },
      "outputs": [
        {
          "output_type": "execute_result",
          "data": {
            "text/plain": [
              "True"
            ]
          },
          "metadata": {},
          "execution_count": 82
        }
      ],
      "source": [
        "# You can also check whether an element is in a list with `in`\n",
        "\n",
        "\"apple\" in fruit"
      ]
    },
    {
      "cell_type": "code",
      "execution_count": 83,
      "metadata": {
        "id": "YRoTlki7RsVZ",
        "outputId": "597b462d-b20e-4f98-bb00-890af5530abc",
        "colab": {
          "base_uri": "https://localhost:8080/"
        }
      },
      "outputs": [
        {
          "output_type": "execute_result",
          "data": {
            "text/plain": [
              "('apple', 'banana', ['cherry', 'elderberry', 'fig'])"
            ]
          },
          "metadata": {},
          "execution_count": 83
        }
      ],
      "source": [
        "# You can 'unpack' list values (the tuples are implicit here)\n",
        "\n",
        "# Assign the first two fruit to a and b, and the remaining fruits to c\n",
        "\n",
        "a, b, *c = fruit\n",
        "\n",
        "a, b, c"
      ]
    },
    {
      "cell_type": "code",
      "execution_count": 84,
      "metadata": {
        "id": "7M5tXUPmRsVZ",
        "outputId": "1bcb4f1e-f8d3-4559-f14a-b160c210d76f",
        "colab": {
          "base_uri": "https://localhost:8080/",
          "height": 35
        }
      },
      "outputs": [
        {
          "output_type": "execute_result",
          "data": {
            "text/plain": [
              "'x = 7, y = 5'"
            ],
            "application/vnd.google.colaboratory.intrinsic+json": {
              "type": "string"
            }
          },
          "metadata": {},
          "execution_count": 84
        }
      ],
      "source": [
        "# Formally, unpacking can be useful for swapping variables in one  (tuples used behind the scene - more on this later)\n",
        "\n",
        "x = 5\n",
        "y = 7\n",
        "\n",
        "y, x = x, y\n",
        "\n",
        "f\"x = {x}, y = {y}\""
      ]
    },
    {
      "cell_type": "markdown",
      "metadata": {
        "collapsed": false,
        "id": "KM0OQEPiRsVa"
      },
      "source": [
        "### Tuples\n",
        "\n",
        "Tuples are finite, immutable, ordered sequences of elements. Once a tuple is created, elements cannot be appended, removed or changed. Instead, a new tuple needs to be created.\n",
        "\n",
        "**Note**: this means that if you have a tuple of lists, the lists themselves can change, but the elements in the tuple cannot be reassigned to other objects."
      ]
    },
    {
      "cell_type": "code",
      "execution_count": 85,
      "metadata": {
        "id": "UMcVXtrBRsVa",
        "outputId": "352ed02b-bbd8-4fd0-a220-5ed21798e656",
        "colab": {
          "base_uri": "https://localhost:8080/"
        }
      },
      "outputs": [
        {
          "output_type": "execute_result",
          "data": {
            "text/plain": [
              "()"
            ]
          },
          "metadata": {},
          "execution_count": 85
        }
      ],
      "source": [
        "# Tuples look like this\n",
        "()  # an empty tuple (or unit/null tuple)"
      ]
    },
    {
      "cell_type": "code",
      "execution_count": 86,
      "metadata": {
        "id": "FrgfR8GvRsVa",
        "outputId": "e2a7aeac-44ca-460d-c300-a4a8784864ac",
        "colab": {
          "base_uri": "https://localhost:8080/"
        }
      },
      "outputs": [
        {
          "output_type": "execute_result",
          "data": {
            "text/plain": [
              "(1,)"
            ]
          },
          "metadata": {},
          "execution_count": 86
        }
      ],
      "source": [
        "(1,)  # a 1-tuple"
      ]
    },
    {
      "cell_type": "code",
      "execution_count": 87,
      "metadata": {
        "id": "H70z2lzfRsVa",
        "outputId": "f5707a84-e076-4e31-858c-c88ef86e07dc",
        "colab": {
          "base_uri": "https://localhost:8080/"
        }
      },
      "outputs": [
        {
          "output_type": "execute_result",
          "data": {
            "text/plain": [
              "(1, 3)"
            ]
          },
          "metadata": {},
          "execution_count": 87
        }
      ],
      "source": [
        "(1, 3)  # a 2-tuple (or couple / ordered pair)"
      ]
    },
    {
      "cell_type": "code",
      "execution_count": 88,
      "metadata": {
        "id": "zM6-xRcxRsVa",
        "outputId": "8b44429f-3655-44f0-8eb3-a06e461343f4",
        "colab": {
          "base_uri": "https://localhost:8080/"
        }
      },
      "outputs": [
        {
          "output_type": "execute_result",
          "data": {
            "text/plain": [
              "(1, 3, 5)"
            ]
          },
          "metadata": {},
          "execution_count": 88
        }
      ],
      "source": [
        "(1, 3, 5)  # a 3-tuple (or triple)"
      ]
    },
    {
      "cell_type": "code",
      "execution_count": 89,
      "metadata": {
        "id": "j2lzA1eHRsVa",
        "outputId": "3935e007-46d3-48b6-efe2-6d9b23ab2766",
        "colab": {
          "base_uri": "https://localhost:8080/"
        }
      },
      "outputs": [
        {
          "output_type": "execute_result",
          "data": {
            "text/plain": [
              "tuple"
            ]
          },
          "metadata": {},
          "execution_count": 89
        }
      ],
      "source": [
        "type(())"
      ]
    },
    {
      "cell_type": "code",
      "execution_count": 90,
      "metadata": {
        "id": "aK7uTjr9RsVa",
        "outputId": "ddc37e95-c0d7-4d9a-aa69-5759694df440",
        "colab": {
          "base_uri": "https://localhost:8080/"
        }
      },
      "outputs": [
        {
          "output_type": "execute_result",
          "data": {
            "text/plain": [
              "(3, 4, 5, 6, 7, 8)"
            ]
          },
          "metadata": {},
          "execution_count": 90
        }
      ],
      "source": [
        "# A lot of the same list operations also work on tuples\n",
        "\n",
        "numbers = (1, 2, 3, 4, 5, 6, 7, 8)\n",
        "\n",
        "numbers[2:]  # => (3, 4, 5, 6, 7, 8)"
      ]
    },
    {
      "cell_type": "code",
      "execution_count": 91,
      "metadata": {
        "id": "7t8tCH1HRsVa",
        "outputId": "d2b914cb-5c6f-4675-80be-f66b599f0b7f",
        "colab": {
          "base_uri": "https://localhost:8080/"
        }
      },
      "outputs": [
        {
          "output_type": "execute_result",
          "data": {
            "text/plain": [
              "[10, 2, 3, 4, 5, 6, 7, 8]"
            ]
          },
          "metadata": {},
          "execution_count": 91
        }
      ],
      "source": [
        "# Lists are mutable\n",
        "\n",
        "# List version of the same numbers\n",
        "numbers_list = [1, 2, 3, 4, 5, 6, 7, 8]\n",
        "\n",
        "# Lists are mutable\n",
        "numbers_list[0] = 10\n",
        "numbers_list"
      ]
    },
    {
      "cell_type": "code",
      "execution_count": 92,
      "metadata": {
        "id": "wOXpsnX5RsVa",
        "outputId": "3a9ef5e8-d97a-46fe-d901-8e10bdc4083f",
        "colab": {
          "base_uri": "https://localhost:8080/",
          "height": 193
        }
      },
      "outputs": [
        {
          "output_type": "error",
          "ename": "TypeError",
          "evalue": "'tuple' object does not support item assignment",
          "traceback": [
            "\u001b[0;31m---------------------------------------------------------------------------\u001b[0m",
            "\u001b[0;31mTypeError\u001b[0m                                 Traceback (most recent call last)",
            "\u001b[0;32m/tmp/ipython-input-1484166788.py\u001b[0m in \u001b[0;36m<cell line: 0>\u001b[0;34m()\u001b[0m\n\u001b[1;32m      1\u001b[0m \u001b[0;31m# Tuples are immutable\u001b[0m\u001b[0;34m\u001b[0m\u001b[0;34m\u001b[0m\u001b[0m\n\u001b[1;32m      2\u001b[0m \u001b[0;34m\u001b[0m\u001b[0m\n\u001b[0;32m----> 3\u001b[0;31m \u001b[0mnumbers\u001b[0m\u001b[0;34m[\u001b[0m\u001b[0;36m0\u001b[0m\u001b[0;34m]\u001b[0m \u001b[0;34m=\u001b[0m \u001b[0;36m10\u001b[0m\u001b[0;34m\u001b[0m\u001b[0;34m\u001b[0m\u001b[0m\n\u001b[0m\u001b[1;32m      4\u001b[0m \u001b[0mnumbers\u001b[0m\u001b[0;34m\u001b[0m\u001b[0;34m\u001b[0m\u001b[0m\n",
            "\u001b[0;31mTypeError\u001b[0m: 'tuple' object does not support item assignment"
          ]
        }
      ],
      "source": [
        "# Tuples are immutable\n",
        "\n",
        "numbers[0] = 10\n",
        "numbers"
      ]
    },
    {
      "cell_type": "markdown",
      "metadata": {
        "collapsed": false,
        "id": "fsba161sRsVa"
      },
      "source": [
        "### Dictionaries\n",
        "\n",
        "Dictionaries are key-value maps, where each key uniquely maps to a single value."
      ]
    },
    {
      "cell_type": "code",
      "execution_count": 93,
      "metadata": {
        "id": "U16XB6QeRsVa",
        "outputId": "a48e3994-5402-4a18-fe9f-83d6ee60ec47",
        "colab": {
          "base_uri": "https://localhost:8080/"
        }
      },
      "outputs": [
        {
          "output_type": "execute_result",
          "data": {
            "text/plain": [
              "dict"
            ]
          },
          "metadata": {},
          "execution_count": 93
        }
      ],
      "source": [
        "empty_dict = {}\n",
        "\n",
        "type(empty_dict)"
      ]
    },
    {
      "cell_type": "code",
      "execution_count": 94,
      "metadata": {
        "id": "HE8W6FI2RsVa",
        "outputId": "fed01542-ce4b-4452-ce91-54e91334684a",
        "colab": {
          "base_uri": "https://localhost:8080/",
          "height": 35
        }
      },
      "outputs": [
        {
          "output_type": "execute_result",
          "data": {
            "text/plain": [
              "'Sergi'"
            ],
            "application/vnd.google.colaboratory.intrinsic+json": {
              "type": "string"
            }
          },
          "metadata": {},
          "execution_count": 94
        }
      ],
      "source": [
        "student = {\n",
        "    \"name\": \"Sergi\",\n",
        "    \"age\": 22,\n",
        "    \"degree\": \"MSci Medical Physics\",\n",
        "    \"nationality\": \"Georgian\",\n",
        "}\n",
        "\n",
        "# You can index into dictionaries just as you can with lists\n",
        "student[\"name\"]"
      ]
    },
    {
      "cell_type": "code",
      "execution_count": 97,
      "metadata": {
        "id": "TUw0JGtbRsVa",
        "outputId": "95432fe0-b98a-4c4e-e503-981dbea17e12",
        "colab": {
          "base_uri": "https://localhost:8080/"
        }
      },
      "outputs": [
        {
          "output_type": "execute_result",
          "data": {
            "text/plain": [
              "True"
            ]
          },
          "metadata": {},
          "execution_count": 97
        }
      ],
      "source": [
        "# You can check if an key is present within a dictionary using 'in'\n",
        "\n",
        "\"name\" in student"
      ]
    },
    {
      "cell_type": "code",
      "execution_count": 98,
      "metadata": {
        "id": "-YfLEftPRsVa",
        "outputId": "4c6d363f-c016-4c03-952e-0d83c3f075e7",
        "colab": {
          "base_uri": "https://localhost:8080/",
          "height": 35
        }
      },
      "outputs": [
        {
          "output_type": "execute_result",
          "data": {
            "text/plain": [
              "\"UCL: London's Global University™, or something like that\""
            ],
            "application/vnd.google.colaboratory.intrinsic+json": {
              "type": "string"
            }
          },
          "metadata": {},
          "execution_count": 98
        }
      ],
      "source": [
        "# If you would rather return a default value, use the get() method\n",
        "\n",
        "student.get(\"university\", \"UCL: London's Global University™, or something like that\")"
      ]
    },
    {
      "cell_type": "code",
      "execution_count": 100,
      "metadata": {
        "id": "xiqWZFdPRsVa",
        "outputId": "92cb7139-5677-47e0-b4ab-01c91ad77dda",
        "colab": {
          "base_uri": "https://localhost:8080/"
        }
      },
      "outputs": [
        {
          "output_type": "execute_result",
          "data": {
            "text/plain": [
              "dict_keys(['name', 'age', 'degree', 'nationality'])"
            ]
          },
          "metadata": {},
          "execution_count": 100
        }
      ],
      "source": [
        "# use .keys() to get the keys of a dictionary\n",
        "\n",
        "student.keys()"
      ]
    },
    {
      "cell_type": "code",
      "execution_count": 101,
      "metadata": {
        "id": "xauzp3SERsVa",
        "outputId": "46136f86-8237-4305-daa0-03a9b512125b",
        "colab": {
          "base_uri": "https://localhost:8080/"
        }
      },
      "outputs": [
        {
          "output_type": "execute_result",
          "data": {
            "text/plain": [
              "dict_values(['Sergi', 22, 'MSci Medical Physics', 'Georgian'])"
            ]
          },
          "metadata": {},
          "execution_count": 101
        }
      ],
      "source": [
        "# likewise, use .values() to get only the values\n",
        "\n",
        "student.values()"
      ]
    },
    {
      "cell_type": "code",
      "execution_count": 103,
      "metadata": {
        "id": "AEw8m4G6RsVa",
        "outputId": "9e141948-1400-46e8-c39c-067df5518adc",
        "colab": {
          "base_uri": "https://localhost:8080/"
        }
      },
      "outputs": [
        {
          "output_type": "execute_result",
          "data": {
            "text/plain": [
              "dict_items([('name', 'Sergi'), ('age', 22), ('degree', 'MSci Medical Physics'), ('nationality', 'Georgian')])"
            ]
          },
          "metadata": {},
          "execution_count": 103
        }
      ],
      "source": [
        "# use .items() to get the key, value pairs as tuples\n",
        "\n",
        "student.items()"
      ]
    },
    {
      "cell_type": "code",
      "execution_count": 104,
      "metadata": {
        "id": "0aTKcRkTRsVa",
        "outputId": "cf6b770c-a98f-4326-cc77-17bbb4ab1d2f",
        "colab": {
          "base_uri": "https://localhost:8080/"
        }
      },
      "outputs": [
        {
          "output_type": "execute_result",
          "data": {
            "text/plain": [
              "{'name': 'Sergi',\n",
              " 'age': 22,\n",
              " 'degree': 'MSci Medical Physics',\n",
              " 'nationality': 'Georgian',\n",
              " 'languages': ['Georgian', 'Russian', 'English', 'Italian'],\n",
              " 'favourite_colour': 'Blue'}"
            ]
          },
          "metadata": {},
          "execution_count": 104
        }
      ],
      "source": [
        "# dictionaries can also be updated with the values from other dictionaries\n",
        "\n",
        "student.update({\"languages\": [\"Georgian\", \"Russian\", \"English\", \"Italian\"], \"favourite_colour\": \"Blue\"})\n",
        "\n",
        "student"
      ]
    },
    {
      "cell_type": "code",
      "execution_count": 105,
      "metadata": {
        "id": "AgKNp94aRsVb",
        "outputId": "791b5828-58a5-4ed8-a23f-d01f549690a7",
        "colab": {
          "base_uri": "https://localhost:8080/"
        }
      },
      "outputs": [
        {
          "output_type": "execute_result",
          "data": {
            "text/plain": [
              "{'name': 'Sergi',\n",
              " 'age': 22,\n",
              " 'degree': 'MSci Medical Physics',\n",
              " 'languages': ['Georgian', 'Russian', 'English', 'Italian'],\n",
              " 'favourite_colour': 'Blue'}"
            ]
          },
          "metadata": {},
          "execution_count": 105
        }
      ],
      "source": [
        "# items can be removed from dictionaries with del\n",
        "\n",
        "del student[\"nationality\"]\n",
        "\n",
        "student"
      ]
    },
    {
      "cell_type": "markdown",
      "metadata": {
        "collapsed": false,
        "id": "sRvCNFfLRsVb"
      },
      "source": [
        "### Sets\n",
        "\n",
        "While lists are ordered sequences of items, sets are unordered containers of unique items."
      ]
    },
    {
      "cell_type": "code",
      "execution_count": 106,
      "metadata": {
        "id": "R2pyGsWgRsVb",
        "outputId": "aeb93b22-f83f-4223-81a8-41df80e01dd9",
        "colab": {
          "base_uri": "https://localhost:8080/"
        }
      },
      "outputs": [
        {
          "output_type": "execute_result",
          "data": {
            "text/plain": [
              "{1, 2, 3, 4, 5}"
            ]
          },
          "metadata": {},
          "execution_count": 106
        }
      ],
      "source": [
        "empty_set = set()  # Watch out, {} will create an empty dictionary!\n",
        "values = {1, 2, 3, 4, 5, 5}  # Python has a neat syntax for creating sets\n",
        "\n",
        "# This syntax might be a clue that sets are related to dictionaries, just without values\n",
        "\n",
        "values"
      ]
    },
    {
      "cell_type": "code",
      "execution_count": 107,
      "metadata": {
        "id": "wa2F6qSwRsVb",
        "outputId": "53639e04-6b4c-4215-8ff7-2d482fed7212",
        "colab": {
          "base_uri": "https://localhost:8080/"
        }
      },
      "outputs": [
        {
          "output_type": "execute_result",
          "data": {
            "text/plain": [
              "{1, 2, 3, 4, 5, 6}"
            ]
          },
          "metadata": {},
          "execution_count": 107
        }
      ],
      "source": [
        "# You can add values to sets\n",
        "\n",
        "values.add(6)\n",
        "\n",
        "values"
      ]
    },
    {
      "cell_type": "code",
      "execution_count": 108,
      "metadata": {
        "id": "8G0GJV9wRsVb",
        "outputId": "cdf37a30-fb63-4c20-cd62-623fcda3f4c0",
        "colab": {
          "base_uri": "https://localhost:8080/"
        }
      },
      "outputs": [
        {
          "output_type": "execute_result",
          "data": {
            "text/plain": [
              "{1, 2, 3, 4, 5}"
            ]
          },
          "metadata": {},
          "execution_count": 108
        }
      ],
      "source": [
        "# You can also remove values from sets\n",
        "\n",
        "values.remove(6)\n",
        "\n",
        "values"
      ]
    },
    {
      "cell_type": "code",
      "execution_count": 109,
      "metadata": {
        "id": "hKDxeDdCRsVb",
        "outputId": "5699f1da-e379-4e5e-ba1d-8fc3590eae3a",
        "colab": {
          "base_uri": "https://localhost:8080/"
        }
      },
      "outputs": [
        {
          "output_type": "execute_result",
          "data": {
            "text/plain": [
              "{(1, 2), (2, 4), (3, 5)}"
            ]
          },
          "metadata": {},
          "execution_count": 109
        }
      ],
      "source": [
        "# Since, sets can contain hashable objects, they can contain tuples of integers (i.e. points)\n",
        "\n",
        "points = {(1, 2), (2, 4), (3, 5)}\n",
        "\n",
        "points"
      ]
    },
    {
      "cell_type": "code",
      "execution_count": 110,
      "metadata": {
        "id": "uiRLj5UjRsVb",
        "outputId": "04667979-5948-4fb4-cb83-9e67f946f153",
        "colab": {
          "base_uri": "https://localhost:8080/",
          "height": 193
        }
      },
      "outputs": [
        {
          "output_type": "error",
          "ename": "TypeError",
          "evalue": "unhashable type: 'list'",
          "traceback": [
            "\u001b[0;31m---------------------------------------------------------------------------\u001b[0m",
            "\u001b[0;31mTypeError\u001b[0m                                 Traceback (most recent call last)",
            "\u001b[0;32m/tmp/ipython-input-2506714169.py\u001b[0m in \u001b[0;36m<cell line: 0>\u001b[0;34m()\u001b[0m\n\u001b[1;32m      1\u001b[0m \u001b[0;31m# Lists are mutable, so they can not be used in a set\u001b[0m\u001b[0;34m\u001b[0m\u001b[0;34m\u001b[0m\u001b[0m\n\u001b[0;32m----> 2\u001b[0;31m \u001b[0mpoints\u001b[0m \u001b[0;34m=\u001b[0m \u001b[0;34m{\u001b[0m\u001b[0;34m[\u001b[0m\u001b[0;36m1\u001b[0m\u001b[0;34m,\u001b[0m \u001b[0;36m2\u001b[0m\u001b[0;34m]\u001b[0m\u001b[0;34m,\u001b[0m \u001b[0;34m[\u001b[0m\u001b[0;36m2\u001b[0m\u001b[0;34m,\u001b[0m \u001b[0;36m4\u001b[0m\u001b[0;34m]\u001b[0m\u001b[0;34m,\u001b[0m \u001b[0;34m[\u001b[0m\u001b[0;36m3\u001b[0m\u001b[0;34m,\u001b[0m \u001b[0;36m5\u001b[0m\u001b[0;34m]\u001b[0m\u001b[0;34m}\u001b[0m\u001b[0;34m\u001b[0m\u001b[0;34m\u001b[0m\u001b[0m\n\u001b[0m\u001b[1;32m      3\u001b[0m \u001b[0;34m\u001b[0m\u001b[0m\n\u001b[1;32m      4\u001b[0m \u001b[0mpoints\u001b[0m\u001b[0;34m\u001b[0m\u001b[0;34m\u001b[0m\u001b[0m\n",
            "\u001b[0;31mTypeError\u001b[0m: unhashable type: 'list'"
          ]
        }
      ],
      "source": [
        "# Lists are mutable, so they can not be used in a set\n",
        "points = {[1, 2], [2, 4], [3, 5]}\n",
        "\n",
        "points"
      ]
    },
    {
      "cell_type": "markdown",
      "metadata": {
        "collapsed": false,
        "id": "VLYRyo5YRsVb"
      },
      "source": [
        "## Print statements\n",
        "\n",
        "Before we progress, it would be rude not to introduce the `print()` function! [Read more in the documentation](https://docs.python.org/3/library/functions.html#print)."
      ]
    },
    {
      "cell_type": "code",
      "execution_count": 111,
      "metadata": {
        "id": "nfy10bYrRsVb",
        "outputId": "02270922-8a95-4f77-a594-dbdc3f9b3cf4",
        "colab": {
          "base_uri": "https://localhost:8080/"
        }
      },
      "outputs": [
        {
          "output_type": "stream",
          "name": "stdout",
          "text": [
            "Hello, world!\n"
          ]
        }
      ],
      "source": [
        "print(\"Hello, world!\")  # Glad we got that one out the way!"
      ]
    },
    {
      "cell_type": "code",
      "execution_count": 112,
      "metadata": {
        "id": "FXXKxy7JRsVb",
        "outputId": "ef2f0f4e-7d7e-4427-da72-d3140f10f2f3",
        "colab": {
          "base_uri": "https://localhost:8080/"
        }
      },
      "outputs": [
        {
          "output_type": "stream",
          "name": "stdout",
          "text": [
            "a | b | c | d !\n"
          ]
        }
      ],
      "source": [
        "# print(·) has plenty of useful arguments you can explore\n",
        "\n",
        "print(\"a\", \"b\", \"c\", \"d\", sep=\" | \", end=\" !\\n\")"
      ]
    },
    {
      "cell_type": "code",
      "execution_count": 113,
      "metadata": {
        "id": "ZUvcVFoLRsVb",
        "outputId": "0923528d-4dfe-4718-cdf1-a25ca9970264",
        "colab": {
          "base_uri": "https://localhost:8080/"
        }
      },
      "outputs": [
        {
          "output_type": "stream",
          "name": "stdout",
          "text": [
            "2 - 1 = 1\n"
          ]
        }
      ],
      "source": [
        "# String formatting (f-strings)\n",
        "a = 2\n",
        "b = 1\n",
        "c = a-b\n",
        "\n",
        "print(f\"{a} - {b} = {c}\")"
      ]
    },
    {
      "cell_type": "code",
      "execution_count": 114,
      "metadata": {
        "id": "R_pdhnXiRsVb",
        "outputId": "7f4ef95d-3b15-46e3-a704-6e8b3e62fff2",
        "colab": {
          "base_uri": "https://localhost:8080/"
        }
      },
      "outputs": [
        {
          "output_type": "stream",
          "name": "stdout",
          "text": [
            "a - b = c\n"
          ]
        }
      ],
      "source": [
        "# The same would not work, without proper formatting\n",
        "\n",
        "print(\"a - b = c\")"
      ]
    },
    {
      "cell_type": "markdown",
      "metadata": {
        "collapsed": false,
        "id": "IsREqxv9RsVb"
      },
      "source": [
        "## Control Flow\n",
        "\n",
        "### Conditional statements\n",
        "\n",
        "The infamous 'if-statement' is used for executing different pieces of code based on some Boolean value.\n"
      ]
    },
    {
      "cell_type": "code",
      "execution_count": 115,
      "metadata": {
        "id": "Hg89drnhRsVb",
        "outputId": "9522aa87-bd3b-4977-f2c3-e456476d463c",
        "colab": {
          "base_uri": "https://localhost:8080/"
        }
      },
      "outputs": [
        {
          "output_type": "stream",
          "name": "stdout",
          "text": [
            "Wow, 1 < 2.\n",
            "Apples are recognised as a type of fruit.\n"
          ]
        }
      ],
      "source": [
        "if 1 < 2:\n",
        "    print(\"Wow, 1 < 2.\")\n",
        "\n",
        "if \"apple\" in fruit:\n",
        "    print(\"Apples are recognised as a type of fruit.\")\n",
        "elif \"banana\" in fruit:\n",
        "    print(\n",
        "        \"Well, apples might no longer be fruit for some reason, but at least we have bananas.\"\n",
        "    )\n",
        "else:\n",
        "    print(\"Goodness, just HOW will we cope without apples and bananas?\")"
      ]
    },
    {
      "cell_type": "markdown",
      "metadata": {
        "collapsed": false,
        "id": "IcvuOl-SRsVb"
      },
      "source": [
        "Indentation is **really** important in Python! By convention, blocks are indented with four spaces &ndash; not tabs (however much you or I may love tabs)."
      ]
    },
    {
      "cell_type": "markdown",
      "metadata": {
        "collapsed": false,
        "id": "DQWJwLGURsVb"
      },
      "source": [
        "### For loops\n",
        "\n",
        "For loops provide a way of iterating over some **iterable**. It is possible to iterate over many of the types we have already discussed, such as the characters of a string, the items of a list and the keys of a dictionary."
      ]
    },
    {
      "cell_type": "code",
      "execution_count": 116,
      "metadata": {
        "id": "fjQRyluHRsVb",
        "outputId": "a027c60b-9918-4237-cce0-adff570d3083",
        "colab": {
          "base_uri": "https://localhost:8080/"
        }
      },
      "outputs": [
        {
          "output_type": "stream",
          "name": "stdout",
          "text": [
            "H\n",
            "e\n",
            "l\n",
            "l\n",
            "o\n"
          ]
        }
      ],
      "source": [
        "for character in \"Hello\":\n",
        "    print(character)"
      ]
    },
    {
      "cell_type": "code",
      "execution_count": 117,
      "metadata": {
        "id": "zXCO1l0nRsVc",
        "outputId": "36836fb6-fbd8-4bb3-92ea-f64fee7fe6da",
        "colab": {
          "base_uri": "https://localhost:8080/"
        }
      },
      "outputs": [
        {
          "output_type": "stream",
          "name": "stdout",
          "text": [
            "1\n",
            "2\n",
            "3\n",
            "4\n"
          ]
        }
      ],
      "source": [
        "for item in [1, 2, 3, 4]:\n",
        "    print(item)"
      ]
    },
    {
      "cell_type": "code",
      "execution_count": 118,
      "metadata": {
        "id": "9Vq0gEZfRsVc",
        "outputId": "ffcc9df8-e53f-4ff7-e57b-03846177a2ab",
        "colab": {
          "base_uri": "https://localhost:8080/"
        }
      },
      "outputs": [
        {
          "output_type": "stream",
          "name": "stdout",
          "text": [
            "a 1\n",
            "b 2\n"
          ]
        }
      ],
      "source": [
        "dictionary = {\"a\": 1, \"b\": 2}\n",
        "for key in dictionary:\n",
        "    print(key, dictionary[key])"
      ]
    },
    {
      "cell_type": "code",
      "execution_count": 119,
      "metadata": {
        "id": "1nc-KkJORsVc",
        "outputId": "22e88fb1-07c9-4f4d-cf06-141581625a1c",
        "colab": {
          "base_uri": "https://localhost:8080/"
        }
      },
      "outputs": [
        {
          "output_type": "stream",
          "name": "stdout",
          "text": [
            "a 1\n",
            "b 2\n"
          ]
        }
      ],
      "source": [
        "# It is arguably more \"Pythonic\" to iterate over dictionaries\n",
        "# in the following way instead using .items():\n",
        "\n",
        "for key, value in dictionary.items():\n",
        "    print(key, value)"
      ]
    },
    {
      "cell_type": "code",
      "execution_count": 120,
      "metadata": {
        "id": "Dts84gvtRsVc",
        "outputId": "b395f0a7-e2d1-4e83-98ba-7252d777a9ca",
        "colab": {
          "base_uri": "https://localhost:8080/"
        }
      },
      "outputs": [
        {
          "output_type": "stream",
          "name": "stdout",
          "text": [
            "0 apple\n",
            "1 banana\n",
            "2 cherry\n",
            "3 elderberry\n",
            "4 fig\n"
          ]
        }
      ],
      "source": [
        "# You can also iterate over the enumeration of a list, which\n",
        "# will number the elements (starting from zero) for you as\n",
        "# you go along and iterate over the list - neat!\n",
        "\n",
        "for index, value in enumerate(fruit):\n",
        "    print(index, value)"
      ]
    },
    {
      "cell_type": "code",
      "execution_count": 121,
      "metadata": {
        "id": "LO81aGWhRsVc",
        "outputId": "a24e1637-ba58-4837-8946-c249c4b9e4e2",
        "colab": {
          "base_uri": "https://localhost:8080/"
        }
      },
      "outputs": [
        {
          "output_type": "stream",
          "name": "stdout",
          "text": [
            "1 5\n",
            "2 6\n",
            "3 7\n",
            "4 8\n"
          ]
        }
      ],
      "source": [
        "# If you have two lists and want to iterate over them both in parallel, use zip(·, ·)\n",
        "# It will terminate after at least one of the lists gets exhausted\n",
        "\n",
        "for a, b in zip([1, 2, 3, 4], [5, 6, 7, 8, 9]):\n",
        "    print(a, b)"
      ]
    },
    {
      "cell_type": "markdown",
      "metadata": {
        "collapsed": false,
        "id": "to7PXTD8RsVc"
      },
      "source": [
        "As we have just hinted at, you can iterate over way more than just basic types. **Generators** are special iterators that yield values that may be looped over. One common such generator is `range([start,] end)` (or with a step, `range(start, end, step)`), and you can also [define your own](https://docs.python.org/3/tutorial/classes.html#generators)."
      ]
    },
    {
      "cell_type": "code",
      "execution_count": 122,
      "metadata": {
        "id": "inMNGJqnRsVc",
        "outputId": "fe919df7-0e9c-4e4e-ee0b-ea732467c7e6",
        "colab": {
          "base_uri": "https://localhost:8080/"
        }
      },
      "outputs": [
        {
          "output_type": "stream",
          "name": "stdout",
          "text": [
            "0 1 2 3 4 "
          ]
        }
      ],
      "source": [
        "# Note that the endpoint is exclusive, so you end up\n",
        "# with five numbers, zero to four\n",
        "\n",
        "for i in range(5):\n",
        "    print(i, end=\" \")"
      ]
    },
    {
      "cell_type": "code",
      "execution_count": 123,
      "metadata": {
        "id": "ptXQarohRsVc",
        "outputId": "4ba98d7a-7e4b-4d3d-c13b-be16e6deeee4",
        "colab": {
          "base_uri": "https://localhost:8080/"
        }
      },
      "outputs": [
        {
          "output_type": "stream",
          "name": "stdout",
          "text": [
            "1 2 3 4 "
          ]
        }
      ],
      "source": [
        "for i in range(1, 5):\n",
        "    print(i, end=\" \")"
      ]
    },
    {
      "cell_type": "code",
      "execution_count": 124,
      "metadata": {
        "id": "dA8y0WqeRsVc",
        "outputId": "75f774d4-1e28-4c72-e3a2-d38fc16f5320",
        "colab": {
          "base_uri": "https://localhost:8080/"
        }
      },
      "outputs": [
        {
          "output_type": "stream",
          "name": "stdout",
          "text": [
            "0 2 4 6 8 "
          ]
        }
      ],
      "source": [
        "for i in range(0, 10, 2):\n",
        "    print(i, end=\" \")"
      ]
    },
    {
      "cell_type": "markdown",
      "metadata": {
        "collapsed": false,
        "id": "GZBKYog4RsVc"
      },
      "source": [
        "### While loops\n",
        "\n",
        "As in other languages, Python also has while loops."
      ]
    },
    {
      "cell_type": "code",
      "execution_count": null,
      "metadata": {
        "id": "SIT50PKoRsVc"
      },
      "outputs": [],
      "source": [
        "i = 0\n",
        "while i < 10:\n",
        "    print(i)\n",
        "    i += 1\n",
        "\n",
        "# Yes, `while True:` would loop forever!"
      ]
    },
    {
      "cell_type": "markdown",
      "metadata": {
        "collapsed": false,
        "id": "C9sgef4bRsVc"
      },
      "source": [
        "## Comprehensions\n",
        "\n",
        "Python also has the idea of list comprehensions and dictionary comprehensions. Comprehensions are intimately related with the ideas of maps and filters from functional programming.\n",
        "\n",
        "Note: there are no tuple comprehensions; they instead result in in-line generators."
      ]
    },
    {
      "cell_type": "code",
      "execution_count": 125,
      "metadata": {
        "id": "kvL2oEZzRsVc",
        "outputId": "47e929fc-8b6f-4a83-948a-a8d650bc9b60",
        "colab": {
          "base_uri": "https://localhost:8080/"
        }
      },
      "outputs": [
        {
          "output_type": "execute_result",
          "data": {
            "text/plain": [
              "['Jeremy', 'Filip', 'Luke', 'Ferran']"
            ]
          },
          "metadata": {},
          "execution_count": 125
        }
      ],
      "source": [
        "names = [\"jeremy\", \"filip\", \"luke\", \"ferran\"]\n",
        "\n",
        "[name.capitalize() for name in names]"
      ]
    },
    {
      "cell_type": "code",
      "execution_count": 126,
      "metadata": {
        "id": "5ZMQVfHZRsVc",
        "outputId": "99a93b94-6c78-4cf4-99dc-bddd301a8e92",
        "colab": {
          "base_uri": "https://localhost:8080/"
        }
      },
      "outputs": [
        {
          "output_type": "execute_result",
          "data": {
            "text/plain": [
              "['JEREMY', 'LUKE', 'FERRAN']"
            ]
          },
          "metadata": {},
          "execution_count": 126
        }
      ],
      "source": [
        "# You can add filters to list comprehensions\n",
        "\n",
        "[name.upper() for name in names if \"e\" in name]"
      ]
    },
    {
      "cell_type": "code",
      "execution_count": 127,
      "metadata": {
        "id": "dWe7O731RsVc",
        "outputId": "72fc6822-893b-4589-9f3f-e77016dab7fc",
        "colab": {
          "base_uri": "https://localhost:8080/"
        }
      },
      "outputs": [
        {
          "output_type": "execute_result",
          "data": {
            "text/plain": [
              "[(0, 1),\n",
              " (0, 2),\n",
              " (0, 3),\n",
              " (0, 4),\n",
              " (1, 0),\n",
              " (1, 2),\n",
              " (1, 3),\n",
              " (1, 4),\n",
              " (2, 0),\n",
              " (2, 1),\n",
              " (2, 3),\n",
              " (2, 4),\n",
              " (3, 0),\n",
              " (3, 1),\n",
              " (3, 2),\n",
              " (3, 4),\n",
              " (4, 0),\n",
              " (4, 1),\n",
              " (4, 2),\n",
              " (4, 3)]"
            ]
          },
          "metadata": {},
          "execution_count": 127
        }
      ],
      "source": [
        "# You can also iterate over multiple iterables at once\n",
        "[(x, y) for x in range(5) for y in range(5) if x != y]"
      ]
    },
    {
      "cell_type": "code",
      "execution_count": 128,
      "metadata": {
        "id": "j4ii8jYyRsVc",
        "outputId": "ade39869-e0b5-4b29-8253-a72ff12211b5",
        "colab": {
          "base_uri": "https://localhost:8080/"
        }
      },
      "outputs": [
        {
          "output_type": "execute_result",
          "data": {
            "text/plain": [
              "{'JEREMY': 6, 'FILIP': 5, 'LUKE': 4, 'FERRAN': 6}"
            ]
          },
          "metadata": {},
          "execution_count": 128
        }
      ],
      "source": [
        "# Likewise, there are also dictionary comprehensions\n",
        "\n",
        "name_lengths = {name.upper(): len(name) for name in names}\n",
        "\n",
        "name_lengths"
      ]
    },
    {
      "cell_type": "code",
      "execution_count": 129,
      "metadata": {
        "id": "kEPBfNJ7RsVc",
        "outputId": "2548f351-16b3-4ff3-f70f-8329338db6c4",
        "colab": {
          "base_uri": "https://localhost:8080/"
        }
      },
      "outputs": [
        {
          "output_type": "execute_result",
          "data": {
            "text/plain": [
              "{0, 1, 2, 3, 4, 5, 6, 7, 8, 9}"
            ]
          },
          "metadata": {},
          "execution_count": 129
        }
      ],
      "source": [
        "# As well as set comprehensions\n",
        "\n",
        "{i for i in range(10)}"
      ]
    },
    {
      "cell_type": "markdown",
      "metadata": {
        "collapsed": false,
        "id": "qwVYJxbpRsVc"
      },
      "source": [
        "Comprehensions are a powerful tool to have in your arsenal. Here is a more complex example on how they could be used, mimicking the data format you might expect to be returned from some web API."
      ]
    },
    {
      "cell_type": "code",
      "execution_count": 130,
      "metadata": {
        "id": "_LQ4z6NERsVc",
        "outputId": "5c8810c4-6859-4df9-d915-55a4a9aa0554",
        "colab": {
          "base_uri": "https://localhost:8080/"
        }
      },
      "outputs": [
        {
          "output_type": "execute_result",
          "data": {
            "text/plain": [
              "{'Fight Club': 1999, 'When Harry Met Sally': 1989, 'Spirited Away': 2001}"
            ]
          },
          "metadata": {},
          "execution_count": 130
        }
      ],
      "source": [
        "# define a list of dictionaries containing a film and its release date\n",
        "films = [\n",
        "    {\"name\": \"Fight Club\", \"year\": 1999, \"stars\": 4.3},\n",
        "    {\"name\": \"When Harry Met Sally\", \"year\": 1989, \"stars\": 4.1},\n",
        "    {\"name\": \"Spirited Away\", \"year\": 2001, \"stars\": 4.9},\n",
        "]\n",
        "\n",
        "# get a dictionary of films by year\n",
        "films_by_year = {film[\"name\"]: film[\"year\"] for film in films}\n",
        "\n",
        "films_by_year"
      ]
    },
    {
      "cell_type": "markdown",
      "metadata": {
        "collapsed": false,
        "id": "lMwobuFaRsVc"
      },
      "source": [
        "### Functions\n",
        "\n",
        "We have seen a few built-in functions so far, such as `print` and `len`, but we can actually define our own."
      ]
    },
    {
      "cell_type": "markdown",
      "metadata": {
        "collapsed": false,
        "id": "i_clJq2yRsVd"
      },
      "source": [
        "#### Built-in Functions\n",
        "\n",
        "By default, Python has a selection of built-in functions you can use without having to import anything. We have already talked about a few of these, and it is worth taking the time to investigate what they do! Python has some [excellent documentation](https://docs.python.org/3/library/functions.html), and learning how to read documentation is an important skill.\n",
        "\n",
        "\n",
        "```\n",
        "abs(), aiter(), all(), any(), anext(), ascii(), bin(), bool(), breakpoint(), bytearray(), bytes(), callable(), chr(), classmethod(), compile(), complex(), delattr(), dict(), dir(), divmod(), enumerate(), eval(), exec(), filter(), float(), format(), frozenset(), getattr(), globals(), hasattr(), hash(), help(), hex(), id(), input(), int(), isinstance(), issubclass(), iter(), L, len(), list(), locals(), map(), max(), memoryview(), min(), next(), object(), oct(), open(), ord(), pow(), print(), property(), range(), repr(), reversed(), round(), set(), setattr(), slice(), sorted(), staticmethod(), str(), sum(), super(), tuple(), type(), vars(), zip()\n",
        "```\n",
        "\n",
        "You can also import functions from other modules. Python is fortunate to have a large standard library!"
      ]
    },
    {
      "cell_type": "code",
      "execution_count": 131,
      "metadata": {
        "id": "8B-AVY6mRsVd",
        "outputId": "0787e7b3-7275-47f1-ff35-b51b6ba86beb",
        "colab": {
          "base_uri": "https://localhost:8080/"
        }
      },
      "outputs": [
        {
          "output_type": "execute_result",
          "data": {
            "text/plain": [
              "5.0"
            ]
          },
          "metadata": {},
          "execution_count": 131
        }
      ],
      "source": [
        "import math\n",
        "\n",
        "math.sqrt(25)"
      ]
    },
    {
      "cell_type": "code",
      "execution_count": 132,
      "metadata": {
        "id": "1pfu_KyYRsVd",
        "outputId": "a7a3883f-b485-4ca8-90e3-a23de7cce75c",
        "colab": {
          "base_uri": "https://localhost:8080/"
        }
      },
      "outputs": [
        {
          "output_type": "stream",
          "name": "stdout",
          "text": [
            "9\n",
            "8\n",
            "fig\n",
            "0.549345890023635\n"
          ]
        }
      ],
      "source": [
        "from random import randint, randrange, choice, random\n",
        "\n",
        "print(randint(0, 10))  # the start and end points are INCLUSIVE\n",
        "print(\n",
        "    randrange(0, 10)\n",
        ")  # the start point is INCLUSIVE, but the endpoint is EXCLUSIVE like range()\n",
        "print(choice(fruit))  # selects a random fruit\n",
        "print(random())  # generate a float in [0.0, 1.0)"
      ]
    },
    {
      "cell_type": "markdown",
      "metadata": {
        "collapsed": false,
        "id": "-20JtTtaRsVd"
      },
      "source": [
        "Exceptionally, you may wish to import a module into your current namespace under a different name. Often, this is because it may clash with a name you are already using in your code."
      ]
    },
    {
      "cell_type": "code",
      "execution_count": null,
      "metadata": {
        "id": "Ufy8RV_KRsVd"
      },
      "outputs": [],
      "source": [
        "statistics = [123.4, 534.234, 964.4]  # What great statistics!\n",
        "\n",
        "import statistics as stats\n",
        "\n",
        "stats.stdev([1, 2, 3, 4, 5])"
      ]
    },
    {
      "cell_type": "markdown",
      "metadata": {
        "collapsed": false,
        "id": "B5cstjt1RsVd"
      },
      "source": [
        "While it is recommended to avoid doing so if not strictly necessary in other cases, shortening a long module name can be sometimes appropriate where it can add clarity, particularly if there would otherwise be a large number of references to the longer module name that would negatively impact the readability of the code.\n",
        "\n",
        "Common examples of this you may see in the machine learning world include the following:\n",
        "```py\n",
        "import tensorflow as tf\n",
        "import numpy as np\n",
        "```"
      ]
    },
    {
      "cell_type": "markdown",
      "metadata": {
        "collapsed": false,
        "id": "ARv2EYzBRsVd"
      },
      "source": [
        "If you want to find out more about anything included within the Python standard library, check out the [documentation](https://docs.python.org/3/library/)!"
      ]
    },
    {
      "cell_type": "markdown",
      "metadata": {
        "collapsed": false,
        "id": "CPeeoFH5RsVd"
      },
      "source": [
        "#### User-defined Functions\n",
        "\n",
        "Defining your own functions allows you to create your own units of reusable code. If used appropriately, they can contribute massively to code clarity and maintainability."
      ]
    },
    {
      "cell_type": "code",
      "execution_count": null,
      "metadata": {
        "id": "a1jl3eyyRsVd"
      },
      "outputs": [],
      "source": [
        "def add(p, q):\n",
        "    return p + q\n",
        "\n",
        "\n",
        "# By default, arguments are passed in the same order in which they are defined\n",
        "add(1, 2)"
      ]
    },
    {
      "cell_type": "code",
      "execution_count": null,
      "metadata": {
        "id": "UFcUCA8LRsVd"
      },
      "outputs": [],
      "source": [
        "# Python is very flexible with respect to argument order\n",
        "# if you are explicit enough about what you want to do!\n",
        "\n",
        "add(q=2, p=1)"
      ]
    },
    {
      "cell_type": "code",
      "execution_count": null,
      "metadata": {
        "id": "Amu6ZyvBRsVd"
      },
      "outputs": [],
      "source": [
        "# It is possible to specify default values\n",
        "\n",
        "\n",
        "def greet(name=\"Levon\"):\n",
        "    print(f\"Hello, {name}!\")\n",
        "\n",
        "\n",
        "greet()\n",
        "greet(\"Asmita\")"
      ]
    },
    {
      "cell_type": "markdown",
      "metadata": {
        "collapsed": false,
        "id": "LNEr5u9RRsVd"
      },
      "source": [
        "As another quick aside, one important idea in _software engineering_ is the **single-responsibility principle** (SRP) that functions, classes, modules and so on should have one clear responsibility. This is related to two other principles: **don't repeat yourself** (DRY) and **keep it simple, stupid** (KISS -- no, not the rock band)!\n",
        "\n",
        "You do not have to follow these principles religiously, but they can go a long way to helping you write cleaner code.\n",
        "\n",
        "In practice, if you have a function that performs some intensive computation and then outputs the result, you might want to consider splitting that up into a function that performs the computation and another that handles how it is displayed and formatted. By decoupling these two operations from each other, this then makes code to perform the original computation much more reusable and the program a bit more maintainable!"
      ]
    },
    {
      "cell_type": "code",
      "execution_count": null,
      "metadata": {
        "id": "R0iUmSPzRsVd"
      },
      "outputs": [],
      "source": [
        "# We can also specify type annotations, which can be useful to other programmers,\n",
        "# as well as to type checking software (linters), which can help spot bugs in code\n",
        "\n",
        "\n",
        "def shout(message: str) -> None:\n",
        "    print(message.upper())\n",
        "\n",
        "\n",
        "shout(\n",
        "    \"hey can i interest you in some web3 blockchain machine learning techno-- *whack*\"\n",
        ")"
      ]
    },
    {
      "cell_type": "markdown",
      "metadata": {
        "collapsed": false,
        "id": "UvtR9MekRsVd"
      },
      "source": [
        "**Recursion** is a technique that lets you define a function in terms of itself. Here is a link to a great video explaining recursion, https://www.youtube.com/watch?v=ngCos392W4w"
      ]
    },
    {
      "cell_type": "code",
      "execution_count": null,
      "metadata": {
        "id": "OnZo_PyCRsVd"
      },
      "outputs": [],
      "source": [
        "# This function uses an example of an 'early return' 👀\n",
        "# Code often looks cleaner if you avoid 'else' clauses where they are unnecessary!\n",
        "\n",
        "\n",
        "def factorial(n: int):\n",
        "    if n <= 1:\n",
        "        return 1\n",
        "\n",
        "    return n * factorial(n - 1)\n",
        "\n",
        "\n",
        "factorial(5)"
      ]
    },
    {
      "cell_type": "code",
      "execution_count": null,
      "metadata": {
        "id": "GGnkMIihRsVd"
      },
      "outputs": [],
      "source": [
        "# Note: while recursion has its place, there is often a more efficient\n",
        "# solution that uses plain iteration (and therefore avoids the risk of\n",
        "# a call stack overflow)\n",
        "\n",
        "\n",
        "def factorial(n: int) -> int:\n",
        "    answer = 1\n",
        "    for j in range(2, n + 1):\n",
        "        answer *= j\n",
        "    return answer\n",
        "\n",
        "\n",
        "factorial(5)"
      ]
    },
    {
      "cell_type": "markdown",
      "metadata": {
        "collapsed": false,
        "id": "4ucXoOOWRsVd"
      },
      "source": [
        "## Classes\n",
        "\n",
        "As has become apparent by this point, Python has first-class support for object-oriented programming. We have seen how we can create more complex data structures through **composition** (e.g. with tuples), as well as through **inheritance** (e.g. with Boolean values being sneaky subtypes of integers!). Furthermore, we have seen how we can define functions to define additional operations on data.\n",
        "\n",
        "Building on these ideas, **classes** provide a natural way to define our own more complex object types of which instances may be instantiated. They can encapsulate data within their internal state and expose a number of operations through methods that act on that data.\n",
        "\n",
        "More formally, instance objects may have data attributes (that store data within the object), as well as methods (that allow certain actions to be performed, typically involving said data attributes at least in part).\n",
        "\n",
        "They are typically named using Pascal case, i.e. `ClassName` starting with an uppercase letter with no underscores, not `className` or `class_name`.\n",
        "\n",
        "We have actually already seen classes: exceptions, such as `ValueError`, are classes that contain useful data attributes and helper methods."
      ]
    },
    {
      "cell_type": "code",
      "execution_count": null,
      "metadata": {
        "id": "FC3AUhCnRsVd"
      },
      "outputs": [],
      "source": [
        "class Person:\n",
        "    \"\"\"A representation of a person.\"\"\"\n",
        "\n",
        "    species = \"homo sapiens\"\n",
        "\n",
        "    def __init__(self, name, age) -> None:\n",
        "        \"\"\"This method is known as the constructor.\n",
        "\n",
        "        It gets called when an instance of this class gets instantiated.\n",
        "\n",
        "        Args:\n",
        "            name (str): The name of the person.\n",
        "            age (int): The age of the person.\n",
        "        \"\"\"\n",
        "\n",
        "        self.name = name\n",
        "        self.age = age\n",
        "\n",
        "    def get_introduction(self):\n",
        "        \"\"\"Gets an introduction for the person.\n",
        "\n",
        "        Returns:\n",
        "            str: The introduction.\n",
        "        \"\"\"\n",
        "\n",
        "        return f\"{self.name} (aged {self.age}) is a person.\""
      ]
    },
    {
      "cell_type": "code",
      "execution_count": null,
      "metadata": {
        "id": "OCWE_ic9RsVe"
      },
      "outputs": [],
      "source": [
        "Person.species"
      ]
    },
    {
      "cell_type": "code",
      "execution_count": null,
      "metadata": {
        "id": "XGDf4f0ERsVe"
      },
      "outputs": [],
      "source": [
        "# Legendary bassist 👀\n",
        "joe_dart = Person(\"Joe Dart\", 31)\n",
        "\n",
        "print(joe_dart.get_introduction())"
      ]
    },
    {
      "cell_type": "markdown",
      "metadata": {
        "collapsed": false,
        "id": "5KoFzVskRsVe"
      },
      "source": [
        "**Fun fact**: these \"double underscore\" methods, such as `__init__()`, are known as \"dunder methods\" (or more commonly in other languages, \"magic methods\")."
      ]
    },
    {
      "cell_type": "code",
      "execution_count": null,
      "metadata": {
        "id": "_PZfhZzTRsVe"
      },
      "outputs": [],
      "source": [
        "class Student(Person):\n",
        "    \"\"\"A representation of a student, which inherits from our\n",
        "    pre-existing representation of a Person.\n",
        "    \"\"\"\n",
        "\n",
        "    def __init__(self, name, age, degree, year) -> None:\n",
        "        # We can call the parent's constructor! This is fairly common.\n",
        "        super().__init__(name, age)\n",
        "\n",
        "        self.degree = degree\n",
        "        self.year = year\n",
        "\n",
        "    def get_introduction(self):\n",
        "        # We can override methods if we wish\n",
        "\n",
        "        return f\"{self.name} (aged {self.age}) is a student ({self.degree}, Year {self.year}).\"\n",
        "\n",
        "    def get_hours_of_sleep(self):\n",
        "        # We can also define new methods!\n",
        "\n",
        "        if self.degree == \"MEng Computer Science\":\n",
        "            return 0\n",
        "\n",
        "        return 8"
      ]
    },
    {
      "cell_type": "code",
      "execution_count": null,
      "metadata": {
        "id": "efaEq5Z5RsVe"
      },
      "outputs": [],
      "source": [
        "jeremy = Student(\"Jeremy\", 21, \"MEng Computer Science\", 4)\n",
        "\n",
        "print(jeremy.get_introduction())\n",
        "print(\"Hours of sleep:\", jeremy.get_hours_of_sleep())"
      ]
    },
    {
      "cell_type": "code",
      "execution_count": null,
      "metadata": {
        "id": "L9nCZHRLRsVe"
      },
      "outputs": [],
      "source": [
        "ferran = Student(\"Ferran\", 19, \"MSci Neuroscience\", 2)\n",
        "\n",
        "print(ferran.get_introduction())\n",
        "print(\"Hours of sleep:\", ferran.get_hours_of_sleep())"
      ]
    },
    {
      "cell_type": "code",
      "execution_count": null,
      "metadata": {
        "id": "2bf2hcImRsVe"
      },
      "outputs": [],
      "source": [
        "# This method comes from the Person class!\n",
        "if jeremy.is_a_robot():\n",
        "    print(\"Oops, I've been lying to those CAPTCHA checks all this time!\")\n",
        "else:\n",
        "    print(\"Nah, this guy's definitely a human.\")"
      ]
    },
    {
      "cell_type": "markdown",
      "metadata": {
        "collapsed": false,
        "id": "7aPe4XfjRsVe"
      },
      "source": [
        "Unfortunately, we are running out of time to go into classes into much more detail, but I would encourage you to read the [incredibly thorough documentation](https://docs.python.org/3/tutorial/classes.html)!"
      ]
    },
    {
      "cell_type": "markdown",
      "metadata": {
        "collapsed": false,
        "id": "mLzGEM8hRsVe"
      },
      "source": [
        "# Thank you!\n",
        "\n",
        "Thank you so much for following this part of the tutorial. There is a lot of material here to digest, but you've absolutely got this!\n",
        "\n",
        "Take your time to go through the examples and experiment. In fact, you can create and edit your own code blocks in this very Jupyter notebook and experiment alongside the examples we have included! The best way to learn and internalise all this information is to put it into practice.\n",
        "\n",
        "If you are hungry to learn more about software engineering, reach out to us! In the meantime, you might want to look into some other coding principles that are important to writing clean code, such as defining clean **interfaces** between layers of our applications, the ideas of **abstraction** and **encapsulation**, and so on.\n",
        "\n",
        "Writing production-ready software can be a complex process, involving stages such as the following:\n",
        "- understanding users' requirements (possibly thinking about both functional and non-functional requirements using the MoSCoW method);\n",
        "- designing and architecting a solution (what are the different components of your system? how do they interact and scale?);\n",
        "- user interface and experience design;\n",
        "- implementation (what technologies are the right tool to solve this problem? how can you write code that is easy to maintain, test and validate the correctness of?);\n",
        "- testing (unit testing, integration testing & end-to-end testing);\n",
        "- debugging (fixing parts of the codebase that do not work as intended);\n",
        "- static analysis (can we find and correct errors in our code at build-time?);\n",
        "- and so on.\n",
        "\n",
        "Understandably, you might wish to jump straight into learning about the latest and greatest machine learning models (as you will be able to in our upcoming tutorials!), but spending the time now to get a _solid_ foundation in Python and perhaps ideas from software engineering more broadly can be a fulfilling way of setting yourself up to tackle larger challenges.\n",
        "\n",
        "If you want to learn more about computer science, an excellent introduction is Harvard's [CS50](https://www.edx.org/cs50). They also have a 10-week course that focuses specifically on teaching Python, [CS50P](https://www.edx.org/course/cs50s-introduction-to-programming-with-python), rather than on computer science more broadly."
      ]
    }
  ],
  "metadata": {
    "kernelspec": {
      "display_name": "Python 3",
      "language": "python",
      "name": "python3"
    },
    "language_info": {
      "codemirror_mode": {
        "name": "ipython",
        "version": 3
      },
      "file_extension": ".py",
      "mimetype": "text/x-python",
      "name": "python",
      "nbconvert_exporter": "python",
      "pygments_lexer": "ipython3",
      "version": "3.11.1"
    },
    "orig_nbformat": 4,
    "vscode": {
      "interpreter": {
        "hash": "369f2c481f4da34e4445cda3fffd2e751bd1c4d706f27375911949ba6bb62e1c"
      }
    },
    "colab": {
      "provenance": [],
      "include_colab_link": true
    }
  },
  "nbformat": 4,
  "nbformat_minor": 0
}