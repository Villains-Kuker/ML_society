{
  "cells": [
    {
      "cell_type": "markdown",
      "metadata": {
        "id": "view-in-github",
        "colab_type": "text"
      },
      "source": [
        "<a href=\"https://colab.research.google.com/github/Villains-Kuker/ML_society/blob/main/1_1_introduction_to_python.ipynb\" target=\"_parent\"><img src=\"https://colab.research.google.com/assets/colab-badge.svg\" alt=\"Open In Colab\"/></a>"
      ]
    },
    {
      "cell_type": "markdown",
      "metadata": {
        "collapsed": false,
        "id": "_EcUEc6FRsVJ"
      },
      "source": [
        "# UCLAIS: Introduction to Python\n",
        "\n",
        "Python is a popular high-level, dynamically typed, general-purpose programming language that supports a variety of different programming paradigms, including notably object-oriented programming. In particular, Python has been heavily adopted by the machine learning community and is blessed with a large ecosystem of tools and libraries for artificial intelligence and scientific computing more broadly.\n",
        "\n",
        "## The Zen of Python, by Tim Peters\n",
        "\n",
        "Before diving into Python syntax, it is worth mentioning that Python as a programming language was designed with a number of guiding principles codified in the poem _The Zen of Python_ by Tim Peters. This code philosophy continues to influence the design and implementation of Python code today, and it is worth bearing in mind."
      ]
    },
    {
      "cell_type": "code",
      "execution_count": null,
      "metadata": {
        "id": "v5wJs6JLRsVK",
        "outputId": "dbf8fd88-5252-492c-fa3b-33a99b855379"
      },
      "outputs": [
        {
          "name": "stdout",
          "output_type": "stream",
          "text": [
            "The Zen of Python, by Tim Peters\n",
            "\n",
            "Beautiful is better than ugly.\n",
            "Explicit is better than implicit.\n",
            "Simple is better than complex.\n",
            "Complex is better than complicated.\n",
            "Flat is better than nested.\n",
            "Sparse is better than dense.\n",
            "Readability counts.\n",
            "Special cases aren't special enough to break the rules.\n",
            "Although practicality beats purity.\n",
            "Errors should never pass silently.\n",
            "Unless explicitly silenced.\n",
            "In the face of ambiguity, refuse the temptation to guess.\n",
            "There should be one-- and preferably only one --obvious way to do it.\n",
            "Although that way may not be obvious at first unless you're Dutch.\n",
            "Now is better than never.\n",
            "Although never is often better than *right* now.\n",
            "If the implementation is hard to explain, it's a bad idea.\n",
            "If the implementation is easy to explain, it may be a good idea.\n",
            "Namespaces are one honking great idea -- let's do more of those!\n"
          ]
        }
      ],
      "source": [
        "import this"
      ]
    },
    {
      "cell_type": "markdown",
      "metadata": {
        "collapsed": false,
        "id": "rsArQgKZRsVK"
      },
      "source": [
        "Bearing in mind that 'readability counts', it is generally good practice to adopt a consistent style for writing Python code. The standard in the Python community since 2001 has been [PEP 8](https://peps.python.org/pep-0008/), and we would encourage you when you set up your environment to use an automatic code formatter, such as [Black](https://github.com/psf/black), to help format your code consistently."
      ]
    },
    {
      "cell_type": "markdown",
      "metadata": {
        "collapsed": false,
        "id": "wnN9wqzORsVL"
      },
      "source": [
        "## Basic Syntax\n",
        "\n",
        "### Comments"
      ]
    },
    {
      "cell_type": "code",
      "execution_count": null,
      "metadata": {
        "id": "jIEKEI1rRsVL",
        "outputId": "fa6cbfcb-8381-4e13-b394-ac0447b449df"
      },
      "outputs": [
        {
          "data": {
            "text/plain": [
              "'\\n    Multi-line strings look like this. When freestanding like this,\\n    they are typically used for documentation.\\n\\n    Properly documenting your code is especially important if you are\\n    working in a team (or even on your own over a long period).\\n'"
            ]
          },
          "execution_count": 2,
          "metadata": {},
          "output_type": "execute_result"
        }
      ],
      "source": [
        "# Single-line comments look like this!\n",
        "# Everything after the '#' character on the same line is ignored.\n",
        "\n",
        "\"\"\"\n",
        "    Multi-line strings look like this. When freestanding like this,\n",
        "    they are typically used for documentation.\n",
        "\n",
        "    Properly documenting your code is especially important if you are\n",
        "    working in a team (or even on your own over a long period).\n",
        "\"\"\""
      ]
    },
    {
      "cell_type": "markdown",
      "metadata": {
        "collapsed": false,
        "id": "b2LgOPVRRsVL"
      },
      "source": [
        "## The Data Model\n",
        "\n",
        "Core to programming is dealing with **data** (particularly as it relates to real-world problems you are trying to solve). As such, we need **abstractions** that let us reason about and represent data in code, whether we are handling numbers or text.\n",
        "\n",
        "In Python, all data is represented by **objects** and the relations between them. Every object has the following:\n",
        "- an **identity**, which is a unique integer _identifying_ the object;\n",
        "- a **type** defining what the object represents and by extension the operations it supports; and\n",
        "- a **value**.\n",
        "\n",
        "The type and identity of an object never change once an object has been created and are also objects themselves. 👀\n",
        "\n",
        "## Built-in Types\n",
        "\n",
        "Python comes with many different built-in types, including numerics, sequences, mappings, classes, instances and exceptions. We are now going to get to know a few!\n",
        "\n",
        "### Numeric Types"
      ]
    },
    {
      "cell_type": "code",
      "execution_count": null,
      "metadata": {
        "id": "5T1F8PJwRsVL",
        "outputId": "92c8c7bc-f1ee-4fc7-e056-693e4cfa4aec"
      },
      "outputs": [
        {
          "data": {
            "text/plain": [
              "4"
            ]
          },
          "execution_count": 3,
          "metadata": {},
          "output_type": "execute_result"
        }
      ],
      "source": [
        "# Integers (Python integers have unlimited precision!)\n",
        "4  # => 4"
      ]
    },
    {
      "cell_type": "code",
      "execution_count": null,
      "metadata": {
        "id": "AU3jsO6tRsVL",
        "outputId": "cea375df-3a9f-4262-c5f1-e1bb727c2c0c"
      },
      "outputs": [
        {
          "data": {
            "text/plain": [
              "1000000000"
            ]
          },
          "execution_count": 4,
          "metadata": {},
          "output_type": "execute_result"
        }
      ],
      "source": [
        "# We can include underscores in integers to make them more readable!\n",
        "1_000_000_000"
      ]
    },
    {
      "cell_type": "code",
      "execution_count": null,
      "metadata": {
        "id": "yQ5TpHpKRsVL",
        "outputId": "c8ae730c-dcc2-4da0-d37d-88d9273b3762"
      },
      "outputs": [
        {
          "data": {
            "text/plain": [
              "3.14"
            ]
          },
          "execution_count": 5,
          "metadata": {},
          "output_type": "execute_result"
        }
      ],
      "source": [
        "# Floats (IEEE 754 double-precision floating-point numbers)\n",
        "3.14"
      ]
    },
    {
      "cell_type": "code",
      "execution_count": null,
      "metadata": {
        "id": "Z1wSYXwLRsVL",
        "outputId": "c00f7ba1-15d5-4ccd-99bf-06c5d716068d"
      },
      "outputs": [
        {
          "data": {
            "text/plain": [
              "(4+3j)"
            ]
          },
          "execution_count": 6,
          "metadata": {},
          "output_type": "execute_result"
        }
      ],
      "source": [
        "# Complex numbers\n",
        "4 + 3j"
      ]
    },
    {
      "cell_type": "code",
      "execution_count": null,
      "metadata": {
        "id": "m0yfOWkQRsVL",
        "outputId": "d842bdbd-1e80-4317-a916-efbced66fb7e"
      },
      "outputs": [
        {
          "data": {
            "text/plain": [
              "10"
            ]
          },
          "execution_count": 7,
          "metadata": {},
          "output_type": "execute_result"
        }
      ],
      "source": [
        "# Arithmetic operations\n",
        "5 + 5  # => 10"
      ]
    },
    {
      "cell_type": "code",
      "execution_count": null,
      "metadata": {
        "id": "2WtCmxaZRsVM",
        "outputId": "e343612b-f31a-4528-d9d5-b94eb64e0dc0"
      },
      "outputs": [
        {
          "data": {
            "text/plain": [
              "5"
            ]
          },
          "execution_count": 8,
          "metadata": {},
          "output_type": "execute_result"
        }
      ],
      "source": [
        "7 - 2  # => 5"
      ]
    },
    {
      "cell_type": "code",
      "execution_count": null,
      "metadata": {
        "id": "5fjbrLcBRsVM",
        "outputId": "7a65e3ca-8aa7-420f-9922-613e60aae7ca"
      },
      "outputs": [
        {
          "data": {
            "text/plain": [
              "12"
            ]
          },
          "execution_count": 9,
          "metadata": {},
          "output_type": "execute_result"
        }
      ],
      "source": [
        "3 * 4  # => 12"
      ]
    },
    {
      "cell_type": "code",
      "execution_count": null,
      "metadata": {
        "id": "Jv9_f9XoRsVM",
        "outputId": "a5307954-5d2c-44b7-9587-0078e631c574"
      },
      "outputs": [
        {
          "data": {
            "text/plain": [
              "8.0"
            ]
          },
          "execution_count": 10,
          "metadata": {},
          "output_type": "execute_result"
        }
      ],
      "source": [
        "24 / 3  # => 8.0 (standard division always results in a float)"
      ]
    },
    {
      "cell_type": "code",
      "execution_count": null,
      "metadata": {
        "id": "qtunKcZNRsVM",
        "outputId": "fd5024f3-d4b6-49d5-8209-79dce826cf97"
      },
      "outputs": [
        {
          "data": {
            "text/plain": [
              "7"
            ]
          },
          "execution_count": 11,
          "metadata": {},
          "output_type": "execute_result"
        }
      ],
      "source": [
        "30 // 4  # => 7 (integer division)"
      ]
    },
    {
      "cell_type": "code",
      "execution_count": null,
      "metadata": {
        "id": "Tm0UmGl4RsVM",
        "outputId": "b40a2d3d-b687-4187-e4d7-83a8cb6b6b8f"
      },
      "outputs": [
        {
          "data": {
            "text/plain": [
              "2"
            ]
          },
          "execution_count": 12,
          "metadata": {},
          "output_type": "execute_result"
        }
      ],
      "source": [
        "30 % 4  # => 2 (the modulo operator, which gives the remainder)"
      ]
    },
    {
      "cell_type": "code",
      "execution_count": null,
      "metadata": {
        "id": "1kDlQMNPRsVM",
        "outputId": "d985b254-6a36-4ddd-cb59-d5e4b1984ce5"
      },
      "outputs": [
        {
          "data": {
            "text/plain": [
              "2"
            ]
          },
          "execution_count": 13,
          "metadata": {},
          "output_type": "execute_result"
        }
      ],
      "source": [
        "-30 % 4  # => 2 (modulo also works for negative numbers)"
      ]
    },
    {
      "cell_type": "code",
      "execution_count": null,
      "metadata": {
        "id": "PG3wTNVoRsVM",
        "outputId": "e09b61a3-d189-48f3-ad75-ad144174332e"
      },
      "outputs": [
        {
          "data": {
            "text/plain": [
              "16"
            ]
          },
          "execution_count": 14,
          "metadata": {},
          "output_type": "execute_result"
        }
      ],
      "source": [
        "2**4  # => 16 (exponentiation)"
      ]
    },
    {
      "cell_type": "code",
      "execution_count": null,
      "metadata": {
        "id": "32MQ85WNRsVM",
        "outputId": "ae870eec-5626-41f2-fbaf-47c92aa3833a"
      },
      "outputs": [
        {
          "data": {
            "text/plain": [
              "(int, float, complex)"
            ]
          },
          "execution_count": 15,
          "metadata": {},
          "output_type": "execute_result"
        }
      ],
      "source": [
        "type(123), type(2.6), type(4 + 6j)  # allows you to check the type of number you have"
      ]
    },
    {
      "cell_type": "code",
      "execution_count": null,
      "metadata": {
        "id": "d5NYZDCWRsVM",
        "outputId": "57ec652c-f735-4e31-f0c1-775afb5c0acf"
      },
      "outputs": [
        {
          "data": {
            "text/plain": [
              "0.30000000000000004"
            ]
          },
          "execution_count": 16,
          "metadata": {},
          "output_type": "execute_result"
        }
      ],
      "source": [
        "# what is going on here? blame IEEE 754 and how we represent decimal numbers\n",
        "0.1 + 0.2"
      ]
    },
    {
      "cell_type": "markdown",
      "metadata": {
        "collapsed": false,
        "id": "S2BguXcARsVM"
      },
      "source": [
        "(If you want to go on a long tangent on IEEE 754 and the representation of floating-point numbers in binary, there is an [interesting video](https://www.youtube.com/watch?v=p8u_k2LIZyo) on YouTube about the implementation of a fast inverse square root algorithm in the game, Quake III, dating from before most modern computers had dedicated CPU instructions for the operation.)"
      ]
    },
    {
      "cell_type": "markdown",
      "metadata": {
        "collapsed": false,
        "id": "kKI7dH5URsVM"
      },
      "source": [
        "### Boolean Values\n",
        "\n",
        "**Booleans** (named after the English mathematician George Boole) are truth values that are either `True` or `False` (note the capitalisation)."
      ]
    },
    {
      "cell_type": "code",
      "execution_count": null,
      "metadata": {
        "id": "w8qc2wmmRsVM",
        "outputId": "39ad37df-141c-4c46-aa24-ff92daa619da"
      },
      "outputs": [
        {
          "data": {
            "text/plain": [
              "True"
            ]
          },
          "execution_count": 17,
          "metadata": {},
          "output_type": "execute_result"
        }
      ],
      "source": [
        "True  # => True"
      ]
    },
    {
      "cell_type": "code",
      "execution_count": null,
      "metadata": {
        "id": "SZqnnIPqRsVM",
        "outputId": "ec412a90-b55b-409b-d4f3-f13b66c8a413"
      },
      "outputs": [
        {
          "data": {
            "text/plain": [
              "False"
            ]
          },
          "execution_count": 18,
          "metadata": {},
          "output_type": "execute_result"
        }
      ],
      "source": [
        "False  # => False"
      ]
    },
    {
      "cell_type": "code",
      "execution_count": null,
      "metadata": {
        "id": "vqamqofhRsVM",
        "outputId": "06b40f54-ccf8-48c1-f441-a7709e2d248b"
      },
      "outputs": [
        {
          "data": {
            "text/plain": [
              "False"
            ]
          },
          "execution_count": 19,
          "metadata": {},
          "output_type": "execute_result"
        }
      ],
      "source": [
        "not True  # => False"
      ]
    },
    {
      "cell_type": "code",
      "execution_count": null,
      "metadata": {
        "id": "hGBhq1v_RsVN",
        "outputId": "f076088d-13cc-4c59-bd68-4faab1a24f35"
      },
      "outputs": [
        {
          "data": {
            "text/plain": [
              "True"
            ]
          },
          "execution_count": 20,
          "metadata": {},
          "output_type": "execute_result"
        }
      ],
      "source": [
        "not False  # => True"
      ]
    },
    {
      "cell_type": "code",
      "execution_count": null,
      "metadata": {
        "id": "24YMv4iTRsVN",
        "outputId": "b70efc2a-bcea-43df-ebab-764687623eb8"
      },
      "outputs": [
        {
          "data": {
            "text/plain": [
              "True"
            ]
          },
          "execution_count": 21,
          "metadata": {},
          "output_type": "execute_result"
        }
      ],
      "source": [
        "True and True  # => True"
      ]
    },
    {
      "cell_type": "code",
      "execution_count": null,
      "metadata": {
        "id": "5Wr9bTRdRsVN",
        "outputId": "39027831-3cd3-446e-8406-711fd44d6c62"
      },
      "outputs": [
        {
          "data": {
            "text/plain": [
              "False"
            ]
          },
          "execution_count": 22,
          "metadata": {},
          "output_type": "execute_result"
        }
      ],
      "source": [
        "True and False  # => False"
      ]
    },
    {
      "cell_type": "code",
      "execution_count": null,
      "metadata": {
        "id": "EA5nODZwRsVN",
        "outputId": "a5a711ea-223a-4541-f308-e6aee6a24de7"
      },
      "outputs": [
        {
          "data": {
            "text/plain": [
              "False"
            ]
          },
          "execution_count": 23,
          "metadata": {},
          "output_type": "execute_result"
        }
      ],
      "source": [
        "False and True  # => False"
      ]
    },
    {
      "cell_type": "code",
      "execution_count": null,
      "metadata": {
        "id": "yjq2jdXpRsVN",
        "outputId": "43fdec65-ea64-44e8-f14b-504dd02903a9"
      },
      "outputs": [
        {
          "data": {
            "text/plain": [
              "False"
            ]
          },
          "execution_count": 24,
          "metadata": {},
          "output_type": "execute_result"
        }
      ],
      "source": [
        "False and False  # => False"
      ]
    },
    {
      "cell_type": "code",
      "execution_count": null,
      "metadata": {
        "id": "fY0ip8tyRsVN",
        "outputId": "0443932b-dfb1-406f-a7af-ceeaaa5c0413"
      },
      "outputs": [
        {
          "data": {
            "text/plain": [
              "True"
            ]
          },
          "execution_count": 25,
          "metadata": {},
          "output_type": "execute_result"
        }
      ],
      "source": [
        "True or True  # => True"
      ]
    },
    {
      "cell_type": "code",
      "execution_count": null,
      "metadata": {
        "id": "CewfaBkORsVN",
        "outputId": "46148066-83c3-40f2-f4b9-e718f0920211"
      },
      "outputs": [
        {
          "data": {
            "text/plain": [
              "True"
            ]
          },
          "execution_count": 26,
          "metadata": {},
          "output_type": "execute_result"
        }
      ],
      "source": [
        "True or False  # => True"
      ]
    },
    {
      "cell_type": "code",
      "execution_count": null,
      "metadata": {
        "id": "awYqLbDdRsVN",
        "outputId": "f57bfbc7-ccb1-4f8d-833f-3ab3731e996d"
      },
      "outputs": [
        {
          "data": {
            "text/plain": [
              "True"
            ]
          },
          "execution_count": 27,
          "metadata": {},
          "output_type": "execute_result"
        }
      ],
      "source": [
        "False or True  # => True"
      ]
    },
    {
      "cell_type": "code",
      "execution_count": null,
      "metadata": {
        "id": "cye6RZEMRsVN",
        "outputId": "047a34af-d0bd-4ec6-c430-c81a70360c6c"
      },
      "outputs": [
        {
          "data": {
            "text/plain": [
              "False"
            ]
          },
          "execution_count": 28,
          "metadata": {},
          "output_type": "execute_result"
        }
      ],
      "source": [
        "False or False  # => False"
      ]
    },
    {
      "cell_type": "code",
      "execution_count": null,
      "metadata": {
        "id": "1tdlqhZ1RsVN",
        "outputId": "23ad3fa2-0a51-4a68-9745-34249b9f3350"
      },
      "outputs": [
        {
          "data": {
            "text/plain": [
              "False"
            ]
          },
          "execution_count": 29,
          "metadata": {},
          "output_type": "execute_result"
        }
      ],
      "source": [
        "# what is this operation?\n",
        "True ^ True  # => False"
      ]
    },
    {
      "cell_type": "code",
      "execution_count": null,
      "metadata": {
        "id": "yZOLoig3RsVN",
        "outputId": "983365de-f5ad-4af2-bd48-8f7133a91ce3"
      },
      "outputs": [
        {
          "data": {
            "text/plain": [
              "True"
            ]
          },
          "execution_count": 30,
          "metadata": {},
          "output_type": "execute_result"
        }
      ],
      "source": [
        "True ^ False  # => True"
      ]
    },
    {
      "cell_type": "code",
      "execution_count": null,
      "metadata": {
        "id": "jiYRISFFRsVN",
        "outputId": "04f30491-4753-4643-beaf-c350bec3932b"
      },
      "outputs": [
        {
          "data": {
            "text/plain": [
              "True"
            ]
          },
          "execution_count": 31,
          "metadata": {},
          "output_type": "execute_result"
        }
      ],
      "source": [
        "False ^ True  # => True"
      ]
    },
    {
      "cell_type": "code",
      "execution_count": null,
      "metadata": {
        "id": "VcQCoH1NRsVN",
        "outputId": "345907ee-c41f-4609-9546-f2dd252374dc"
      },
      "outputs": [
        {
          "data": {
            "text/plain": [
              "False"
            ]
          },
          "execution_count": 32,
          "metadata": {},
          "output_type": "execute_result"
        }
      ],
      "source": [
        "False ^ False  # => False"
      ]
    },
    {
      "cell_type": "code",
      "execution_count": null,
      "metadata": {
        "id": "BKNdXgyTRsVN",
        "outputId": "d8a5059b-9183-41f0-dd88-fd2351366381"
      },
      "outputs": [
        {
          "data": {
            "text/plain": [
              "(bool, bool)"
            ]
          },
          "execution_count": 33,
          "metadata": {},
          "output_type": "execute_result"
        }
      ],
      "source": [
        "type(True), type(False)"
      ]
    },
    {
      "cell_type": "markdown",
      "metadata": {
        "collapsed": false,
        "id": "lbvcPkSaRsVV"
      },
      "source": [
        "Comparison operations, such as checking for equality or inequality, evaluate to Boolean values."
      ]
    },
    {
      "cell_type": "code",
      "execution_count": null,
      "metadata": {
        "id": "Md58icuZRsVV",
        "outputId": "3f285a6d-75c5-4f55-e67d-40e8ec4eaa6d"
      },
      "outputs": [
        {
          "data": {
            "text/plain": [
              "True"
            ]
          },
          "execution_count": 34,
          "metadata": {},
          "output_type": "execute_result"
        }
      ],
      "source": [
        "4 == 4  # => True (checking for value equality)"
      ]
    },
    {
      "cell_type": "code",
      "execution_count": null,
      "metadata": {
        "id": "xy-My3XmRsVW",
        "outputId": "824bafff-e586-45f5-f9f2-92655b8bc6b7"
      },
      "outputs": [
        {
          "data": {
            "text/plain": [
              "False"
            ]
          },
          "execution_count": 35,
          "metadata": {},
          "output_type": "execute_result"
        }
      ],
      "source": [
        "3 == 7  # => False"
      ]
    },
    {
      "cell_type": "code",
      "execution_count": null,
      "metadata": {
        "id": "hrhGocXSRsVW",
        "outputId": "e21089ac-7220-4595-9ef4-c8b08c06c5ea"
      },
      "outputs": [
        {
          "data": {
            "text/plain": [
              "True"
            ]
          },
          "execution_count": 36,
          "metadata": {},
          "output_type": "execute_result"
        }
      ],
      "source": [
        "1 != 5  # => True (checking for value inequality)"
      ]
    },
    {
      "cell_type": "code",
      "execution_count": null,
      "metadata": {
        "id": "6JyT23FURsVW",
        "outputId": "6a3e456f-0d6c-45a1-d44e-14f733031e5c"
      },
      "outputs": [
        {
          "data": {
            "text/plain": [
              "True"
            ]
          },
          "execution_count": 37,
          "metadata": {},
          "output_type": "execute_result"
        }
      ],
      "source": [
        "1 < 2  # => True (less than)"
      ]
    },
    {
      "cell_type": "code",
      "execution_count": null,
      "metadata": {
        "id": "npDH_kxHRsVW",
        "outputId": "c76edbe5-51fc-4a17-f87c-4b14dab7729b"
      },
      "outputs": [
        {
          "data": {
            "text/plain": [
              "True"
            ]
          },
          "execution_count": 38,
          "metadata": {},
          "output_type": "execute_result"
        }
      ],
      "source": [
        "5 <= 5  # => True (less than or equal to)"
      ]
    },
    {
      "cell_type": "code",
      "execution_count": null,
      "metadata": {
        "id": "LXuO1FBGRsVW",
        "outputId": "2d98e277-2127-4360-de74-b05dcd38b2f7"
      },
      "outputs": [
        {
          "data": {
            "text/plain": [
              "True"
            ]
          },
          "execution_count": 39,
          "metadata": {},
          "output_type": "execute_result"
        }
      ],
      "source": [
        "6 > 3  # => True (greater than)"
      ]
    },
    {
      "cell_type": "code",
      "execution_count": null,
      "metadata": {
        "id": "aq7vuJXwRsVW",
        "outputId": "651daf33-7de4-4d58-ad24-c845c13aa3c9"
      },
      "outputs": [
        {
          "data": {
            "text/plain": [
              "False"
            ]
          },
          "execution_count": 40,
          "metadata": {},
          "output_type": "execute_result"
        }
      ],
      "source": [
        "7 >= 8  # => False (greater than or equal to)"
      ]
    },
    {
      "cell_type": "code",
      "execution_count": null,
      "metadata": {
        "id": "GdBZ4bmuRsVW",
        "outputId": "d87838e4-7218-41d8-93c0-5a0aa4a9883f"
      },
      "outputs": [
        {
          "data": {
            "text/plain": [
              "True"
            ]
          },
          "execution_count": 41,
          "metadata": {},
          "output_type": "execute_result"
        }
      ],
      "source": [
        "1 < 2 < 3  # => True (these can be chained in Python, unlike other languages!)"
      ]
    },
    {
      "cell_type": "markdown",
      "metadata": {
        "collapsed": false,
        "id": "bmvwKHg5RsVW"
      },
      "source": [
        "### Strings"
      ]
    },
    {
      "cell_type": "code",
      "execution_count": null,
      "metadata": {
        "id": "ou_-oyEHRsVW",
        "outputId": "1fccbdcc-3124-45e8-d248-20f5b18e647e"
      },
      "outputs": [
        {
          "data": {
            "text/plain": [
              "str"
            ]
          },
          "execution_count": 42,
          "metadata": {},
          "output_type": "execute_result"
        }
      ],
      "source": [
        "\"Strings of characters look like this in Python.\"\n",
        "\n",
        "\"You can also use single quotes if you prefer.\"\n",
        "\n",
        "\"\"\" There are also\n",
        "    multi-line strings. \"\"\"\n",
        "\n",
        "\"\"\" You can also create multi-line strings with single quotes,\n",
        "    although this is fairly uncommon. \"\"\"\n",
        "\n",
        "'If you want to include a double quote in a string, you need to escape it with a backslash like \"this\" or use a string enclosed with single quotes.'\n",
        "\n",
        "\"The same thing applies if you want to include a ' character within a single-quoted string.\"\n",
        "\n",
        "\"This means if you want to include a single backslash, you need to escape that too with a backslash in the following way: \\\\.\"\n",
        "\n",
        "\"You can also add new lines (\\n on modern macOS & Linux, \\r\\n on Windows) and tabs (\\t) using escape characters.\"\n",
        "\n",
        "type(\"Hello, world!\")"
      ]
    },
    {
      "cell_type": "markdown",
      "metadata": {
        "collapsed": false,
        "id": "vCtXVyyGRsVW"
      },
      "source": [
        "Generally, Python style guides encourage you to stick to double-quoted strings wherever reasonable."
      ]
    },
    {
      "cell_type": "code",
      "execution_count": null,
      "metadata": {
        "id": "zI_cxSBRRsVW",
        "outputId": "f191e2fa-fc41-41e4-a3b6-92c44c67d3d5"
      },
      "outputs": [
        {
          "data": {
            "text/plain": [
              "'Hello, world!'"
            ]
          },
          "execution_count": 43,
          "metadata": {},
          "output_type": "execute_result"
        }
      ],
      "source": [
        "# Strings can be concatenated together\n",
        "\n",
        "\"Hello, \" + \"world!\""
      ]
    },
    {
      "cell_type": "markdown",
      "metadata": {
        "collapsed": false,
        "id": "fwOZzv19RsVW"
      },
      "source": [
        "While `+` _adds_ two numbers together, it _concatenates_ two strings together. This idea that operators can have different meanings in different contexts is known as **operator overloading**.\n",
        "\n",
        "**Note**: you cannot use the `+` operator on a string and an integer together &ndash; this will raise a `TypeError`."
      ]
    },
    {
      "cell_type": "code",
      "execution_count": null,
      "metadata": {
        "id": "HXNWFlMORsVW",
        "outputId": "fba4e5f0-7af1-4d27-e15d-9b80d62516c1"
      },
      "outputs": [
        {
          "data": {
            "text/plain": [
              "13"
            ]
          },
          "execution_count": 44,
          "metadata": {},
          "output_type": "execute_result"
        }
      ],
      "source": [
        "# len(·) can be used to find the length of a string\n",
        "\n",
        "len(\"Hello, world!\")"
      ]
    },
    {
      "cell_type": "markdown",
      "metadata": {
        "collapsed": false,
        "id": "96-BecqoRsVW"
      },
      "source": [
        "You can check for the presence of a substring within string using the `in` operator, which returns a Boolean value."
      ]
    },
    {
      "cell_type": "code",
      "execution_count": null,
      "metadata": {
        "id": "E2G1yxweRsVX",
        "outputId": "008d1416-635a-4291-d8b1-1009c1d3dfd0"
      },
      "outputs": [
        {
          "data": {
            "text/plain": [
              "True"
            ]
          },
          "execution_count": 45,
          "metadata": {},
          "output_type": "execute_result"
        }
      ],
      "source": [
        "\"world\" in \"Hello, world!\""
      ]
    },
    {
      "cell_type": "code",
      "execution_count": null,
      "metadata": {
        "id": "okMLMrcKRsVX",
        "outputId": "cadfbcb9-4400-4d87-ecfe-1f6c26436881"
      },
      "outputs": [
        {
          "data": {
            "text/plain": [
              "False"
            ]
          },
          "execution_count": 46,
          "metadata": {},
          "output_type": "execute_result"
        }
      ],
      "source": [
        "\"Goodbye\" in \"Hello, world!\""
      ]
    },
    {
      "cell_type": "code",
      "execution_count": null,
      "metadata": {
        "id": "OvQPEAI3RsVX",
        "outputId": "8a5e5de3-1664-46dd-91f4-26689eb9b5ad"
      },
      "outputs": [
        {
          "data": {
            "text/plain": [
              "True"
            ]
          },
          "execution_count": 47,
          "metadata": {},
          "output_type": "execute_result"
        }
      ],
      "source": [
        "\"Goodbye\" not in \"Hello, world!\""
      ]
    },
    {
      "cell_type": "markdown",
      "metadata": {
        "collapsed": false,
        "id": "vOPtIr4KRsVX"
      },
      "source": [
        "String objects &ndash; thanks to their type! &ndash; support a number of other useful operations too!"
      ]
    },
    {
      "cell_type": "code",
      "execution_count": null,
      "metadata": {
        "id": "BvDcLpqXRsVX",
        "outputId": "bfd57746-8437-484c-f2b7-7350ed4689cd"
      },
      "outputs": [
        {
          "data": {
            "text/plain": [
              "'HELLO'"
            ]
          },
          "execution_count": 48,
          "metadata": {},
          "output_type": "execute_result"
        }
      ],
      "source": [
        "\"hello\".upper()"
      ]
    },
    {
      "cell_type": "code",
      "execution_count": null,
      "metadata": {
        "id": "RG4LgaC5RsVX",
        "outputId": "b69f897c-8681-4000-c5bb-6b981a8eee6b"
      },
      "outputs": [
        {
          "data": {
            "text/plain": [
              "'hello'"
            ]
          },
          "execution_count": 49,
          "metadata": {},
          "output_type": "execute_result"
        }
      ],
      "source": [
        "\"HELLO\".lower()"
      ]
    },
    {
      "cell_type": "code",
      "execution_count": null,
      "metadata": {
        "id": "LQCjlbf0RsVX",
        "outputId": "f0802890-4931-4e8c-b72e-df50d2ef32c3"
      },
      "outputs": [
        {
          "data": {
            "text/plain": [
              "'Hello, world!'"
            ]
          },
          "execution_count": 50,
          "metadata": {},
          "output_type": "execute_result"
        }
      ],
      "source": [
        "\"hEllO, woRlD!\".capitalize()"
      ]
    },
    {
      "cell_type": "code",
      "execution_count": null,
      "metadata": {
        "id": "7e_-sbWXRsVX",
        "outputId": "0b306136-37d6-4e6d-d8e1-d49031f3a4b9"
      },
      "outputs": [
        {
          "data": {
            "text/plain": [
              "'Hello, Jeremy and Ferran!'"
            ]
          },
          "execution_count": 51,
          "metadata": {},
          "output_type": "execute_result"
        }
      ],
      "source": [
        "\"Hello, world!\".replace(\"world\", \"Jeremy and Ferran\")"
      ]
    },
    {
      "cell_type": "markdown",
      "metadata": {
        "collapsed": false,
        "id": "Pn6c9MFmRsVX"
      },
      "source": [
        "### An Aside on Variables\n",
        "\n",
        "In Python, variables are symbolic names (labels) that reference objects. The act of setting a variable to a particular value is known as **assignment**. There is no separate declaration step as in other languages."
      ]
    },
    {
      "cell_type": "code",
      "execution_count": null,
      "metadata": {
        "id": "9_Jbd0kGRsVX",
        "outputId": "b8c63059-8bbf-4fc1-c00b-50cc670249dc"
      },
      "outputs": [
        {
          "data": {
            "text/plain": [
              "'Hello, Jeremy!'"
            ]
          },
          "execution_count": 52,
          "metadata": {},
          "output_type": "execute_result"
        }
      ],
      "source": [
        "number = 123\n",
        "string = \"Hello, world!\"\n",
        "\n",
        "user = \"Jeremy\"\n",
        "\n",
        "# Format strings allow us to insert the string representation\n",
        "# of an object within a string (if it has one).\n",
        "\n",
        "f\"Hello, {user}!\""
      ]
    },
    {
      "cell_type": "markdown",
      "metadata": {
        "collapsed": false,
        "id": "ejVuI1wsRsVX"
      },
      "source": [
        "Variable names in Python can contain letters, digits and underscores; however, they cannot start with a digit. They are _case-sensitive_, so capitalisation matters!\n",
        "\n",
        "By convention, variable names in Python are all lowercase with words separated by underscores, e.g. `message_length`. This is known as _snake case_. 🐍"
      ]
    },
    {
      "cell_type": "code",
      "execution_count": null,
      "metadata": {
        "id": "6qS511KeRsVX"
      },
      "outputs": [],
      "source": [
        "# Good variable names ✅\n",
        "\n",
        "user = \"Jeremy\"\n",
        "user_age = 21\n",
        "\n",
        "meaning_of_life = 42\n",
        "\n",
        "post_title = \"Introduction to Python\"\n",
        "like_count = 54\n",
        "views = 6_421\n",
        "\n",
        "# Suboptimal variable names ❌\n",
        "\n",
        "countriesVisited = 17  # (lower) camel case\n",
        "NumberOfChapters = 8  # Pascal case / upper camel case\n",
        "SPEED_OF_LIGHT = 299_792_458  # uppercase with underscores\n",
        "golden_Ratio = 1.61803399  # pure pain"
      ]
    },
    {
      "cell_type": "markdown",
      "metadata": {
        "collapsed": false,
        "id": "BGrZI3_eRsVX"
      },
      "source": [
        "Sometimes, you might find yourself updating the value of a (typically numerical) variable in relation to itself using one of the **infix operators** we introduced earlier."
      ]
    },
    {
      "cell_type": "code",
      "execution_count": null,
      "metadata": {
        "id": "q3_WQ4yCRsVX",
        "outputId": "748bdff8-4dae-4aed-bc28-4a72b763ccfd"
      },
      "outputs": [
        {
          "data": {
            "text/plain": [
              "3.0"
            ]
          },
          "execution_count": 54,
          "metadata": {},
          "output_type": "execute_result"
        }
      ],
      "source": [
        "x = 1\n",
        "\n",
        "x = x + 6  # x = x + 6     => x == 7\n",
        "x = x - 1  # x = x - 1     => x == 6\n",
        "x = x * 2  # x = x * 2     => x == 12\n",
        "x = x / 3  # x = x / 3     => x == 4.0\n",
        "x = x // 3  # x = x // 3    => x == 1.0\n",
        "x = x + 10  # x = x + 10    => x == 11.0\n",
        "x = x % 4  # x = x % 4     => x == 3.0\n",
        "\n",
        "x"
      ]
    },
    {
      "cell_type": "markdown",
      "metadata": {
        "collapsed": false,
        "id": "f7PkyHT5RsVY"
      },
      "source": [
        "This can seem a bit verbose, so Python provides a series of **shorthand assignment operators** as **syntactic sugar** to help make your code cleaner and more readable &ndash; a useful thing to master! 🍦🍪"
      ]
    },
    {
      "cell_type": "code",
      "execution_count": null,
      "metadata": {
        "id": "VHASxB5ARsVY",
        "outputId": "9cbaa2a2-6797-4860-ffd2-9ce4de899b0d"
      },
      "outputs": [
        {
          "data": {
            "text/plain": [
              "3.0"
            ]
          },
          "execution_count": 55,
          "metadata": {},
          "output_type": "execute_result"
        }
      ],
      "source": [
        "x = 1\n",
        "\n",
        "x += 6  # x = x + 6     => x == 7\n",
        "x -= 1  # x = x - 1     => x == 6\n",
        "x *= 2  # x = x * 2     => x == 12\n",
        "x /= 3  # x = x / 3     => x == 4.0\n",
        "x //= 3  # x = x // 3    => x == 1.0\n",
        "x += 10  # x = x + 10    => x == 11.0\n",
        "x %= 4  # x = x % 4     => x == 3.0\n",
        "\n",
        "x"
      ]
    },
    {
      "cell_type": "markdown",
      "metadata": {
        "collapsed": false,
        "id": "rkwoZBySRsVY"
      },
      "source": [
        "### None\n",
        "\n",
        "`None` is keyword in Python that signifies that there is no value there &ndash; it is the encapsulation of emptiness, totally devoid of meaning."
      ]
    },
    {
      "cell_type": "code",
      "execution_count": null,
      "metadata": {
        "id": "yBcEEqWwRsVY"
      },
      "outputs": [],
      "source": [
        "value = None  # nothing to see here!\n",
        "\n",
        "value"
      ]
    },
    {
      "cell_type": "code",
      "execution_count": null,
      "metadata": {
        "id": "-yuKksgSRsVY",
        "outputId": "b2d2adef-905c-4c87-e7f7-5dbf8e34f3e2"
      },
      "outputs": [
        {
          "data": {
            "text/plain": [
              "NoneType"
            ]
          },
          "execution_count": 57,
          "metadata": {},
          "output_type": "execute_result"
        }
      ],
      "source": [
        "type(value)  # it still has a type though!"
      ]
    },
    {
      "cell_type": "markdown",
      "metadata": {
        "collapsed": false,
        "id": "GT5qolwRRsVY"
      },
      "source": [
        "The Romans would be proud. In Ancient Rome, _res_ meant nothing, as well as everything or just something. Supposedly, everything is also nothing, and nothing is something. Probably. But anyway, back to Python! 😳\n",
        "\n",
        "Try not to overuse `None`, but it is certainly helpful when you want to represent a value not being present."
      ]
    },
    {
      "cell_type": "markdown",
      "metadata": {
        "collapsed": false,
        "id": "m0egNc_cRsVY"
      },
      "source": [
        "## Collections\n",
        "\n",
        "Collections are types that are used for containing other types! Python has several general-purpose built-in container types, such as **lists, tuples, sets and dictionaries**. More complex collections &ndash; such as queues, ordered dictionaries and so on &ndash; are available through modules in the **standard library** included with every Python installation.\n",
        "\n",
        "You will want to get familiar with many of the simpler collections."
      ]
    },
    {
      "cell_type": "code",
      "execution_count": null,
      "metadata": {
        "id": "oJ-lQNdsRsVY",
        "outputId": "c86a04b4-c002-48fb-8a00-c445b357c3a7"
      },
      "outputs": [
        {
          "data": {
            "text/plain": [
              "['apple', 'banana', 'cherry', 'dragon fruit', 'elderberry', 'fig', 'guava']"
            ]
          },
          "execution_count": 58,
          "metadata": {},
          "output_type": "execute_result"
        }
      ],
      "source": [
        "fruit = [\"apple\", \"banana\", \"cherry\", \"dragon fruit\", \"elderberry\", \"fig\", \"guava\"]\n",
        "\n",
        "fruit"
      ]
    },
    {
      "cell_type": "code",
      "execution_count": null,
      "metadata": {
        "id": "HdM7BQ8WRsVY",
        "outputId": "64007d6d-a718-44de-8e3c-2302bf27bd88"
      },
      "outputs": [
        {
          "data": {
            "text/plain": [
              "7"
            ]
          },
          "execution_count": 59,
          "metadata": {},
          "output_type": "execute_result"
        }
      ],
      "source": [
        "# You can find the length of a list with len(·)\n",
        "\n",
        "len(fruit)\n",
        "\n",
        "# The list of fruit above contains seven fruit! Ace!"
      ]
    },
    {
      "cell_type": "code",
      "execution_count": null,
      "metadata": {
        "id": "Mko4U4EARsVY",
        "outputId": "4ccb40cd-7a2f-4f23-acb8-d89bb7be22ed"
      },
      "outputs": [
        {
          "data": {
            "text/plain": [
              "'apple'"
            ]
          },
          "execution_count": 60,
          "metadata": {},
          "output_type": "execute_result"
        }
      ],
      "source": [
        "# Lists are 'subscriptable', so you can index into them\n",
        "# Python lists are zero-indexed, so list indices start from zero\n",
        "\n",
        "fruit[0]"
      ]
    },
    {
      "cell_type": "markdown",
      "metadata": {
        "collapsed": false,
        "id": "imSm-dO4RsVY"
      },
      "source": [
        "When counting in Python, we always start at zero: 0, 1, 2, 3, 4, 5, 6, 7, etc."
      ]
    },
    {
      "cell_type": "code",
      "execution_count": null,
      "metadata": {
        "id": "Qmto2RAaRsVY",
        "outputId": "1273cc40-1d26-4101-c362-4064e1e52222"
      },
      "outputs": [
        {
          "data": {
            "text/plain": [
              "'guava'"
            ]
          },
          "execution_count": 61,
          "metadata": {},
          "output_type": "execute_result"
        }
      ],
      "source": [
        "# Negative indices let you retrieve values relative to the end of the list\n",
        "\n",
        "fruit[-1]"
      ]
    },
    {
      "cell_type": "code",
      "execution_count": null,
      "metadata": {
        "id": "M5j_X0tcRsVY",
        "outputId": "2cfa56d9-a8b3-4ce0-b1f2-8a81d9f423e7"
      },
      "outputs": [
        {
          "data": {
            "text/plain": [
              "['cherry', 'dragon fruit']"
            ]
          },
          "execution_count": 62,
          "metadata": {},
          "output_type": "execute_result"
        }
      ],
      "source": [
        "# You can also select slices of a list\n",
        "\n",
        "fruit[2:4]  # the starting index is inclusive, but the ending index is exclusive"
      ]
    },
    {
      "cell_type": "code",
      "execution_count": null,
      "metadata": {
        "id": "6Mbq5OVNRsVY",
        "outputId": "0b7033ff-ae5d-48a9-a505-e353ad2b130c"
      },
      "outputs": [
        {
          "data": {
            "text/plain": [
              "['banana', 'cherry', 'dragon fruit', 'elderberry', 'fig', 'guava']"
            ]
          },
          "execution_count": 63,
          "metadata": {},
          "output_type": "execute_result"
        }
      ],
      "source": [
        "# You can omit a starting or ending point to expand to the start or end of the list\n",
        "\n",
        "fruit[1:]"
      ]
    },
    {
      "cell_type": "code",
      "execution_count": null,
      "metadata": {
        "id": "RwlvHAQiRsVY",
        "outputId": "08191c5a-5610-46b0-cc5a-7bb813bbf06c"
      },
      "outputs": [
        {
          "data": {
            "text/plain": [
              "['apple', 'banana', 'cherry', 'dragon fruit']"
            ]
          },
          "execution_count": 64,
          "metadata": {},
          "output_type": "execute_result"
        }
      ],
      "source": [
        "fruit[:4]"
      ]
    },
    {
      "cell_type": "code",
      "execution_count": null,
      "metadata": {
        "id": "Ian1AgF2RsVY",
        "outputId": "3140990d-949f-464a-ef92-c42781052ee4"
      },
      "outputs": [
        {
          "data": {
            "text/plain": [
              "['apple', 'cherry', 'elderberry', 'guava']"
            ]
          },
          "execution_count": 65,
          "metadata": {},
          "output_type": "execute_result"
        }
      ],
      "source": [
        "# You can also provide a step! (e.g. to skip certain elements)\n",
        "\n",
        "fruit[::2]"
      ]
    },
    {
      "cell_type": "code",
      "execution_count": null,
      "metadata": {
        "id": "AxiX39Q2RsVZ",
        "outputId": "74433fee-e09c-446d-e977-396d8cb655d3"
      },
      "outputs": [
        {
          "data": {
            "text/plain": [
              "['banana', 'dragon fruit', 'fig']"
            ]
          },
          "execution_count": 66,
          "metadata": {},
          "output_type": "execute_result"
        }
      ],
      "source": [
        "fruit[1:6:2]"
      ]
    },
    {
      "cell_type": "code",
      "execution_count": null,
      "metadata": {
        "id": "GtWSAzKwRsVZ",
        "outputId": "08d59055-8005-4978-e57a-42001c3134b4"
      },
      "outputs": [
        {
          "data": {
            "text/plain": [
              "['guava', 'fig', 'elderberry', 'dragon fruit', 'cherry', 'banana', 'apple']"
            ]
          },
          "execution_count": 67,
          "metadata": {},
          "output_type": "execute_result"
        }
      ],
      "source": [
        "# In case you were wondering, yes -- you can use this to reverse lists!\n",
        "\n",
        "fruit[::-1]"
      ]
    },
    {
      "cell_type": "code",
      "execution_count": null,
      "metadata": {
        "id": "CaeMbqIqRsVZ",
        "outputId": "7e94c4b3-c5bd-41ef-88c5-3e55a6dc58a0"
      },
      "outputs": [
        {
          "data": {
            "text/plain": [
              "['apple', 'banana', 'cherry', 'dragon fruit', 'elderberry', 'fig', 'guava']"
            ]
          },
          "execution_count": 68,
          "metadata": {},
          "output_type": "execute_result"
        }
      ],
      "source": [
        "# It is also a useful hack for creating soft copies of lists...\n",
        "\n",
        "fruit[:]"
      ]
    },
    {
      "cell_type": "code",
      "execution_count": null,
      "metadata": {
        "id": "znwa_6fTRsVZ",
        "outputId": "32d75c2c-f79a-4ff4-aa97-a10b5620dce4"
      },
      "outputs": [
        {
          "data": {
            "text/plain": [
              "['apple',\n",
              " 'banana',\n",
              " 'cherry',\n",
              " 'dragon fruit',\n",
              " 'elderberry',\n",
              " 'fig',\n",
              " 'guava',\n",
              " 'honeydew melon']"
            ]
          },
          "execution_count": 69,
          "metadata": {},
          "output_type": "execute_result"
        }
      ],
      "source": [
        "# You can also append to lists\n",
        "\n",
        "fruit.append(\"honeydew melon\")\n",
        "\n",
        "fruit"
      ]
    },
    {
      "cell_type": "code",
      "execution_count": null,
      "metadata": {
        "id": "ds_PGIKMRsVZ",
        "outputId": "3275f51a-6b01-42b6-b71e-e30d0372410a"
      },
      "outputs": [
        {
          "data": {
            "text/plain": [
              "['apple', 'banana', 'cherry', 'dragon fruit', 'elderberry', 'fig', 'guava']"
            ]
          },
          "execution_count": 70,
          "metadata": {},
          "output_type": "execute_result"
        }
      ],
      "source": [
        "# And pop from the end of a list...\n",
        "\n",
        "fruit.pop()\n",
        "\n",
        "fruit"
      ]
    },
    {
      "cell_type": "code",
      "execution_count": null,
      "metadata": {
        "id": "BH3y5VCZRsVZ",
        "outputId": "f8499f75-39ae-4cbb-cba4-d336697e6fb5"
      },
      "outputs": [
        {
          "data": {
            "text/plain": [
              "('dragon fruit', ['apple', 'banana', 'cherry', 'elderberry', 'fig', 'guava'])"
            ]
          },
          "execution_count": 71,
          "metadata": {},
          "output_type": "execute_result"
        }
      ],
      "source": [
        "# Or anywhere really by index!\n",
        "\n",
        "dragon_fruit = fruit.pop(3)  # sorry, dragon fruit 🙃\n",
        "\n",
        "dragon_fruit, fruit"
      ]
    },
    {
      "cell_type": "code",
      "execution_count": null,
      "metadata": {
        "id": "OCrtvdzGRsVZ",
        "outputId": "d5f387c6-8229-468f-fb4a-c41ac39d7aab"
      },
      "outputs": [
        {
          "data": {
            "text/plain": [
              "1"
            ]
          },
          "execution_count": 72,
          "metadata": {},
          "output_type": "execute_result"
        }
      ],
      "source": [
        "# You can also find the index of the first list item matching some value\n",
        "\n",
        "fruit.index(\"banana\")"
      ]
    },
    {
      "cell_type": "code",
      "execution_count": null,
      "metadata": {
        "id": "VEhA1TOPRsVZ",
        "outputId": "ad296393-e545-4b53-e153-5a8f35fa9edf"
      },
      "outputs": [
        {
          "data": {
            "text/plain": [
              "['apple', 'banana', 'cherry', 'elderberry', 'fig']"
            ]
          },
          "execution_count": 73,
          "metadata": {},
          "output_type": "execute_result"
        }
      ],
      "source": [
        "# And remove the first list item matching some value\n",
        "\n",
        "fruit.remove(\"guava\")  # sorry, guava\n",
        "\n",
        "fruit"
      ]
    },
    {
      "cell_type": "code",
      "execution_count": null,
      "metadata": {
        "id": "IWvgNXCfRsVZ",
        "outputId": "6f198e5a-3bed-44ea-b448-86910d07c34c"
      },
      "outputs": [
        {
          "data": {
            "text/plain": [
              "[1, 2, 3, 4, 5, 6]"
            ]
          },
          "execution_count": 74,
          "metadata": {},
          "output_type": "execute_result"
        }
      ],
      "source": [
        "# Lists can be concatenated together\n",
        "\n",
        "[1, 2, 3] + [4, 5, 6]"
      ]
    },
    {
      "cell_type": "code",
      "execution_count": null,
      "metadata": {
        "id": "T8GZpfV0RsVZ",
        "outputId": "e6c6d45b-7791-4c73-e9ec-46229fea343f"
      },
      "outputs": [
        {
          "data": {
            "text/plain": [
              "['apple',\n",
              " 'banana',\n",
              " 'cherry',\n",
              " 'elderberry',\n",
              " 'fig',\n",
              " 'apple',\n",
              " 'banana',\n",
              " 'cherry',\n",
              " 'elderberry',\n",
              " 'fig',\n",
              " 'apple',\n",
              " 'banana',\n",
              " 'cherry',\n",
              " 'elderberry',\n",
              " 'fig',\n",
              " 'apple',\n",
              " 'banana',\n",
              " 'cherry',\n",
              " 'elderberry',\n",
              " 'fig']"
            ]
          },
          "execution_count": 75,
          "metadata": {},
          "output_type": "execute_result"
        }
      ],
      "source": [
        "# And yes, they can also be 'multiplied'\n",
        "\n",
        "fruit * 4\n",
        "\n",
        "# Woah! So much fruit!"
      ]
    },
    {
      "cell_type": "code",
      "execution_count": null,
      "metadata": {
        "id": "kQwW7NwARsVZ",
        "outputId": "90e26608-1793-4271-a43d-b264cc8f5673"
      },
      "outputs": [
        {
          "data": {
            "text/plain": [
              "[1, 2, 3, 4, 5, 6, 7, 8]"
            ]
          },
          "execution_count": 76,
          "metadata": {},
          "output_type": "execute_result"
        }
      ],
      "source": [
        "# You can also 'extend' one list with the values of another\n",
        "\n",
        "list1 = [1, 2, 3, 4]\n",
        "list2 = [5, 6, 7, 8]\n",
        "\n",
        "list1.extend(list2)\n",
        "\n",
        "list1"
      ]
    },
    {
      "cell_type": "code",
      "execution_count": null,
      "metadata": {
        "id": "vgFS4Z7XRsVZ",
        "outputId": "a10e128b-a180-44d0-bb64-6edd845cb790"
      },
      "outputs": [
        {
          "data": {
            "text/plain": [
              "True"
            ]
          },
          "execution_count": 106,
          "metadata": {},
          "output_type": "execute_result"
        }
      ],
      "source": [
        "# You can also check whether an element is in a list with `in`\n",
        "\n",
        "\"apple\" in fruit"
      ]
    },
    {
      "cell_type": "code",
      "execution_count": null,
      "metadata": {
        "id": "YRoTlki7RsVZ",
        "outputId": "d7394856-62cf-4c32-d3ed-959c945cf601"
      },
      "outputs": [
        {
          "data": {
            "text/plain": [
              "('apple', 'banana', ['cherry', 'elderberry', 'fig'])"
            ]
          },
          "execution_count": 79,
          "metadata": {},
          "output_type": "execute_result"
        }
      ],
      "source": [
        "# You can 'unpack' list values (the tuples are implicit here)\n",
        "\n",
        "# Assign the first two fruit to a and b, and the remaining fruits to c\n",
        "\n",
        "a, b, *c = fruit\n",
        "\n",
        "a, b, c"
      ]
    },
    {
      "cell_type": "code",
      "execution_count": null,
      "metadata": {
        "id": "7M5tXUPmRsVZ",
        "outputId": "9c646df6-fa22-4625-de74-4eb7f375138c"
      },
      "outputs": [
        {
          "data": {
            "text/plain": [
              "'x = 7, y = 5'"
            ]
          },
          "execution_count": 86,
          "metadata": {},
          "output_type": "execute_result"
        }
      ],
      "source": [
        "# Formally, unpacking can be useful for swapping variables in one  (tuples used behind the scene - more on this later)\n",
        "\n",
        "x = 5\n",
        "y = 7\n",
        "\n",
        "y, x = x, y\n",
        "\n",
        "f\"x = {x}, y = {y}\""
      ]
    },
    {
      "cell_type": "markdown",
      "metadata": {
        "collapsed": false,
        "id": "KM0OQEPiRsVa"
      },
      "source": [
        "### Tuples\n",
        "\n",
        "Tuples are finite, immutable, ordered sequences of elements. Once a tuple is created, elements cannot be appended, removed or changed. Instead, a new tuple needs to be created.\n",
        "\n",
        "**Note**: this means that if you have a tuple of lists, the lists themselves can change, but the elements in the tuple cannot be reassigned to other objects."
      ]
    },
    {
      "cell_type": "code",
      "execution_count": null,
      "metadata": {
        "id": "UMcVXtrBRsVa"
      },
      "outputs": [],
      "source": [
        "# Tuples look like this\n",
        "()  # an empty tuple (or unit/null tuple)"
      ]
    },
    {
      "cell_type": "code",
      "execution_count": null,
      "metadata": {
        "id": "FrgfR8GvRsVa"
      },
      "outputs": [],
      "source": [
        "(1,)  # a 1-tuple"
      ]
    },
    {
      "cell_type": "code",
      "execution_count": null,
      "metadata": {
        "id": "H70z2lzfRsVa"
      },
      "outputs": [],
      "source": [
        "(1, 3)  # a 2-tuple (or couple / ordered pair)"
      ]
    },
    {
      "cell_type": "code",
      "execution_count": null,
      "metadata": {
        "id": "zM6-xRcxRsVa"
      },
      "outputs": [],
      "source": [
        "(1, 3, 5)  # a 3-tuple (or triple)"
      ]
    },
    {
      "cell_type": "code",
      "execution_count": null,
      "metadata": {
        "id": "j2lzA1eHRsVa",
        "outputId": "b19662e6-c00f-4e10-df82-fecfcd9d1fc3"
      },
      "outputs": [
        {
          "data": {
            "text/plain": [
              "tuple"
            ]
          },
          "execution_count": 80,
          "metadata": {},
          "output_type": "execute_result"
        }
      ],
      "source": [
        "type(())"
      ]
    },
    {
      "cell_type": "code",
      "execution_count": null,
      "metadata": {
        "id": "aK7uTjr9RsVa",
        "outputId": "a80227e7-615c-4a76-85db-fc88e9bc2143"
      },
      "outputs": [
        {
          "data": {
            "text/plain": [
              "(3, 4, 5, 6, 7, 8)"
            ]
          },
          "execution_count": 87,
          "metadata": {},
          "output_type": "execute_result"
        }
      ],
      "source": [
        "# A lot of the same list operations also work on tuples\n",
        "\n",
        "numbers = (1, 2, 3, 4, 5, 6, 7, 8)\n",
        "\n",
        "numbers[2:]  # => (3, 4, 5, 6, 7, 8)"
      ]
    },
    {
      "cell_type": "code",
      "execution_count": null,
      "metadata": {
        "id": "7t8tCH1HRsVa",
        "outputId": "fd3326d6-a624-4b11-aaad-ce2505a43561"
      },
      "outputs": [
        {
          "data": {
            "text/plain": [
              "[10, 2, 3, 4, 5, 6, 7, 8]"
            ]
          },
          "execution_count": 83,
          "metadata": {},
          "output_type": "execute_result"
        }
      ],
      "source": [
        "# Lists are mutable\n",
        "\n",
        "# List version of the same numbers\n",
        "numbers_list = [1, 2, 3, 4, 5, 6, 7, 8]\n",
        "\n",
        "# Lists are mutable\n",
        "numbers_list[0] = 10\n",
        "numbers_list"
      ]
    },
    {
      "cell_type": "code",
      "execution_count": null,
      "metadata": {
        "id": "wOXpsnX5RsVa",
        "outputId": "8675b014-298c-4a6a-ec52-a92131d1f367"
      },
      "outputs": [
        {
          "ename": "TypeError",
          "evalue": "'tuple' object does not support item assignment",
          "output_type": "error",
          "traceback": [
            "\u001b[0;31m---------------------------------------------------------------------------\u001b[0m",
            "\u001b[0;31mTypeError\u001b[0m                                 Traceback (most recent call last)",
            "Cell \u001b[0;32mIn[84], line 3\u001b[0m\n\u001b[1;32m      1\u001b[0m \u001b[38;5;66;03m# Tuples are immutable \u001b[39;00m\n\u001b[0;32m----> 3\u001b[0m \u001b[43mnumbers\u001b[49m\u001b[43m[\u001b[49m\u001b[38;5;241;43m0\u001b[39;49m\u001b[43m]\u001b[49m \u001b[38;5;241m=\u001b[39m \u001b[38;5;241m10\u001b[39m\n\u001b[1;32m      4\u001b[0m numbers\n",
            "\u001b[0;31mTypeError\u001b[0m: 'tuple' object does not support item assignment"
          ]
        }
      ],
      "source": [
        "# Tuples are immutable\n",
        "\n",
        "numbers[0] = 10\n",
        "numbers"
      ]
    },
    {
      "cell_type": "markdown",
      "metadata": {
        "collapsed": false,
        "id": "fsba161sRsVa"
      },
      "source": [
        "### Dictionaries\n",
        "\n",
        "Dictionaries are key-value maps, where each key uniquely maps to a single value."
      ]
    },
    {
      "cell_type": "code",
      "execution_count": null,
      "metadata": {
        "id": "U16XB6QeRsVa"
      },
      "outputs": [],
      "source": [
        "empty_dict = {}\n",
        "\n",
        "type(empty_dict)"
      ]
    },
    {
      "cell_type": "code",
      "execution_count": null,
      "metadata": {
        "id": "HE8W6FI2RsVa",
        "outputId": "93e97372-684a-4ad2-d684-cede46678feb"
      },
      "outputs": [
        {
          "data": {
            "text/plain": [
              "'Sergi'"
            ]
          },
          "execution_count": 89,
          "metadata": {},
          "output_type": "execute_result"
        }
      ],
      "source": [
        "student = {\n",
        "    \"name\": \"Sergi\",\n",
        "    \"age\": 22,\n",
        "    \"degree\": \"MSci Medical Physics\",\n",
        "    \"nationality\": \"Georgian\",\n",
        "}\n",
        "\n",
        "# You can index into dictionaries just as you can with lists\n",
        "student[\"name\"]"
      ]
    },
    {
      "cell_type": "code",
      "execution_count": null,
      "metadata": {
        "id": "TUw0JGtbRsVa",
        "outputId": "d6d793f0-ffd8-4fc6-eaa9-2b05cb84c13f"
      },
      "outputs": [
        {
          "data": {
            "text/plain": [
              "True"
            ]
          },
          "execution_count": 90,
          "metadata": {},
          "output_type": "execute_result"
        }
      ],
      "source": [
        "# You can check if an key is present within a dictionary using 'in'\n",
        "\n",
        "\"name\" in student"
      ]
    },
    {
      "cell_type": "code",
      "execution_count": null,
      "metadata": {
        "id": "-YfLEftPRsVa",
        "outputId": "0334da5e-ac66-4b9c-afff-9d8ac9850757"
      },
      "outputs": [
        {
          "data": {
            "text/plain": [
              "\"UCL: London's Global University™, or something like that\""
            ]
          },
          "execution_count": 92,
          "metadata": {},
          "output_type": "execute_result"
        }
      ],
      "source": [
        "# If you would rather return a default value, use the get() method\n",
        "\n",
        "student.get(\"university\", \"UCL: London's Global University™, or something like that\")"
      ]
    },
    {
      "cell_type": "code",
      "execution_count": null,
      "metadata": {
        "id": "xiqWZFdPRsVa",
        "outputId": "73fc5ed2-4dfb-4824-f9bf-fd741b71dd32"
      },
      "outputs": [
        {
          "data": {
            "text/plain": [
              "dict_keys(['name', 'age', 'degree', 'nationality'])"
            ]
          },
          "execution_count": 93,
          "metadata": {},
          "output_type": "execute_result"
        }
      ],
      "source": [
        "# use .keys() to get the keys of a dictionary\n",
        "\n",
        "student.keys()"
      ]
    },
    {
      "cell_type": "code",
      "execution_count": null,
      "metadata": {
        "id": "xauzp3SERsVa",
        "outputId": "4c632782-33c9-4d48-9bf8-b2a307ab584e"
      },
      "outputs": [
        {
          "data": {
            "text/plain": [
              "dict_values(['Sergi', 22, 'MSci Medical Physics', 'Georgian'])"
            ]
          },
          "execution_count": 94,
          "metadata": {},
          "output_type": "execute_result"
        }
      ],
      "source": [
        "# likewise, use .values() to get only the values\n",
        "\n",
        "student.values()"
      ]
    },
    {
      "cell_type": "code",
      "execution_count": null,
      "metadata": {
        "id": "AEw8m4G6RsVa",
        "outputId": "350cfb99-df75-4487-d114-b1f8b9fac86b"
      },
      "outputs": [
        {
          "data": {
            "text/plain": [
              "dict_items([('name', 'Sergi'), ('age', 22), ('degree', 'MSci Medical Physics'), ('nationality', 'Georgian')])"
            ]
          },
          "execution_count": 95,
          "metadata": {},
          "output_type": "execute_result"
        }
      ],
      "source": [
        "# use .items() to get the key, value pairs as tuples\n",
        "\n",
        "student.items()"
      ]
    },
    {
      "cell_type": "code",
      "execution_count": null,
      "metadata": {
        "id": "0aTKcRkTRsVa",
        "outputId": "982d86dd-bd91-4c56-8a4e-435295200114"
      },
      "outputs": [
        {
          "data": {
            "text/plain": [
              "{'name': 'Sergi',\n",
              " 'age': 22,\n",
              " 'degree': 'MSci Medical Physics',\n",
              " 'nationality': 'Georgian',\n",
              " 'languages': ['Georgian', 'Russian', 'English', 'Italian'],\n",
              " 'favourite_colour': 'Blue'}"
            ]
          },
          "execution_count": 97,
          "metadata": {},
          "output_type": "execute_result"
        }
      ],
      "source": [
        "# dictionaries can also be updated with the values from other dictionaries\n",
        "\n",
        "student.update({\"languages\": [\"Georgian\", \"Russian\", \"English\", \"Italian\"], \"favourite_colour\": \"Blue\"})\n",
        "\n",
        "student"
      ]
    },
    {
      "cell_type": "code",
      "execution_count": null,
      "metadata": {
        "id": "AgKNp94aRsVb",
        "outputId": "ec3937f9-dc30-4086-84aa-9d17f51f2d37"
      },
      "outputs": [
        {
          "data": {
            "text/plain": [
              "{'name': 'Sergi',\n",
              " 'age': 22,\n",
              " 'degree': 'MSci Medical Physics',\n",
              " 'languages': ['Georgian', 'Russian', 'English', 'Italian'],\n",
              " 'favourite_colour': 'Blue'}"
            ]
          },
          "execution_count": 99,
          "metadata": {},
          "output_type": "execute_result"
        }
      ],
      "source": [
        "# items can be removed from dictionaries with del\n",
        "\n",
        "del student[\"nationality\"]\n",
        "\n",
        "student"
      ]
    },
    {
      "cell_type": "markdown",
      "metadata": {
        "collapsed": false,
        "id": "sRvCNFfLRsVb"
      },
      "source": [
        "### Sets\n",
        "\n",
        "While lists are ordered sequences of items, sets are unordered containers of unique items."
      ]
    },
    {
      "cell_type": "code",
      "execution_count": null,
      "metadata": {
        "id": "R2pyGsWgRsVb"
      },
      "outputs": [],
      "source": [
        "empty_set = set()  # Watch out, {} will create an empty dictionary!\n",
        "values = {1, 2, 3, 4, 5, 5}  # Python has a neat syntax for creating sets\n",
        "\n",
        "# This syntax might be a clue that sets are related to dictionaries, just without values\n",
        "\n",
        "values"
      ]
    },
    {
      "cell_type": "code",
      "execution_count": null,
      "metadata": {
        "id": "wa2F6qSwRsVb"
      },
      "outputs": [],
      "source": [
        "# You can add values to sets\n",
        "\n",
        "values.add(6)\n",
        "\n",
        "values"
      ]
    },
    {
      "cell_type": "code",
      "execution_count": null,
      "metadata": {
        "id": "8G0GJV9wRsVb"
      },
      "outputs": [],
      "source": [
        "# You can also remove values from sets\n",
        "\n",
        "values.remove(6)\n",
        "\n",
        "values"
      ]
    },
    {
      "cell_type": "code",
      "execution_count": null,
      "metadata": {
        "id": "hKDxeDdCRsVb",
        "outputId": "6d6fe1ec-75fe-40b3-dd17-5df4205b4406"
      },
      "outputs": [
        {
          "data": {
            "text/plain": [
              "{(1, 2), (2, 4), (3, 5)}"
            ]
          },
          "execution_count": 102,
          "metadata": {},
          "output_type": "execute_result"
        }
      ],
      "source": [
        "# Since, sets can contain hashable objects, they can contain tuples of integers (i.e. points)\n",
        "\n",
        "points = {(1, 2), (2, 4), (3, 5)}\n",
        "\n",
        "points"
      ]
    },
    {
      "cell_type": "code",
      "execution_count": null,
      "metadata": {
        "id": "uiRLj5UjRsVb",
        "outputId": "21df64b4-7348-4338-9e16-c4f07c38d7e1"
      },
      "outputs": [
        {
          "ename": "TypeError",
          "evalue": "unhashable type: 'list'",
          "output_type": "error",
          "traceback": [
            "\u001b[0;31m---------------------------------------------------------------------------\u001b[0m",
            "\u001b[0;31mTypeError\u001b[0m                                 Traceback (most recent call last)",
            "Cell \u001b[0;32mIn[101], line 2\u001b[0m\n\u001b[1;32m      1\u001b[0m \u001b[38;5;66;03m# Lists are mutable, so they can not be used in a set\u001b[39;00m\n\u001b[0;32m----> 2\u001b[0m points \u001b[38;5;241m=\u001b[39m {[\u001b[38;5;241m1\u001b[39m, \u001b[38;5;241m2\u001b[39m], [\u001b[38;5;241m2\u001b[39m, \u001b[38;5;241m4\u001b[39m], [\u001b[38;5;241m3\u001b[39m, \u001b[38;5;241m5\u001b[39m]}\n\u001b[1;32m      4\u001b[0m points\n",
            "\u001b[0;31mTypeError\u001b[0m: unhashable type: 'list'"
          ]
        }
      ],
      "source": [
        "# Lists are mutable, so they can not be used in a set\n",
        "points = {[1, 2], [2, 4], [3, 5]}\n",
        "\n",
        "points"
      ]
    },
    {
      "cell_type": "markdown",
      "metadata": {
        "collapsed": false,
        "id": "VLYRyo5YRsVb"
      },
      "source": [
        "## Print statements\n",
        "\n",
        "Before we progress, it would be rude not to introduce the `print()` function! [Read more in the documentation](https://docs.python.org/3/library/functions.html#print)."
      ]
    },
    {
      "cell_type": "code",
      "execution_count": null,
      "metadata": {
        "id": "nfy10bYrRsVb"
      },
      "outputs": [],
      "source": [
        "print(\"Hello, world!\")  # Glad we got that one out the way!"
      ]
    },
    {
      "cell_type": "code",
      "execution_count": null,
      "metadata": {
        "id": "FXXKxy7JRsVb",
        "outputId": "b1b3d640-30d6-4af2-bffb-c7c0e2826641"
      },
      "outputs": [
        {
          "name": "stdout",
          "output_type": "stream",
          "text": [
            "a | b | c | d !\n"
          ]
        }
      ],
      "source": [
        "# print(·) has plenty of useful arguments you can explore\n",
        "\n",
        "print(\"a\", \"b\", \"c\", \"d\", sep=\" | \", end=\" !\\n\")"
      ]
    },
    {
      "cell_type": "code",
      "execution_count": null,
      "metadata": {
        "id": "ZUvcVFoLRsVb",
        "outputId": "914fafa7-d499-409d-ba5e-8900d824b561"
      },
      "outputs": [
        {
          "name": "stdout",
          "output_type": "stream",
          "text": [
            "2 - 1 = 1\n"
          ]
        }
      ],
      "source": [
        "# String formatting (f-strings)\n",
        "a = 2\n",
        "b = 1\n",
        "c = a-b\n",
        "\n",
        "print(f\"{a} - {b} = {c}\")"
      ]
    },
    {
      "cell_type": "code",
      "execution_count": null,
      "metadata": {
        "id": "R_pdhnXiRsVb",
        "outputId": "fe0c5578-bf07-47f6-f4af-032a51d232e2"
      },
      "outputs": [
        {
          "name": "stdout",
          "output_type": "stream",
          "text": [
            "a - b = c\n"
          ]
        }
      ],
      "source": [
        "# The same would not work, without proper formatting\n",
        "\n",
        "print(\"a - b = c\")"
      ]
    },
    {
      "cell_type": "markdown",
      "metadata": {
        "collapsed": false,
        "id": "IsREqxv9RsVb"
      },
      "source": [
        "## Control Flow\n",
        "\n",
        "### Conditional statements\n",
        "\n",
        "The infamous 'if-statement' is used for executing different pieces of code based on some Boolean value.\n"
      ]
    },
    {
      "cell_type": "code",
      "execution_count": null,
      "metadata": {
        "id": "Hg89drnhRsVb"
      },
      "outputs": [],
      "source": [
        "if 1 < 2:\n",
        "    print(\"Wow, 1 < 2.\")\n",
        "\n",
        "if \"apple\" in fruit:\n",
        "    print(\"Apples are recognised as a type of fruit.\")\n",
        "elif \"banana\" in fruit:\n",
        "    print(\n",
        "        \"Well, apples might no longer be fruit for some reason, but at least we have bananas.\"\n",
        "    )\n",
        "else:\n",
        "    print(\"Goodness, just HOW will we cope without apples and bananas?\")"
      ]
    },
    {
      "cell_type": "markdown",
      "metadata": {
        "collapsed": false,
        "id": "IcvuOl-SRsVb"
      },
      "source": [
        "Indentation is **really** important in Python! By convention, blocks are indented with four spaces &ndash; not tabs (however much you or I may love tabs)."
      ]
    },
    {
      "cell_type": "markdown",
      "metadata": {
        "collapsed": false,
        "id": "DQWJwLGURsVb"
      },
      "source": [
        "### For loops\n",
        "\n",
        "For loops provide a way of iterating over some **iterable**. It is possible to iterate over many of the types we have already discussed, such as the characters of a string, the items of a list and the keys of a dictionary."
      ]
    },
    {
      "cell_type": "code",
      "execution_count": null,
      "metadata": {
        "id": "fjQRyluHRsVb"
      },
      "outputs": [],
      "source": [
        "for character in \"Hello\":\n",
        "    print(character)"
      ]
    },
    {
      "cell_type": "code",
      "execution_count": null,
      "metadata": {
        "id": "zXCO1l0nRsVc"
      },
      "outputs": [],
      "source": [
        "for item in [1, 2, 3, 4]:\n",
        "    print(item)"
      ]
    },
    {
      "cell_type": "code",
      "execution_count": null,
      "metadata": {
        "id": "9Vq0gEZfRsVc"
      },
      "outputs": [],
      "source": [
        "dictionary = {\"a\": 1, \"b\": 2}\n",
        "for key in dictionary:\n",
        "    print(key, dictionary[key])"
      ]
    },
    {
      "cell_type": "code",
      "execution_count": null,
      "metadata": {
        "id": "1nc-KkJORsVc"
      },
      "outputs": [],
      "source": [
        "# It is arguably more \"Pythonic\" to iterate over dictionaries\n",
        "# in the following way instead using .items():\n",
        "\n",
        "for key, value in dictionary.items():\n",
        "    print(key, value)"
      ]
    },
    {
      "cell_type": "code",
      "execution_count": null,
      "metadata": {
        "id": "Dts84gvtRsVc"
      },
      "outputs": [],
      "source": [
        "# You can also iterate over the enumeration of a list, which\n",
        "# will number the elements (starting from zero) for you as\n",
        "# you go along and iterate over the list - neat!\n",
        "\n",
        "for index, value in enumerate(fruit):\n",
        "    print(index, value)"
      ]
    },
    {
      "cell_type": "code",
      "execution_count": null,
      "metadata": {
        "id": "LO81aGWhRsVc",
        "outputId": "d7150115-f51d-4743-cb46-4d77ea11fe06"
      },
      "outputs": [
        {
          "name": "stdout",
          "output_type": "stream",
          "text": [
            "1 5\n",
            "2 6\n",
            "3 7\n",
            "4 8\n"
          ]
        }
      ],
      "source": [
        "# If you have two lists and want to iterate over them both in parallel, use zip(·, ·)\n",
        "# It will terminate after at least one of the lists gets exhausted\n",
        "\n",
        "for a, b in zip([1, 2, 3, 4], [5, 6, 7, 8, 9]):\n",
        "    print(a, b)"
      ]
    },
    {
      "cell_type": "markdown",
      "metadata": {
        "collapsed": false,
        "id": "to7PXTD8RsVc"
      },
      "source": [
        "As we have just hinted at, you can iterate over way more than just basic types. **Generators** are special iterators that yield values that may be looped over. One common such generator is `range([start,] end)` (or with a step, `range(start, end, step)`), and you can also [define your own](https://docs.python.org/3/tutorial/classes.html#generators)."
      ]
    },
    {
      "cell_type": "code",
      "execution_count": null,
      "metadata": {
        "id": "inMNGJqnRsVc"
      },
      "outputs": [],
      "source": [
        "# Note that the endpoint is exclusive, so you end up\n",
        "# with five numbers, zero to four\n",
        "\n",
        "for i in range(5):\n",
        "    print(i, end=\" \")"
      ]
    },
    {
      "cell_type": "code",
      "execution_count": null,
      "metadata": {
        "id": "ptXQarohRsVc"
      },
      "outputs": [],
      "source": [
        "for i in range(1, 5):\n",
        "    print(i, end=\" \")"
      ]
    },
    {
      "cell_type": "code",
      "execution_count": null,
      "metadata": {
        "id": "dA8y0WqeRsVc"
      },
      "outputs": [],
      "source": [
        "for i in range(0, 10, 2):\n",
        "    print(i, end=\" \")"
      ]
    },
    {
      "cell_type": "markdown",
      "metadata": {
        "collapsed": false,
        "id": "GZBKYog4RsVc"
      },
      "source": [
        "### While loops\n",
        "\n",
        "As in other languages, Python also has while loops."
      ]
    },
    {
      "cell_type": "code",
      "execution_count": null,
      "metadata": {
        "id": "SIT50PKoRsVc"
      },
      "outputs": [],
      "source": [
        "i = 0\n",
        "while i < 10:\n",
        "    print(i)\n",
        "    i += 1\n",
        "\n",
        "# Yes, `while True:` would loop forever!"
      ]
    },
    {
      "cell_type": "markdown",
      "metadata": {
        "collapsed": false,
        "id": "C9sgef4bRsVc"
      },
      "source": [
        "## Comprehensions\n",
        "\n",
        "Python also has the idea of list comprehensions and dictionary comprehensions. Comprehensions are intimately related with the ideas of maps and filters from functional programming.\n",
        "\n",
        "Note: there are no tuple comprehensions; they instead result in in-line generators."
      ]
    },
    {
      "cell_type": "code",
      "execution_count": null,
      "metadata": {
        "id": "kvL2oEZzRsVc"
      },
      "outputs": [],
      "source": [
        "names = [\"jeremy\", \"filip\", \"luke\", \"ferran\"]\n",
        "\n",
        "[name.capitalize() for name in names]"
      ]
    },
    {
      "cell_type": "code",
      "execution_count": null,
      "metadata": {
        "id": "5ZMQVfHZRsVc"
      },
      "outputs": [],
      "source": [
        "# You can add filters to list comprehensions\n",
        "\n",
        "[name.upper() for name in names if \"e\" in name]"
      ]
    },
    {
      "cell_type": "code",
      "execution_count": null,
      "metadata": {
        "id": "dWe7O731RsVc"
      },
      "outputs": [],
      "source": [
        "# You can also iterate over multiple iterables at once\n",
        "[(x, y) for x in range(5) for y in range(5) if x != y]"
      ]
    },
    {
      "cell_type": "code",
      "execution_count": null,
      "metadata": {
        "id": "j4ii8jYyRsVc"
      },
      "outputs": [],
      "source": [
        "# Likewise, there are also dictionary comprehensions\n",
        "\n",
        "name_lengths = {name.upper(): len(name) for name in names}\n",
        "\n",
        "name_lengths"
      ]
    },
    {
      "cell_type": "code",
      "execution_count": null,
      "metadata": {
        "id": "kEPBfNJ7RsVc"
      },
      "outputs": [],
      "source": [
        "# As well as set comprehensions\n",
        "\n",
        "{i for i in range(10)}"
      ]
    },
    {
      "cell_type": "markdown",
      "metadata": {
        "collapsed": false,
        "id": "qwVYJxbpRsVc"
      },
      "source": [
        "Comprehensions are a powerful tool to have in your arsenal. Here is a more complex example on how they could be used, mimicking the data format you might expect to be returned from some web API."
      ]
    },
    {
      "cell_type": "code",
      "execution_count": null,
      "metadata": {
        "id": "_LQ4z6NERsVc"
      },
      "outputs": [],
      "source": [
        "# define a list of dictionaries containing a film and its release date\n",
        "films = [\n",
        "    {\"name\": \"Fight Club\", \"year\": 1999, \"stars\": 4.3},\n",
        "    {\"name\": \"When Harry Met Sally\", \"year\": 1989, \"stars\": 4.1},\n",
        "    {\"name\": \"Spirited Away\", \"year\": 2001, \"stars\": 4.9},\n",
        "]\n",
        "\n",
        "# get a dictionary of films by year\n",
        "films_by_year = {film[\"name\"]: film[\"year\"] for film in films}\n",
        "\n",
        "films_by_year"
      ]
    },
    {
      "cell_type": "markdown",
      "metadata": {
        "collapsed": false,
        "id": "lMwobuFaRsVc"
      },
      "source": [
        "### Functions\n",
        "\n",
        "We have seen a few built-in functions so far, such as `print` and `len`, but we can actually define our own."
      ]
    },
    {
      "cell_type": "markdown",
      "metadata": {
        "collapsed": false,
        "id": "i_clJq2yRsVd"
      },
      "source": [
        "#### Built-in Functions\n",
        "\n",
        "By default, Python has a selection of built-in functions you can use without having to import anything. We have already talked about a few of these, and it is worth taking the time to investigate what they do! Python has some [excellent documentation](https://docs.python.org/3/library/functions.html), and learning how to read documentation is an important skill.\n",
        "\n",
        "\n",
        "```\n",
        "abs(), aiter(), all(), any(), anext(), ascii(), bin(), bool(), breakpoint(), bytearray(), bytes(), callable(), chr(), classmethod(), compile(), complex(), delattr(), dict(), dir(), divmod(), enumerate(), eval(), exec(), filter(), float(), format(), frozenset(), getattr(), globals(), hasattr(), hash(), help(), hex(), id(), input(), int(), isinstance(), issubclass(), iter(), L, len(), list(), locals(), map(), max(), memoryview(), min(), next(), object(), oct(), open(), ord(), pow(), print(), property(), range(), repr(), reversed(), round(), set(), setattr(), slice(), sorted(), staticmethod(), str(), sum(), super(), tuple(), type(), vars(), zip()\n",
        "```\n",
        "\n",
        "You can also import functions from other modules. Python is fortunate to have a large standard library!"
      ]
    },
    {
      "cell_type": "code",
      "execution_count": null,
      "metadata": {
        "id": "8B-AVY6mRsVd"
      },
      "outputs": [],
      "source": [
        "import math\n",
        "\n",
        "math.sqrt(25)"
      ]
    },
    {
      "cell_type": "code",
      "execution_count": null,
      "metadata": {
        "id": "1pfu_KyYRsVd"
      },
      "outputs": [],
      "source": [
        "from random import randint, randrange, choice, random\n",
        "\n",
        "print(randint(0, 10))  # the start and end points are INCLUSIVE\n",
        "print(\n",
        "    randrange(0, 10)\n",
        ")  # the start point is INCLUSIVE, but the endpoint is EXCLUSIVE like range()\n",
        "print(choice(fruit))  # selects a random fruit\n",
        "print(random())  # generate a float in [0.0, 1.0)"
      ]
    },
    {
      "cell_type": "markdown",
      "metadata": {
        "collapsed": false,
        "id": "-20JtTtaRsVd"
      },
      "source": [
        "Exceptionally, you may wish to import a module into your current namespace under a different name. Often, this is because it may clash with a name you are already using in your code."
      ]
    },
    {
      "cell_type": "code",
      "execution_count": null,
      "metadata": {
        "id": "Ufy8RV_KRsVd",
        "outputId": "44d56743-197e-4b73-9cbc-ed04b692dc5e"
      },
      "outputs": [
        {
          "data": {
            "text/plain": [
              "1.5811388300841898"
            ]
          },
          "execution_count": 109,
          "metadata": {},
          "output_type": "execute_result"
        }
      ],
      "source": [
        "statistics = [123.4, 534.234, 964.4]  # What great statistics!\n",
        "\n",
        "import statistics as stats\n",
        "\n",
        "stats.stdev([1, 2, 3, 4, 5])"
      ]
    },
    {
      "cell_type": "markdown",
      "metadata": {
        "collapsed": false,
        "id": "B5cstjt1RsVd"
      },
      "source": [
        "While it is recommended to avoid doing so if not strictly necessary in other cases, shortening a long module name can be sometimes appropriate where it can add clarity, particularly if there would otherwise be a large number of references to the longer module name that would negatively impact the readability of the code.\n",
        "\n",
        "Common examples of this you may see in the machine learning world include the following:\n",
        "```py\n",
        "import tensorflow as tf\n",
        "import numpy as np\n",
        "```"
      ]
    },
    {
      "cell_type": "markdown",
      "metadata": {
        "collapsed": false,
        "id": "ARv2EYzBRsVd"
      },
      "source": [
        "If you want to find out more about anything included within the Python standard library, check out the [documentation](https://docs.python.org/3/library/)!"
      ]
    },
    {
      "cell_type": "markdown",
      "metadata": {
        "collapsed": false,
        "id": "CPeeoFH5RsVd"
      },
      "source": [
        "#### User-defined Functions\n",
        "\n",
        "Defining your own functions allows you to create your own units of reusable code. If used appropriately, they can contribute massively to code clarity and maintainability."
      ]
    },
    {
      "cell_type": "code",
      "execution_count": null,
      "metadata": {
        "id": "a1jl3eyyRsVd"
      },
      "outputs": [],
      "source": [
        "def add(p, q):\n",
        "    return p + q\n",
        "\n",
        "\n",
        "# By default, arguments are passed in the same order in which they are defined\n",
        "add(1, 2)"
      ]
    },
    {
      "cell_type": "code",
      "execution_count": null,
      "metadata": {
        "id": "UFcUCA8LRsVd"
      },
      "outputs": [],
      "source": [
        "# Python is very flexible with respect to argument order\n",
        "# if you are explicit enough about what you want to do!\n",
        "\n",
        "add(q=2, p=1)"
      ]
    },
    {
      "cell_type": "code",
      "execution_count": null,
      "metadata": {
        "id": "Amu6ZyvBRsVd"
      },
      "outputs": [],
      "source": [
        "# It is possible to specify default values\n",
        "\n",
        "\n",
        "def greet(name=\"Levon\"):\n",
        "    print(f\"Hello, {name}!\")\n",
        "\n",
        "\n",
        "greet()\n",
        "greet(\"Asmita\")"
      ]
    },
    {
      "cell_type": "markdown",
      "metadata": {
        "collapsed": false,
        "id": "LNEr5u9RRsVd"
      },
      "source": [
        "As another quick aside, one important idea in _software engineering_ is the **single-responsibility principle** (SRP) that functions, classes, modules and so on should have one clear responsibility. This is related to two other principles: **don't repeat yourself** (DRY) and **keep it simple, stupid** (KISS -- no, not the rock band)!\n",
        "\n",
        "You do not have to follow these principles religiously, but they can go a long way to helping you write cleaner code.\n",
        "\n",
        "In practice, if you have a function that performs some intensive computation and then outputs the result, you might want to consider splitting that up into a function that performs the computation and another that handles how it is displayed and formatted. By decoupling these two operations from each other, this then makes code to perform the original computation much more reusable and the program a bit more maintainable!"
      ]
    },
    {
      "cell_type": "code",
      "execution_count": null,
      "metadata": {
        "id": "R0iUmSPzRsVd"
      },
      "outputs": [],
      "source": [
        "# We can also specify type annotations, which can be useful to other programmers,\n",
        "# as well as to type checking software (linters), which can help spot bugs in code\n",
        "\n",
        "\n",
        "def shout(message: str) -> None:\n",
        "    print(message.upper())\n",
        "\n",
        "\n",
        "shout(\n",
        "    \"hey can i interest you in some web3 blockchain machine learning techno-- *whack*\"\n",
        ")"
      ]
    },
    {
      "cell_type": "markdown",
      "metadata": {
        "collapsed": false,
        "id": "UvtR9MekRsVd"
      },
      "source": [
        "**Recursion** is a technique that lets you define a function in terms of itself. Here is a link to a great video explaining recursion, https://www.youtube.com/watch?v=ngCos392W4w"
      ]
    },
    {
      "cell_type": "code",
      "execution_count": null,
      "metadata": {
        "id": "OnZo_PyCRsVd"
      },
      "outputs": [],
      "source": [
        "# This function uses an example of an 'early return' 👀\n",
        "# Code often looks cleaner if you avoid 'else' clauses where they are unnecessary!\n",
        "\n",
        "\n",
        "def factorial(n: int):\n",
        "    if n <= 1:\n",
        "        return 1\n",
        "\n",
        "    return n * factorial(n - 1)\n",
        "\n",
        "\n",
        "factorial(5)"
      ]
    },
    {
      "cell_type": "code",
      "execution_count": null,
      "metadata": {
        "id": "GGnkMIihRsVd"
      },
      "outputs": [],
      "source": [
        "# Note: while recursion has its place, there is often a more efficient\n",
        "# solution that uses plain iteration (and therefore avoids the risk of\n",
        "# a call stack overflow)\n",
        "\n",
        "\n",
        "def factorial(n: int) -> int:\n",
        "    answer = 1\n",
        "    for j in range(2, n + 1):\n",
        "        answer *= j\n",
        "    return answer\n",
        "\n",
        "\n",
        "factorial(5)"
      ]
    },
    {
      "cell_type": "markdown",
      "metadata": {
        "collapsed": false,
        "id": "4ucXoOOWRsVd"
      },
      "source": [
        "## Classes\n",
        "\n",
        "As has become apparent by this point, Python has first-class support for object-oriented programming. We have seen how we can create more complex data structures through **composition** (e.g. with tuples), as well as through **inheritance** (e.g. with Boolean values being sneaky subtypes of integers!). Furthermore, we have seen how we can define functions to define additional operations on data.\n",
        "\n",
        "Building on these ideas, **classes** provide a natural way to define our own more complex object types of which instances may be instantiated. They can encapsulate data within their internal state and expose a number of operations through methods that act on that data.\n",
        "\n",
        "More formally, instance objects may have data attributes (that store data within the object), as well as methods (that allow certain actions to be performed, typically involving said data attributes at least in part).\n",
        "\n",
        "They are typically named using Pascal case, i.e. `ClassName` starting with an uppercase letter with no underscores, not `className` or `class_name`.\n",
        "\n",
        "We have actually already seen classes: exceptions, such as `ValueError`, are classes that contain useful data attributes and helper methods."
      ]
    },
    {
      "cell_type": "code",
      "execution_count": null,
      "metadata": {
        "id": "FC3AUhCnRsVd"
      },
      "outputs": [],
      "source": [
        "class Person:\n",
        "    \"\"\"A representation of a person.\"\"\"\n",
        "\n",
        "    species = \"homo sapiens\"\n",
        "\n",
        "    def __init__(self, name, age) -> None:\n",
        "        \"\"\"This method is known as the constructor.\n",
        "\n",
        "        It gets called when an instance of this class gets instantiated.\n",
        "\n",
        "        Args:\n",
        "            name (str): The name of the person.\n",
        "            age (int): The age of the person.\n",
        "        \"\"\"\n",
        "\n",
        "        self.name = name\n",
        "        self.age = age\n",
        "\n",
        "    def get_introduction(self):\n",
        "        \"\"\"Gets an introduction for the person.\n",
        "\n",
        "        Returns:\n",
        "            str: The introduction.\n",
        "        \"\"\"\n",
        "\n",
        "        return f\"{self.name} (aged {self.age}) is a person.\""
      ]
    },
    {
      "cell_type": "code",
      "execution_count": null,
      "metadata": {
        "id": "OCWE_ic9RsVe"
      },
      "outputs": [],
      "source": [
        "Person.species"
      ]
    },
    {
      "cell_type": "code",
      "execution_count": null,
      "metadata": {
        "id": "XGDf4f0ERsVe"
      },
      "outputs": [],
      "source": [
        "# Legendary bassist 👀\n",
        "joe_dart = Person(\"Joe Dart\", 31)\n",
        "\n",
        "print(joe_dart.get_introduction())"
      ]
    },
    {
      "cell_type": "markdown",
      "metadata": {
        "collapsed": false,
        "id": "5KoFzVskRsVe"
      },
      "source": [
        "**Fun fact**: these \"double underscore\" methods, such as `__init__()`, are known as \"dunder methods\" (or more commonly in other languages, \"magic methods\")."
      ]
    },
    {
      "cell_type": "code",
      "execution_count": null,
      "metadata": {
        "id": "_PZfhZzTRsVe"
      },
      "outputs": [],
      "source": [
        "class Student(Person):\n",
        "    \"\"\"A representation of a student, which inherits from our\n",
        "    pre-existing representation of a Person.\n",
        "    \"\"\"\n",
        "\n",
        "    def __init__(self, name, age, degree, year) -> None:\n",
        "        # We can call the parent's constructor! This is fairly common.\n",
        "        super().__init__(name, age)\n",
        "\n",
        "        self.degree = degree\n",
        "        self.year = year\n",
        "\n",
        "    def get_introduction(self):\n",
        "        # We can override methods if we wish\n",
        "\n",
        "        return f\"{self.name} (aged {self.age}) is a student ({self.degree}, Year {self.year}).\"\n",
        "\n",
        "    def get_hours_of_sleep(self):\n",
        "        # We can also define new methods!\n",
        "\n",
        "        if self.degree == \"MEng Computer Science\":\n",
        "            return 0\n",
        "\n",
        "        return 8"
      ]
    },
    {
      "cell_type": "code",
      "execution_count": null,
      "metadata": {
        "id": "efaEq5Z5RsVe"
      },
      "outputs": [],
      "source": [
        "jeremy = Student(\"Jeremy\", 21, \"MEng Computer Science\", 4)\n",
        "\n",
        "print(jeremy.get_introduction())\n",
        "print(\"Hours of sleep:\", jeremy.get_hours_of_sleep())"
      ]
    },
    {
      "cell_type": "code",
      "execution_count": null,
      "metadata": {
        "id": "L9nCZHRLRsVe"
      },
      "outputs": [],
      "source": [
        "ferran = Student(\"Ferran\", 19, \"MSci Neuroscience\", 2)\n",
        "\n",
        "print(ferran.get_introduction())\n",
        "print(\"Hours of sleep:\", ferran.get_hours_of_sleep())"
      ]
    },
    {
      "cell_type": "code",
      "execution_count": null,
      "metadata": {
        "id": "2bf2hcImRsVe"
      },
      "outputs": [],
      "source": [
        "# This method comes from the Person class!\n",
        "if jeremy.is_a_robot():\n",
        "    print(\"Oops, I've been lying to those CAPTCHA checks all this time!\")\n",
        "else:\n",
        "    print(\"Nah, this guy's definitely a human.\")"
      ]
    },
    {
      "cell_type": "markdown",
      "metadata": {
        "collapsed": false,
        "id": "7aPe4XfjRsVe"
      },
      "source": [
        "Unfortunately, we are running out of time to go into classes into much more detail, but I would encourage you to read the [incredibly thorough documentation](https://docs.python.org/3/tutorial/classes.html)!"
      ]
    },
    {
      "cell_type": "markdown",
      "metadata": {
        "collapsed": false,
        "id": "mLzGEM8hRsVe"
      },
      "source": [
        "# Thank you!\n",
        "\n",
        "Thank you so much for following this part of the tutorial. There is a lot of material here to digest, but you've absolutely got this!\n",
        "\n",
        "Take your time to go through the examples and experiment. In fact, you can create and edit your own code blocks in this very Jupyter notebook and experiment alongside the examples we have included! The best way to learn and internalise all this information is to put it into practice.\n",
        "\n",
        "If you are hungry to learn more about software engineering, reach out to us! In the meantime, you might want to look into some other coding principles that are important to writing clean code, such as defining clean **interfaces** between layers of our applications, the ideas of **abstraction** and **encapsulation**, and so on.\n",
        "\n",
        "Writing production-ready software can be a complex process, involving stages such as the following:\n",
        "- understanding users' requirements (possibly thinking about both functional and non-functional requirements using the MoSCoW method);\n",
        "- designing and architecting a solution (what are the different components of your system? how do they interact and scale?);\n",
        "- user interface and experience design;\n",
        "- implementation (what technologies are the right tool to solve this problem? how can you write code that is easy to maintain, test and validate the correctness of?);\n",
        "- testing (unit testing, integration testing & end-to-end testing);\n",
        "- debugging (fixing parts of the codebase that do not work as intended);\n",
        "- static analysis (can we find and correct errors in our code at build-time?);\n",
        "- and so on.\n",
        "\n",
        "Understandably, you might wish to jump straight into learning about the latest and greatest machine learning models (as you will be able to in our upcoming tutorials!), but spending the time now to get a _solid_ foundation in Python and perhaps ideas from software engineering more broadly can be a fulfilling way of setting yourself up to tackle larger challenges.\n",
        "\n",
        "If you want to learn more about computer science, an excellent introduction is Harvard's [CS50](https://www.edx.org/cs50). They also have a 10-week course that focuses specifically on teaching Python, [CS50P](https://www.edx.org/course/cs50s-introduction-to-programming-with-python), rather than on computer science more broadly."
      ]
    }
  ],
  "metadata": {
    "kernelspec": {
      "display_name": "Python 3",
      "language": "python",
      "name": "python3"
    },
    "language_info": {
      "codemirror_mode": {
        "name": "ipython",
        "version": 3
      },
      "file_extension": ".py",
      "mimetype": "text/x-python",
      "name": "python",
      "nbconvert_exporter": "python",
      "pygments_lexer": "ipython3",
      "version": "3.11.1"
    },
    "orig_nbformat": 4,
    "vscode": {
      "interpreter": {
        "hash": "369f2c481f4da34e4445cda3fffd2e751bd1c4d706f27375911949ba6bb62e1c"
      }
    },
    "colab": {
      "provenance": [],
      "include_colab_link": true
    }
  },
  "nbformat": 4,
  "nbformat_minor": 0
}